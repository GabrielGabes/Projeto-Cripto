{
 "cells": [
  {
   "cell_type": "code",
   "execution_count": null,
   "metadata": {},
   "outputs": [],
   "source": []
  },
  {
   "cell_type": "code",
   "execution_count": null,
   "metadata": {},
   "outputs": [],
   "source": []
  },
  {
   "cell_type": "code",
   "execution_count": null,
   "metadata": {},
   "outputs": [],
   "source": []
  },
  {
   "cell_type": "code",
   "execution_count": null,
   "metadata": {},
   "outputs": [],
   "source": []
  },
  {
   "cell_type": "code",
   "execution_count": null,
   "metadata": {},
   "outputs": [],
   "source": []
  },
  {
   "cell_type": "code",
   "execution_count": null,
   "metadata": {},
   "outputs": [],
   "source": []
  },
  {
   "cell_type": "code",
   "execution_count": null,
   "metadata": {},
   "outputs": [],
   "source": []
  },
  {
   "cell_type": "code",
   "execution_count": null,
   "metadata": {},
   "outputs": [],
   "source": []
  },
  {
   "cell_type": "code",
   "execution_count": null,
   "metadata": {},
   "outputs": [],
   "source": []
  },
  {
   "cell_type": "code",
   "execution_count": null,
   "metadata": {},
   "outputs": [],
   "source": []
  },
  {
   "cell_type": "code",
   "execution_count": null,
   "metadata": {},
   "outputs": [],
   "source": []
  },
  {
   "cell_type": "code",
   "execution_count": null,
   "metadata": {},
   "outputs": [],
   "source": []
  },
  {
   "cell_type": "code",
   "execution_count": null,
   "metadata": {},
   "outputs": [],
   "source": []
  },
  {
   "cell_type": "code",
   "execution_count": null,
   "metadata": {},
   "outputs": [],
   "source": []
  },
  {
   "cell_type": "code",
   "execution_count": null,
   "metadata": {},
   "outputs": [],
   "source": []
  },
  {
   "cell_type": "code",
   "execution_count": null,
   "metadata": {},
   "outputs": [],
   "source": []
  },
  {
   "cell_type": "code",
   "execution_count": null,
   "metadata": {},
   "outputs": [],
   "source": []
  },
  {
   "cell_type": "code",
   "execution_count": null,
   "metadata": {},
   "outputs": [],
   "source": []
  },
  {
   "cell_type": "code",
   "execution_count": null,
   "metadata": {},
   "outputs": [],
   "source": []
  },
  {
   "cell_type": "code",
   "execution_count": null,
   "metadata": {},
   "outputs": [],
   "source": []
  },
  {
   "cell_type": "code",
   "execution_count": null,
   "metadata": {},
   "outputs": [],
   "source": []
  },
  {
   "cell_type": "code",
   "execution_count": null,
   "metadata": {},
   "outputs": [],
   "source": []
  },
  {
   "cell_type": "code",
   "execution_count": null,
   "metadata": {},
   "outputs": [],
   "source": []
  },
  {
   "cell_type": "code",
   "execution_count": 16,
   "metadata": {},
   "outputs": [
    {
     "data": {
      "text/plain": [
       "2.0"
      ]
     },
     "execution_count": 16,
     "metadata": {},
     "output_type": "execute_result"
    }
   ],
   "source": [
    "60/30"
   ]
  },
  {
   "cell_type": "code",
   "execution_count": null,
   "metadata": {},
   "outputs": [
    {
     "name": "stdout",
     "output_type": "stream",
     "text": [
      "60.0 1440.0 10080.0 40320.0\n",
      "20.0 480.0 3360.0 13440.0\n",
      "12.0 288.0 2016.0 8064.0\n",
      "4.0 96.0 672.0 2688.0\n",
      "2.0 48.0 336.0 1344.0\n"
     ]
    }
   ],
   "source": [
    "minutos(1)\n",
    "minutos(3)\n",
    "minutos(5)\n",
    "minutos(15)\n",
    "minutos(30)"
   ]
  },
  {
   "cell_type": "code",
   "execution_count": null,
   "metadata": {},
   "outputs": [
    {
     "name": "stdout",
     "output_type": "stream",
     "text": [
      "24.0 168.0 672.0\n",
      "12.0 84.0 336.0\n",
      "6.0 42.0 168.0\n",
      "4.0 28.0 112.0\n",
      "3.0 21.0 84.0\n",
      "2.0 14.0 56.0\n"
     ]
    }
   ],
   "source": [
    "horas(1)\n",
    "horas(2)\n",
    "horas(4)\n",
    "horas(6)\n",
    "horas(8)\n",
    "horas(12)"
   ]
  },
  {
   "cell_type": "code",
   "execution_count": 46,
   "metadata": {},
   "outputs": [
    {
     "name": "stdout",
     "output_type": "stream",
     "text": [
      "1m: 40320.0\n",
      "3m: 13440.0\n",
      "5m: 8064.0\n",
      "15m: 2688.0\n",
      "30m: 1344.0\n",
      "1h: 672.0\n",
      "2h: 336.0\n",
      "4h: 168.0\n",
      "6h: 112.0\n",
      "8h: 84.0\n",
      "12h: 56.0\n",
      "1d: 4\n",
      "1w: 28.0\n"
     ]
    }
   ],
   "source": [
    "def calculadora_candles(formato):\n",
    "    def minutos(minuto):\n",
    "        hora = 60/minuto\n",
    "        dia = hora * 24\n",
    "        semana = dia * 7\n",
    "        mes = semana * 4\n",
    "        return mes\n",
    "\n",
    "    def horas(hora):\n",
    "        dia = 24/hora\n",
    "        semana = dia * 7\n",
    "        mes = semana * 4\n",
    "        return mes\n",
    "\n",
    "    def semanas(semana):\n",
    "        mes = semana * 4\n",
    "        return mes\n",
    "\n",
    "    def dias(dia):\n",
    "        semana = 7/dia\n",
    "        mes = semana * 4\n",
    "        return mes\n",
    "    \n",
    "    tempo = int(formato[:-1])\n",
    "    if formato[-1] == 'm':\n",
    "        return minutos(tempo)\n",
    "    elif formato[-1] == 'h':\n",
    "        return horas(tempo)\n",
    "    elif formato[-1] == 'd':\n",
    "        return semanas(tempo)\n",
    "    elif formato[-1] == 'w':\n",
    "        return dias(tempo)\n",
    "    \n",
    "print('1m:', calculadora_candles('1m') )\n",
    "print('3m:', calculadora_candles('3m') )\n",
    "print('5m:', calculadora_candles('5m') )\n",
    "print('15m:', calculadora_candles('15m') )\n",
    "print('30m:', calculadora_candles('30m') )\n",
    "print('1h:', calculadora_candles('1h') )\n",
    "print('2h:', calculadora_candles('2h') )\n",
    "print('4h:', calculadora_candles('4h') )\n",
    "print('6h:', calculadora_candles('6h') )\n",
    "print('8h:', calculadora_candles('8h') )\n",
    "print('12h:', calculadora_candles('12h') )\n",
    "print('1d:', calculadora_candles('1d') )\n",
    "print('1w:', calculadora_candles('1w') )"
   ]
  },
  {
   "cell_type": "code",
   "execution_count": null,
   "metadata": {},
   "outputs": [
    {
     "name": "stdout",
     "output_type": "stream",
     "text": [
      "1m: 40320 candles no mês\n",
      "3m: 13440 candles no mês\n",
      "5m: 8064 candles no mês\n",
      "15m: 2688 candles no mês\n",
      "30m: 1344 candles no mês\n",
      "1h: 672 candles no mês\n",
      "2h: 336 candles no mês\n",
      "4h: 168 candles no mês\n",
      "6h: 112 candles no mês\n",
      "8h: 84 candles no mês\n",
      "12h: 56 candles no mês\n",
      "1d: 28 candles no mês\n",
      "1w: 4 candles no mês\n"
     ]
    }
   ],
   "source": [
    "def calculadora_candles(formato):\n",
    "    \"\"\"\n",
    "    Calcula a quantidade de candles em um mês baseado no intervalo de tempo fornecido.\n",
    "\n",
    "    :param formato: String indicando o intervalo (ex: '1m', '5m', '1h', '1d', '1w')\n",
    "    :return: Número de candles em um mês\n",
    "    \"\"\"\n",
    "    \n",
    "    # Mapeamento de conversão\n",
    "    conversao = {\n",
    "        'm': 60 * 24 * 7 * 4,  # Minutos → candles por mês\n",
    "        'h': 24 * 7 * 4,       # Horas → candles por mês\n",
    "        'd': 7 * 4,            # Dias → candles por mês\n",
    "        'w': 4                 # Semanas → candles por mês\n",
    "    }\n",
    "    \n",
    "    try:\n",
    "        tempo = int(formato[:-1])  # Pega a parte numérica\n",
    "        unidade = formato[-1]      # Pega a última letra (unidade)\n",
    "\n",
    "        if unidade in conversao:\n",
    "            resultado = conversao[unidade] / tempo\n",
    "            return int(resultado)  # Retorna o número de candles no mês\n",
    "        else:\n",
    "            raise ValueError(\"Formato inválido! Use 'm', 'h', 'd' ou 'w'.\")\n",
    "    \n",
    "    except ValueError as e:\n",
    "        return f\"Erro: {e}\"\n",
    "\n",
    "\n",
    "# Exemplos de uso:\n",
    "entradas = ['1m', '3m', '5m', '15m', '30m', '1h', '2h', '4h', '6h', '8h', '12h', '1d', '1w']\n",
    "for entrada in entradas:\n",
    "    print(f\"{entrada}: {calculadora_candles(entrada)} candles no mês\")"
   ]
  },
  {
   "cell_type": "code",
   "execution_count": null,
   "metadata": {},
   "outputs": [],
   "source": [
    "1MINUTE\n",
    "3MINUTE\n",
    "5MINUTE\n",
    "15MINUTE\n",
    "30MINUTE\n",
    "1HOUR\n",
    "2HOUR\n",
    "4HOUR\n",
    "6HOUR\n",
    "8HOUR\n",
    "12HOUR\n",
    "1DAY\n",
    "1WEEK"
   ]
  },
  {
   "cell_type": "code",
   "execution_count": null,
   "metadata": {},
   "outputs": [
    {
     "name": "stdout",
     "output_type": "stream",
     "text": [
      "1m (mes): 40320 candles\n",
      "1m (semana): 10080 candles\n",
      "1m (dia): 1440 candles\n",
      "==============================\n",
      "3m (mes): 13440 candles\n",
      "3m (semana): 3360 candles\n",
      "3m (dia): 480 candles\n",
      "==============================\n",
      "5m (mes): 8064 candles\n",
      "5m (semana): 2016 candles\n",
      "5m (dia): 288 candles\n",
      "==============================\n",
      "15m (mes): 2688 candles\n",
      "15m (semana): 672 candles\n",
      "15m (dia): 96 candles\n",
      "==============================\n",
      "30m (mes): 1344 candles\n",
      "30m (semana): 336 candles\n",
      "30m (dia): 48 candles\n",
      "==============================\n",
      "1h (mes): 672 candles\n",
      "1h (semana): 168 candles\n",
      "1h (dia): 24 candles\n",
      "==============================\n",
      "2h (mes): 336 candles\n",
      "2h (semana): 84 candles\n",
      "2h (dia): 12 candles\n",
      "==============================\n",
      "4h (mes): 168 candles\n",
      "4h (semana): 42 candles\n",
      "4h (dia): 6 candles\n",
      "==============================\n",
      "6h (mes): 112 candles\n",
      "6h (semana): 28 candles\n",
      "6h (dia): 4 candles\n",
      "==============================\n",
      "8h (mes): 84 candles\n",
      "8h (semana): 21 candles\n",
      "8h (dia): 3 candles\n",
      "==============================\n",
      "12h (mes): 56 candles\n",
      "12h (semana): 14 candles\n",
      "12h (dia): 2 candles\n",
      "==============================\n",
      "1d (mes): 28 candles\n",
      "1d (semana): 7 candles\n",
      "1d (dia): 1 candles\n",
      "==============================\n",
      "1w (mes): 4 candles\n",
      "1w (semana): 1 candles\n",
      "1w (dia): 0 candles\n",
      "==============================\n"
     ]
    }
   ],
   "source": [
    "def calculadora_candles(formato, saida=\"mes\"):\n",
    "    \"\"\"\n",
    "    Calcula a quantidade de candles em um determinado período (mês, semana ou dia).\n",
    "    \n",
    "    :param formato: String indicando o intervalo (ex: '1m', '5m', '1h', '1d', '1w')\n",
    "    :param saida: Define o período da saída ('mes', 'semana' ou 'dia'). Padrão: 'mes'\n",
    "    :return: Número de candles no período desejado\n",
    "    \"\"\"\n",
    "\n",
    "    # Mapeamento da conversão para um mês (4 semanas)\n",
    "    conversao = {\n",
    "        'm': 60 * 24 * 7 * 4,  # Minutos → candles por mês\n",
    "        'h': 24 * 7 * 4,       # Horas → candles por mês\n",
    "        'd': 7 * 4,            # Dias → candles por mês\n",
    "        'w': 4                 # Semanas → candles por mês\n",
    "    }\n",
    "    \n",
    "    try:\n",
    "        tempo = int(formato[:-1])  # Extrai a parte numérica\n",
    "        unidade = formato[-1]      # Extrai a unidade (m, h, d, w)\n",
    "\n",
    "        if unidade in conversao:\n",
    "            candles_por_mes = conversao[unidade] / tempo  # Cálculo base (candles por mês)\n",
    "\n",
    "            # Ajuste para diferentes saídas\n",
    "            if saida == \"mes\":\n",
    "                return int(candles_por_mes)\n",
    "            elif saida == \"semana\":\n",
    "                return int(candles_por_mes / 4)\n",
    "            elif saida == \"dia\":\n",
    "                return int(candles_por_mes / 28)  # Aproximadamente 28 dias por mês\n",
    "            else:\n",
    "                raise ValueError(\"Tipo de saída inválido! Escolha entre 'mes', 'semana' ou 'dia'.\")\n",
    "        \n",
    "        else:\n",
    "            raise ValueError(\"Formato inválido! Use 'm', 'h', 'd' ou 'w'.\")\n",
    "    \n",
    "    except ValueError as e:\n",
    "        return f\"Erro: {e}\"\n",
    "\n",
    "\n",
    "# Exemplos de uso:\n",
    "entradas = ['1m', '3m', '5m', '15m', '30m', '1h', '2h', '4h', '6h', '8h', '12h', '1d', '1w']\n",
    "tipos_saida = ['mes', 'semana', 'dia']\n",
    "\n",
    "# Teste para todas as combinações de entrada e saída\n",
    "for entrada in entradas:\n",
    "    for tipo in tipos_saida:\n",
    "        print(f\"{entrada} ({tipo}): {calculadora_candles(entrada, tipo)} candles\")\n",
    "    print('='*30)"
   ]
  },
  {
   "cell_type": "code",
   "execution_count": null,
   "metadata": {},
   "outputs": [],
   "source": []
  }
 ],
 "metadata": {
  "kernelspec": {
   "display_name": "base",
   "language": "python",
   "name": "python3"
  },
  "language_info": {
   "codemirror_mode": {
    "name": "ipython",
    "version": 3
   },
   "file_extension": ".py",
   "mimetype": "text/x-python",
   "name": "python",
   "nbconvert_exporter": "python",
   "pygments_lexer": "ipython3",
   "version": "3.12.4"
  }
 },
 "nbformat": 4,
 "nbformat_minor": 2
}
