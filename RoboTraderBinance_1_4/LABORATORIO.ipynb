{
 "cells": [
  {
   "cell_type": "code",
   "execution_count": null,
   "metadata": {},
   "outputs": [
    {
     "name": "stdout",
     "output_type": "stream",
     "text": [
      "(17521, 12)\n",
      "Index(['open_time', 'open', 'high', 'low', 'close', 'volume', 'close_time',\n",
      "       'quote_asset_volume', 'number_of_trades', 'taker_buy_base_asset_volume',\n",
      "       'taker_buy_quote_asset_volume', 'ignore'],\n",
      "      dtype='object')\n"
     ]
    },
    {
     "data": {
      "application/vnd.microsoft.datawrangler.viewer.v0+json": {
       "columns": [
        {
         "name": "index",
         "rawType": "int64",
         "type": "integer"
        },
        {
         "name": "open_time",
         "rawType": "datetime64[ns]",
         "type": "datetime"
        },
        {
         "name": "open",
         "rawType": "float64",
         "type": "float"
        },
        {
         "name": "high",
         "rawType": "float64",
         "type": "float"
        },
        {
         "name": "low",
         "rawType": "float64",
         "type": "float"
        },
        {
         "name": "close",
         "rawType": "float64",
         "type": "float"
        },
        {
         "name": "volume",
         "rawType": "float64",
         "type": "float"
        },
        {
         "name": "close_time",
         "rawType": "datetime64[ns]",
         "type": "datetime"
        },
        {
         "name": "quote_asset_volume",
         "rawType": "object",
         "type": "string"
        },
        {
         "name": "number_of_trades",
         "rawType": "int64",
         "type": "integer"
        },
        {
         "name": "taker_buy_base_asset_volume",
         "rawType": "object",
         "type": "string"
        },
        {
         "name": "taker_buy_quote_asset_volume",
         "rawType": "object",
         "type": "string"
        },
        {
         "name": "ignore",
         "rawType": "object",
         "type": "string"
        }
       ],
       "conversionMethod": "pd.DataFrame",
       "ref": "0f184c21-b063-492f-ae9b-7a487c8cd661",
       "rows": [
        [
         "0",
         "2024-01-01 00:00:00",
         "101.72",
         "102.79",
         "101.56",
         "102.07",
         "127086.65",
         "2024-01-01 00:29:59.999000",
         "12990356.38730000",
         "18341",
         "67927.45000000",
         "6943292.75650000",
         "0"
        ],
        [
         "1",
         "2024-01-01 00:30:00",
         "102.05",
         "102.5",
         "101.63",
         "101.96",
         "69594.28",
         "2024-01-01 00:59:59.999000",
         "7102629.18050000",
         "9115",
         "41767.50000000",
         "4263130.21400000",
         "0"
        ],
        [
         "2",
         "2024-01-01 01:00:00",
         "101.96",
         "102.56",
         "101.51",
         "102.38",
         "80512.63",
         "2024-01-01 01:29:59.999000",
         "8218738.21130000",
         "9520",
         "42598.80000000",
         "4350833.14500000",
         "0"
        ],
        [
         "3",
         "2024-01-01 01:30:00",
         "102.38",
         "104.75",
         "102.38",
         "104.12",
         "161582.7",
         "2024-01-01 01:59:59.999000",
         "16804604.27530000",
         "21544",
         "90079.75000000",
         "9364211.96820000",
         "0"
        ],
        [
         "4",
         "2024-01-01 02:00:00",
         "104.11",
         "104.21",
         "103.22",
         "103.59",
         "66037.45",
         "2024-01-01 02:29:59.999000",
         "6840319.51360000",
         "8602",
         "32645.95000000",
         "3380822.83680000",
         "0"
        ]
       ],
       "shape": {
        "columns": 12,
        "rows": 5
       }
      },
      "text/html": [
       "<div>\n",
       "<style scoped>\n",
       "    .dataframe tbody tr th:only-of-type {\n",
       "        vertical-align: middle;\n",
       "    }\n",
       "\n",
       "    .dataframe tbody tr th {\n",
       "        vertical-align: top;\n",
       "    }\n",
       "\n",
       "    .dataframe thead th {\n",
       "        text-align: right;\n",
       "    }\n",
       "</style>\n",
       "<table border=\"1\" class=\"dataframe\">\n",
       "  <thead>\n",
       "    <tr style=\"text-align: right;\">\n",
       "      <th></th>\n",
       "      <th>open_time</th>\n",
       "      <th>open</th>\n",
       "      <th>high</th>\n",
       "      <th>low</th>\n",
       "      <th>close</th>\n",
       "      <th>volume</th>\n",
       "      <th>close_time</th>\n",
       "      <th>quote_asset_volume</th>\n",
       "      <th>number_of_trades</th>\n",
       "      <th>taker_buy_base_asset_volume</th>\n",
       "      <th>taker_buy_quote_asset_volume</th>\n",
       "      <th>ignore</th>\n",
       "    </tr>\n",
       "  </thead>\n",
       "  <tbody>\n",
       "    <tr>\n",
       "      <th>0</th>\n",
       "      <td>2024-01-01 00:00:00</td>\n",
       "      <td>101.72</td>\n",
       "      <td>102.79</td>\n",
       "      <td>101.56</td>\n",
       "      <td>102.07</td>\n",
       "      <td>127086.65</td>\n",
       "      <td>2024-01-01 00:29:59.999</td>\n",
       "      <td>12990356.38730000</td>\n",
       "      <td>18341</td>\n",
       "      <td>67927.45000000</td>\n",
       "      <td>6943292.75650000</td>\n",
       "      <td>0</td>\n",
       "    </tr>\n",
       "    <tr>\n",
       "      <th>1</th>\n",
       "      <td>2024-01-01 00:30:00</td>\n",
       "      <td>102.05</td>\n",
       "      <td>102.50</td>\n",
       "      <td>101.63</td>\n",
       "      <td>101.96</td>\n",
       "      <td>69594.28</td>\n",
       "      <td>2024-01-01 00:59:59.999</td>\n",
       "      <td>7102629.18050000</td>\n",
       "      <td>9115</td>\n",
       "      <td>41767.50000000</td>\n",
       "      <td>4263130.21400000</td>\n",
       "      <td>0</td>\n",
       "    </tr>\n",
       "    <tr>\n",
       "      <th>2</th>\n",
       "      <td>2024-01-01 01:00:00</td>\n",
       "      <td>101.96</td>\n",
       "      <td>102.56</td>\n",
       "      <td>101.51</td>\n",
       "      <td>102.38</td>\n",
       "      <td>80512.63</td>\n",
       "      <td>2024-01-01 01:29:59.999</td>\n",
       "      <td>8218738.21130000</td>\n",
       "      <td>9520</td>\n",
       "      <td>42598.80000000</td>\n",
       "      <td>4350833.14500000</td>\n",
       "      <td>0</td>\n",
       "    </tr>\n",
       "    <tr>\n",
       "      <th>3</th>\n",
       "      <td>2024-01-01 01:30:00</td>\n",
       "      <td>102.38</td>\n",
       "      <td>104.75</td>\n",
       "      <td>102.38</td>\n",
       "      <td>104.12</td>\n",
       "      <td>161582.70</td>\n",
       "      <td>2024-01-01 01:59:59.999</td>\n",
       "      <td>16804604.27530000</td>\n",
       "      <td>21544</td>\n",
       "      <td>90079.75000000</td>\n",
       "      <td>9364211.96820000</td>\n",
       "      <td>0</td>\n",
       "    </tr>\n",
       "    <tr>\n",
       "      <th>4</th>\n",
       "      <td>2024-01-01 02:00:00</td>\n",
       "      <td>104.11</td>\n",
       "      <td>104.21</td>\n",
       "      <td>103.22</td>\n",
       "      <td>103.59</td>\n",
       "      <td>66037.45</td>\n",
       "      <td>2024-01-01 02:29:59.999</td>\n",
       "      <td>6840319.51360000</td>\n",
       "      <td>8602</td>\n",
       "      <td>32645.95000000</td>\n",
       "      <td>3380822.83680000</td>\n",
       "      <td>0</td>\n",
       "    </tr>\n",
       "  </tbody>\n",
       "</table>\n",
       "</div>"
      ],
      "text/plain": [
       "            open_time    open    high     low   close     volume  \\\n",
       "0 2024-01-01 00:00:00  101.72  102.79  101.56  102.07  127086.65   \n",
       "1 2024-01-01 00:30:00  102.05  102.50  101.63  101.96   69594.28   \n",
       "2 2024-01-01 01:00:00  101.96  102.56  101.51  102.38   80512.63   \n",
       "3 2024-01-01 01:30:00  102.38  104.75  102.38  104.12  161582.70   \n",
       "4 2024-01-01 02:00:00  104.11  104.21  103.22  103.59   66037.45   \n",
       "\n",
       "               close_time quote_asset_volume  number_of_trades  \\\n",
       "0 2024-01-01 00:29:59.999  12990356.38730000             18341   \n",
       "1 2024-01-01 00:59:59.999   7102629.18050000              9115   \n",
       "2 2024-01-01 01:29:59.999   8218738.21130000              9520   \n",
       "3 2024-01-01 01:59:59.999  16804604.27530000             21544   \n",
       "4 2024-01-01 02:29:59.999   6840319.51360000              8602   \n",
       "\n",
       "  taker_buy_base_asset_volume taker_buy_quote_asset_volume ignore  \n",
       "0              67927.45000000             6943292.75650000      0  \n",
       "1              41767.50000000             4263130.21400000      0  \n",
       "2              42598.80000000             4350833.14500000      0  \n",
       "3              90079.75000000             9364211.96820000      0  \n",
       "4              32645.95000000             3380822.83680000      0  "
      ]
     },
     "metadata": {},
     "output_type": "display_data"
    }
   ],
   "source": [
    "# Instale a biblioteca se ainda não a tiver:\n",
    "# pip install python-binance\n",
    "\n",
    "from binance.client import Client\n",
    "import pandas as pd\n",
    "\n",
    "# Se necessário, insira suas credenciais (algumas funções podem ser acessadas sem chave, mas é recomendável utilizar a API key para evitar limitações)\n",
    "api_key = 'SUA_API_KEY'\n",
    "api_secret = 'SEU_API_SECRET'\n",
    "client = Client(api_key, api_secret)\n",
    "\n",
    "def carregando_dados_historicos(moeda, interval, start_str):\n",
    "    # Obtenha os dados históricos de SOL/USDT\n",
    "    klines = client.get_historical_klines(moeda, interval, start_str, end_str)\n",
    "\n",
    "    # Converta os dados para um DataFrame do pandas e nomeie as colunas\n",
    "    df = pd.DataFrame(klines, columns=[\n",
    "        'open_time', 'open', 'high', 'low', 'close', 'volume'\n",
    "    ])\n",
    "\n",
    "    # Converta os timestamps de milissegundos para datetime\n",
    "    df['open_time'] = pd.to_datetime(df['open_time'], unit='ms')\n",
    "    df['close_time'] = pd.to_datetime(df['close_time'], unit='ms')\n",
    "\n",
    "    # Converta as colunas de valores para numéricas\n",
    "    for col in ['open', 'high', 'low', 'close', 'volume']:\n",
    "        df[col] = pd.to_numeric(df[col])\n",
    "\n",
    "    return df\n",
    "\n",
    "carregando_dados_historicos(\"SOLUSDT\", Client.KLINE_INTERVAL_30MINUTE,\n",
    "                            \"2024-01-01\", \"2024-12-31\")"
   ]
  },
  {
   "cell_type": "code",
   "execution_count": 6,
   "metadata": {},
   "outputs": [
    {
     "name": "stdout",
     "output_type": "stream",
     "text": [
      "frase teste=num\n"
     ]
    }
   ],
   "source": [
    "texto = 'frase teste'\n",
    "texto2 = 'num'\n",
    "print(texto + \"=\" + texto2)"
   ]
  },
  {
   "cell_type": "code",
   "execution_count": 5,
   "metadata": {},
   "outputs": [
    {
     "data": {
      "text/plain": [
       "'=========frase teste=========='"
      ]
     },
     "execution_count": 5,
     "metadata": {},
     "output_type": "execute_result"
    }
   ],
   "source": [
    "texto.center(30, '=')"
   ]
  },
  {
   "cell_type": "code",
   "execution_count": 7,
   "metadata": {},
   "outputs": [
    {
     "name": "stdout",
     "output_type": "stream",
     "text": [
      "frase teste====================================num\n"
     ]
    }
   ],
   "source": [
    "texto = 'frase teste'\n",
    "texto2 = 'num'\n",
    "largura_total = 50\n",
    "\n",
    "# Calcula quantos \"=\" são necessários\n",
    "tam_textos = len(texto) + len(texto2) + 1  # Soma os tamanhos e o \"=\" entre eles\n",
    "qtd_igual = largura_total - tam_textos  # Quantidade de \"=\" restantes\n",
    "\n",
    "# Garante que os \"=\" fiquem distribuídos entre as frases\n",
    "preenchimento = \"=\" * qtd_igual\n",
    "\n",
    "# Formata a string final\n",
    "resultado = texto + preenchimento + \"=\" + texto2\n",
    "print(resultado)\n"
   ]
  },
  {
   "cell_type": "code",
   "execution_count": null,
   "metadata": {},
   "outputs": [
    {
     "data": {
      "text/plain": [
       "'XRP =========== 8'"
      ]
     },
     "execution_count": 4,
     "metadata": {},
     "output_type": "execute_result"
    }
   ],
   "source": [
    "def frase_dict(texto, texto2, largura_total=20):\n",
    "    # Calcula quantos \"=\" são necessários\n",
    "    tam_textos = len(str(texto)) + len(str(texto2)) + 1  # Soma os tamanhos e o \"=\" entre eles\n",
    "    qtd_igual = largura_total - tam_textos  # Quantidade de \"=\" restantes\n",
    "\n",
    "    # Garante que os \"=\" fiquem distribuídos entre as frases\n",
    "    preenchimento = \"=\" * qtd_igual\n",
    "\n",
    "    # Formata a string final\n",
    "    resultado = str(texto) + \" \" + preenchimento + \"=\" + \" \" + str(texto2)\n",
    "    return resultado\n",
    "\n",
    "frase_dict('XRP', 8)"
   ]
  },
  {
   "cell_type": "code",
   "execution_count": null,
   "metadata": {},
   "outputs": [],
   "source": []
  },
  {
   "cell_type": "code",
   "execution_count": null,
   "metadata": {},
   "outputs": [],
   "source": []
  },
  {
   "cell_type": "code",
   "execution_count": null,
   "metadata": {},
   "outputs": [],
   "source": []
  },
  {
   "cell_type": "code",
   "execution_count": null,
   "metadata": {},
   "outputs": [],
   "source": []
  }
 ],
 "metadata": {
  "kernelspec": {
   "display_name": "base",
   "language": "python",
   "name": "python3"
  },
  "language_info": {
   "codemirror_mode": {
    "name": "ipython",
    "version": 3
   },
   "file_extension": ".py",
   "mimetype": "text/x-python",
   "name": "python",
   "nbconvert_exporter": "python",
   "pygments_lexer": "ipython3",
   "version": "3.12.4"
  }
 },
 "nbformat": 4,
 "nbformat_minor": 2
}
