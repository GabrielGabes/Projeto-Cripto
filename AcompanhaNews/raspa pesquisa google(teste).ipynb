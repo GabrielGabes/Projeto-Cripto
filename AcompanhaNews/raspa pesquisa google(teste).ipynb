{
 "cells": [
  {
   "cell_type": "code",
   "execution_count": 1,
   "id": "5e1da42b",
   "metadata": {},
   "outputs": [],
   "source": [
    "from selenium import webdriver\n",
    "from selenium.webdriver.chrome.service import Service\n",
    "from selenium.webdriver.common.by import By\n",
    "from selenium.webdriver.common.keys import Keys\n",
    "\n",
    "from webdriver_manager.chrome import ChromeDriverManager\n",
    "from selenium.webdriver.chrome.options import Options\n",
    "\n",
    "from bs4 import BeautifulSoup\n",
    "import time\n",
    "\n",
    "chrome_options = Options()\n",
    "# chrome_options.add_argument(\"--headless\")  # remove se quiser ver o navegador\n",
    "chrome_options.add_argument(\"--disable-gpu\")\n",
    "chrome_options.add_argument(\"--no-sandbox\")\n",
    "chrome_options.add_argument(\"--window-size=1920x1080\")\n",
    "\n",
    "driver = webdriver.Chrome(service=Service(ChromeDriverManager().install()), options=chrome_options)"
   ]
  },
  {
   "cell_type": "code",
   "execution_count": 2,
   "id": "d068c766",
   "metadata": {},
   "outputs": [],
   "source": [
    "def buscar_noticias(termo_busca, intervalo=\"1h\"):\n",
    "    # opções de intervalo \n",
    "    # 'Última hora':'1h',\n",
    "    # 'Últimas 24 horas': '1d',\n",
    "    # 'Última semana':'7d',\n",
    "    termo_url = termo_busca.replace(\" \", \"%20\")\n",
    "    url = f\"https://news.google.com/search?q={termo_url}%20when%3A{intervalo}&hl=pt-BR&gl=BR&ceid=BR%3Apt-419\"\n",
    "    driver.get(url)"
   ]
  },
  {
   "cell_type": "code",
   "execution_count": 3,
   "id": "d052b45a",
   "metadata": {},
   "outputs": [],
   "source": [
    "def extrair_noticias():\n",
    "    # Pega o HTML da página e processa com BS4\n",
    "    html = driver.find_element(\"xpath\", \"/html\").get_attribute(\"outerHTML\")\n",
    "    soup = BeautifulSoup(html, \"html.parser\")\n",
    "    resultados = []\n",
    "\n",
    "    for artigo in soup.select(\"article\"):\n",
    "        try:\n",
    "            # Título e link\n",
    "            a_tag = artigo.select_one(\"a.JtKRv\")\n",
    "            if not a_tag:\n",
    "                continue\n",
    "            titulo = a_tag.get_text(strip=True)\n",
    "            link = a_tag.get(\"href\")\n",
    "            if link.startswith(\"./\"):\n",
    "                link = \"https://news.google.com\" + link[1:]\n",
    "\n",
    "            # Site de origem\n",
    "            site_elem = artigo.select_one(\"div.vr1PYe\")\n",
    "            site = site_elem.get_text(strip=True) if site_elem else \"Site desconhecido\"\n",
    "\n",
    "            # Tempo publicado\n",
    "            tempo_elem = artigo.select_one(\"time.hvbAAd\")\n",
    "            tempo_texto = tempo_elem.get_text(strip=True) if tempo_elem else \"Tempo não disponível\"\n",
    "            tempo_data = tempo_elem.get(\"datetime\") if tempo_elem and tempo_elem.has_attr(\"datetime\") else None\n",
    "\n",
    "            resultados.append({\n",
    "                \"titulo\": titulo,\n",
    "                \"site\": site,\n",
    "                \"tempo\": tempo_texto,\n",
    "                \"data_iso\": tempo_data,\n",
    "                \"link\": link\n",
    "            })\n",
    "\n",
    "        except Exception as e:\n",
    "            continue\n",
    "\n",
    "    return resultados"
   ]
  },
  {
   "cell_type": "code",
   "execution_count": 4,
   "id": "115791f6",
   "metadata": {},
   "outputs": [],
   "source": [
    "def formatar_linha_estilo_telegram(df, linha):\n",
    "    dados = df.iloc[linha]\n",
    "\n",
    "    return (\n",
    "        f\"<b>📰 {dados['titulo']}</b>\\n\"\n",
    "        f\"<b>🌐 Site:</b> {dados['site']}\\n\"\n",
    "        f\"<b>⏱ Tempo:</b> {dados['tempo']}\\n\"\n",
    "        f\"<b>📅 Data ISO:</b> {dados['data_iso']}\\n\"\n",
    "        f\"<a href=\\\"{dados['link']}\\\">🔗 Link</a>\"\n",
    "    )\n",
    "\n",
    "import requests\n",
    "import time\n",
    "import datetime\n",
    "\n",
    "# Substitua pelos seus valores\n",
    "TELEGRAM_BOT_TOKEN = \"7446801344:AAHenxPWZzBffuowmaTWISyksUIsvBltkIg\"\n",
    "CHAT_ID = \"-4628628345\"\n",
    "\n",
    "def send_telegram_message(message):\n",
    "    url = f\"https://api.telegram.org/bot{TELEGRAM_BOT_TOKEN}/sendMessage\"\n",
    "    data = {\n",
    "            \"chat_id\": CHAT_ID, \n",
    "            \"text\": message,\n",
    "            \"parse_mode\": \"HTML\",\n",
    "            # disable_web_page_preview=True  # opcional: oculta o preview do link\n",
    "            }\n",
    "    requests.post(url, data=data)"
   ]
  },
  {
   "cell_type": "code",
   "execution_count": 5,
   "id": "9a860925",
   "metadata": {},
   "outputs": [],
   "source": [
    "import pandas as pd\n",
    "import numpy as np\n",
    "\n",
    "#ignorando Warning inuteis\n",
    "import warnings \n",
    "from pandas.errors import SettingWithCopyWarning\n",
    "warnings.simplefilter(action=\"ignore\", category=SettingWithCopyWarning)\n",
    "warnings.filterwarnings(action='ignore', category=FutureWarning)\n",
    "warnings.simplefilter(action='ignore', category=UserWarning)"
   ]
  },
  {
   "cell_type": "code",
   "execution_count": 6,
   "id": "595e0471",
   "metadata": {},
   "outputs": [],
   "source": [
    "import time\n",
    "fd = pd.read_csv('registros_noticias.csv', sep=';')\n",
    "\n",
    "def pesquisa_completa(pesquisa, periodo='1h'):\n",
    "    global fd  # adiciona essa linha\n",
    "    \n",
    "    buscar_noticias(pesquisa, periodo)\n",
    "    time.sleep(3)\n",
    "    noticias = extrair_noticias()\n",
    "\n",
    "    if noticias == []:\n",
    "        pass\n",
    "    else:\n",
    "        df = pd.DataFrame(noticias)\n",
    "        df['pesquisa'] = pesquisa\n",
    "\n",
    "        # verificando se já há registro desta noticia no sistema\n",
    "        for linha in range(len(df)):\n",
    "            filtro = (fd['titulo'] == df['titulo'][linha]) & (fd['site'] == df['site'][linha])\n",
    "            if len(fd[filtro]) >= 1:\n",
    "                df = df.drop(linha, axis=0)\n",
    "\n",
    "        df = df.reset_index(drop=True)\n",
    "        \n",
    "        # se ainda sobrar alguma noticia, mande mensagem para o telegram\n",
    "        if len(df) > 0:\n",
    "            mensagem_final = ''\n",
    "            fd = pd.concat([fd, df], axis=0).reset_index(drop=True)\n",
    "            for linha in df.index:\n",
    "                    mensagem = formatar_linha_estilo_telegram(df, linha)\n",
    "                    mensagem_final = mensagem_final + '\\n' + '*'*40 + '\\n' + mensagem\n",
    "            send_telegram_message(mensagem_final)\n",
    "\n",
    "pesquisa_completa('Israel', periodo='1h')"
   ]
  },
  {
   "cell_type": "code",
   "execution_count": 7,
   "id": "de8b4abb",
   "metadata": {},
   "outputs": [],
   "source": [
    "def salvando_planilha_registros():\n",
    "    fd.to_csv('registros_noticias.csv', sep=';', index=False)"
   ]
  },
  {
   "cell_type": "code",
   "execution_count": 8,
   "id": "9493667b",
   "metadata": {},
   "outputs": [
    {
     "ename": "ModuleNotFoundError",
     "evalue": "No module named 'schedule'",
     "output_type": "error",
     "traceback": [
      "\u001b[1;31m---------------------------------------------------------------------------\u001b[0m",
      "\u001b[1;31mModuleNotFoundError\u001b[0m                       Traceback (most recent call last)",
      "Cell \u001b[1;32mIn[8], line 1\u001b[0m\n\u001b[1;32m----> 1\u001b[0m \u001b[38;5;28;01mimport\u001b[39;00m \u001b[38;5;21;01mschedule\u001b[39;00m\n\u001b[0;32m      3\u001b[0m \u001b[38;5;66;03m# Agendamentos\u001b[39;00m\n\u001b[0;32m      4\u001b[0m schedule\u001b[38;5;241m.\u001b[39mevery(\u001b[38;5;241m5\u001b[39m)\u001b[38;5;241m.\u001b[39mminutes\u001b[38;5;241m.\u001b[39mdo(\u001b[38;5;28;01mlambda\u001b[39;00m: pesquisa_completa(\u001b[38;5;124m'\u001b[39m\u001b[38;5;124mcryptos\u001b[39m\u001b[38;5;124m'\u001b[39m))\n",
      "\u001b[1;31mModuleNotFoundError\u001b[0m: No module named 'schedule'"
     ]
    }
   ],
   "source": [
    "import schedule\n",
    "\n",
    "# Agendamentos\n",
    "schedule.every(5).minutes.do(lambda: pesquisa_completa('cryptos'))\n",
    "schedule.every().hour.at(\":00\").do(salvando_planilha_registros)\n",
    "\n",
    "while True:\n",
    "    schedule.run_pending()  # Executa a próxima função agendada, se houver\n",
    "    time.sleep(1)           # Aguarda 1 segundo antes de verificar novamente"
   ]
  },
  {
   "cell_type": "code",
   "execution_count": null,
   "id": "df54e077",
   "metadata": {},
   "outputs": [],
   "source": []
  }
 ],
 "metadata": {
  "kernelspec": {
   "display_name": "base",
   "language": "python",
   "name": "python3"
  },
  "language_info": {
   "codemirror_mode": {
    "name": "ipython",
    "version": 3
   },
   "file_extension": ".py",
   "mimetype": "text/x-python",
   "name": "python",
   "nbconvert_exporter": "python",
   "pygments_lexer": "ipython3",
   "version": "3.12.4"
  }
 },
 "nbformat": 4,
 "nbformat_minor": 5
}
