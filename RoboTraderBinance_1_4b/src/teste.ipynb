{
 "cells": [
  {
   "cell_type": "code",
   "execution_count": 15,
   "id": "37fb5226",
   "metadata": {},
   "outputs": [
    {
     "data": {
      "text/html": [
       "<div>\n",
       "<style scoped>\n",
       "    .dataframe tbody tr th:only-of-type {\n",
       "        vertical-align: middle;\n",
       "    }\n",
       "\n",
       "    .dataframe tbody tr th {\n",
       "        vertical-align: top;\n",
       "    }\n",
       "\n",
       "    .dataframe thead th {\n",
       "        text-align: right;\n",
       "    }\n",
       "</style>\n",
       "<table border=\"1\" class=\"dataframe\">\n",
       "  <thead>\n",
       "    <tr style=\"text-align: right;\">\n",
       "      <th></th>\n",
       "      <th>X1</th>\n",
       "      <th>Y_lag1</th>\n",
       "      <th>Y_lag2</th>\n",
       "      <th>Y</th>\n",
       "    </tr>\n",
       "  </thead>\n",
       "  <tbody>\n",
       "    <tr>\n",
       "      <th>3</th>\n",
       "      <td>0.620434</td>\n",
       "      <td>1.006138</td>\n",
       "      <td>0.358450</td>\n",
       "      <td>2.529168</td>\n",
       "    </tr>\n",
       "    <tr>\n",
       "      <th>4</th>\n",
       "      <td>1.297919</td>\n",
       "      <td>2.529168</td>\n",
       "      <td>1.006138</td>\n",
       "      <td>2.295015</td>\n",
       "    </tr>\n",
       "    <tr>\n",
       "      <th>5</th>\n",
       "      <td>1.943441</td>\n",
       "      <td>2.295015</td>\n",
       "      <td>2.529168</td>\n",
       "      <td>2.060878</td>\n",
       "    </tr>\n",
       "    <tr>\n",
       "      <th>6</th>\n",
       "      <td>2.295020</td>\n",
       "      <td>2.060878</td>\n",
       "      <td>2.295015</td>\n",
       "      <td>3.640091</td>\n",
       "    </tr>\n",
       "    <tr>\n",
       "      <th>7</th>\n",
       "      <td>2.665328</td>\n",
       "      <td>3.640091</td>\n",
       "      <td>2.060878</td>\n",
       "      <td>4.407525</td>\n",
       "    </tr>\n",
       "    <tr>\n",
       "      <th>...</th>\n",
       "      <td>...</td>\n",
       "      <td>...</td>\n",
       "      <td>...</td>\n",
       "      <td>...</td>\n",
       "    </tr>\n",
       "    <tr>\n",
       "      <th>994</th>\n",
       "      <td>18.711892</td>\n",
       "      <td>18.174843</td>\n",
       "      <td>18.856827</td>\n",
       "      <td>17.173223</td>\n",
       "    </tr>\n",
       "    <tr>\n",
       "      <th>995</th>\n",
       "      <td>18.068298</td>\n",
       "      <td>17.173223</td>\n",
       "      <td>18.174843</td>\n",
       "      <td>16.892123</td>\n",
       "    </tr>\n",
       "    <tr>\n",
       "      <th>996</th>\n",
       "      <td>17.413396</td>\n",
       "      <td>16.892123</td>\n",
       "      <td>17.173223</td>\n",
       "      <td>18.689809</td>\n",
       "    </tr>\n",
       "    <tr>\n",
       "      <th>997</th>\n",
       "      <td>17.585052</td>\n",
       "      <td>18.689809</td>\n",
       "      <td>16.892123</td>\n",
       "      <td>19.330652</td>\n",
       "    </tr>\n",
       "    <tr>\n",
       "      <th>998</th>\n",
       "      <td>18.304195</td>\n",
       "      <td>19.330652</td>\n",
       "      <td>18.689809</td>\n",
       "      <td>18.759473</td>\n",
       "    </tr>\n",
       "  </tbody>\n",
       "</table>\n",
       "<p>996 rows × 4 columns</p>\n",
       "</div>"
      ],
      "text/plain": [
       "            X1     Y_lag1     Y_lag2          Y\n",
       "3     0.620434   1.006138   0.358450   2.529168\n",
       "4     1.297919   2.529168   1.006138   2.295015\n",
       "5     1.943441   2.295015   2.529168   2.060878\n",
       "6     2.295020   2.060878   2.295015   3.640091\n",
       "7     2.665328   3.640091   2.060878   4.407525\n",
       "..         ...        ...        ...        ...\n",
       "994  18.711892  18.174843  18.856827  17.173223\n",
       "995  18.068298  17.173223  18.174843  16.892123\n",
       "996  17.413396  16.892123  17.173223  18.689809\n",
       "997  17.585052  18.689809  16.892123  19.330652\n",
       "998  18.304195  19.330652  18.689809  18.759473\n",
       "\n",
       "[996 rows x 4 columns]"
      ]
     },
     "execution_count": 15,
     "metadata": {},
     "output_type": "execute_result"
    }
   ],
   "source": [
    "import numpy as np\n",
    "import pandas as pd\n",
    "from xgboost import XGBRegressor\n",
    "\n",
    "# Simulação de série temporal\n",
    "np.random.seed(42)\n",
    "N = 1000\n",
    "df = pd.DataFrame({'Y': np.random.randn(N).cumsum()})\n",
    "\n",
    "# Indicador: média móvel\n",
    "df['X1'] = df['Y'].rolling(window=3).mean().shift(1)\n",
    "\n",
    "# Lags\n",
    "df['Y_lag1'] = df['Y'].shift(1)\n",
    "df['Y_lag2'] = df['Y'].shift(2)\n",
    "\n",
    "df.dropna(inplace=True)\n",
    "\n",
    "# Split em treino + último registro para previsão futura\n",
    "train = df.iloc[:-1]\n",
    "last_row = df.iloc[-1:]\n",
    "\n",
    "X_train = train[['X1', 'Y_lag1', 'Y_lag2']]\n",
    "y_train = train['Y']\n",
    "\n",
    "# Treinamento\n",
    "model = XGBRegressor()\n",
    "model.fit(X_train, y_train)\n",
    "\n",
    "df.head()\n",
    "pd.concat([X_train, y_train], axis=1)"
   ]
  },
  {
   "cell_type": "code",
   "execution_count": 16,
   "id": "e33b9788",
   "metadata": {},
   "outputs": [
    {
     "data": {
      "text/html": [
       "<div>\n",
       "<style scoped>\n",
       "    .dataframe tbody tr th:only-of-type {\n",
       "        vertical-align: middle;\n",
       "    }\n",
       "\n",
       "    .dataframe tbody tr th {\n",
       "        vertical-align: top;\n",
       "    }\n",
       "\n",
       "    .dataframe thead th {\n",
       "        text-align: right;\n",
       "    }\n",
       "</style>\n",
       "<table border=\"1\" class=\"dataframe\">\n",
       "  <thead>\n",
       "    <tr style=\"text-align: right;\">\n",
       "      <th></th>\n",
       "      <th>X1</th>\n",
       "      <th>Y_lag1</th>\n",
       "      <th>Y_lag2</th>\n",
       "    </tr>\n",
       "  </thead>\n",
       "  <tbody>\n",
       "    <tr>\n",
       "      <th>0</th>\n",
       "      <td>18.926645</td>\n",
       "      <td>19.332056</td>\n",
       "      <td>18.759473</td>\n",
       "    </tr>\n",
       "  </tbody>\n",
       "</table>\n",
       "</div>"
      ],
      "text/plain": [
       "          X1     Y_lag1     Y_lag2\n",
       "0  18.926645  19.332056  18.759473"
      ]
     },
     "metadata": {},
     "output_type": "display_data"
    },
    {
     "data": {
      "text/html": [
       "<div>\n",
       "<style scoped>\n",
       "    .dataframe tbody tr th:only-of-type {\n",
       "        vertical-align: middle;\n",
       "    }\n",
       "\n",
       "    .dataframe tbody tr th {\n",
       "        vertical-align: top;\n",
       "    }\n",
       "\n",
       "    .dataframe thead th {\n",
       "        text-align: right;\n",
       "    }\n",
       "</style>\n",
       "<table border=\"1\" class=\"dataframe\">\n",
       "  <thead>\n",
       "    <tr style=\"text-align: right;\">\n",
       "      <th></th>\n",
       "      <th>X1</th>\n",
       "      <th>Y_lag1</th>\n",
       "      <th>Y_lag2</th>\n",
       "    </tr>\n",
       "  </thead>\n",
       "  <tbody>\n",
       "    <tr>\n",
       "      <th>0</th>\n",
       "      <td>18.725618</td>\n",
       "      <td>18.4224</td>\n",
       "      <td>19.332056</td>\n",
       "    </tr>\n",
       "  </tbody>\n",
       "</table>\n",
       "</div>"
      ],
      "text/plain": [
       "          X1   Y_lag1     Y_lag2\n",
       "0  18.725618  18.4224  19.332056"
      ]
     },
     "metadata": {},
     "output_type": "display_data"
    },
    {
     "data": {
      "text/html": [
       "<div>\n",
       "<style scoped>\n",
       "    .dataframe tbody tr th:only-of-type {\n",
       "        vertical-align: middle;\n",
       "    }\n",
       "\n",
       "    .dataframe tbody tr th {\n",
       "        vertical-align: top;\n",
       "    }\n",
       "\n",
       "    .dataframe thead th {\n",
       "        text-align: right;\n",
       "    }\n",
       "</style>\n",
       "<table border=\"1\" class=\"dataframe\">\n",
       "  <thead>\n",
       "    <tr style=\"text-align: right;\">\n",
       "      <th></th>\n",
       "      <th>X1</th>\n",
       "      <th>Y_lag1</th>\n",
       "      <th>Y_lag2</th>\n",
       "    </tr>\n",
       "  </thead>\n",
       "  <tbody>\n",
       "    <tr>\n",
       "      <th>0</th>\n",
       "      <td>19.543022</td>\n",
       "      <td>20.103334</td>\n",
       "      <td>18.4224</td>\n",
       "    </tr>\n",
       "  </tbody>\n",
       "</table>\n",
       "</div>"
      ],
      "text/plain": [
       "          X1     Y_lag1   Y_lag2\n",
       "0  19.543022  20.103334  18.4224"
      ]
     },
     "metadata": {},
     "output_type": "display_data"
    },
    {
     "name": "stdout",
     "output_type": "stream",
     "text": [
      "[18.4224, 20.103334, 20.534325]\n"
     ]
    }
   ],
   "source": [
    "# Forecast 3 steps ahead (iterativo):\n",
    "forecast_steps = 3\n",
    "predictions = []\n",
    "\n",
    "current_Y_lag1 = last_row['Y'].values[0]\n",
    "current_Y_lag2 = last_row['Y_lag1'].values[0]\n",
    "current_X1 = last_row['X1'].values[0]\n",
    "\n",
    "for step in range(forecast_steps):\n",
    "    # Monta X para próximo passo\n",
    "    X_next = pd.DataFrame({\n",
    "        'X1': [current_X1],\n",
    "        'Y_lag1': [current_Y_lag1],\n",
    "        'Y_lag2': [current_Y_lag2]\n",
    "    })\n",
    "    display(X_next)\n",
    "    \n",
    "    # Faz previsão\n",
    "    y_pred = model.predict(X_next)[0]\n",
    "    predictions.append(y_pred)\n",
    "    \n",
    "    # Atualiza lags para próxima iteração\n",
    "    current_Y_lag2 = current_Y_lag1\n",
    "    current_Y_lag1 = y_pred\n",
    "    current_X1 = np.mean([y_pred, current_Y_lag1, current_Y_lag2])  # Exemplo simples de atualização de média móvel \"na mão\"\n",
    "\n",
    "print(predictions)\n"
   ]
  },
  {
   "cell_type": "markdown",
   "id": "1b25ff0c",
   "metadata": {},
   "source": [
    "# Estudo de avaliação do tempo de execução de cada backtest-estrategia"
   ]
  },
  {
   "cell_type": "code",
   "execution_count": 70,
   "id": "26a66c43",
   "metadata": {},
   "outputs": [],
   "source": [
    "import pandas as pd"
   ]
  },
  {
   "cell_type": "code",
   "execution_count": 49,
   "id": "221d2b00",
   "metadata": {},
   "outputs": [
    {
     "data": {
      "text/plain": [
       "3200"
      ]
     },
     "execution_count": 49,
     "metadata": {},
     "output_type": "execute_result"
    }
   ],
   "source": [
    "NOME_MOEDA = 'BTC'\n",
    "CANDLE_PERIOD = '15m'\n",
    "DEFAULT_START_DATE='01/03/2025 00:00'\n",
    "DEFAULT_END_DATE='03/04/2025 07:45'\n",
    "STOCK_CODE = NOME_MOEDA  # Código da Criptomoeda\n",
    "OPERATION_CODE = NOME_MOEDA + \"USDT\"  # Código da operação (cripto + moeda)\n",
    "INITIAL_BALANCE = 1000  # Valor de investimento inicial em USDT ou BRL\n",
    "\n",
    "from tests.baixar_candles import baixar_candles\n",
    "dados_candles = baixar_candles(OPERATION_CODE, DEFAULT_START_DATE, DEFAULT_END_DATE, CANDLE_PERIOD, ajuste=True)\n",
    "dados_candles.shape[0] - 120"
   ]
  },
  {
   "cell_type": "code",
   "execution_count": 91,
   "id": "df8e3286",
   "metadata": {},
   "outputs": [
    {
     "data": {
      "text/html": [
       "<div>\n",
       "<style scoped>\n",
       "    .dataframe tbody tr th:only-of-type {\n",
       "        vertical-align: middle;\n",
       "    }\n",
       "\n",
       "    .dataframe tbody tr th {\n",
       "        vertical-align: top;\n",
       "    }\n",
       "\n",
       "    .dataframe thead th {\n",
       "        text-align: right;\n",
       "    }\n",
       "</style>\n",
       "<table border=\"1\" class=\"dataframe\">\n",
       "  <thead>\n",
       "    <tr style=\"text-align: right;\">\n",
       "      <th></th>\n",
       "      <th>dt_inicio</th>\n",
       "      <th>dt_end</th>\n",
       "      <th>qtde</th>\n",
       "    </tr>\n",
       "  </thead>\n",
       "  <tbody>\n",
       "    <tr>\n",
       "      <th>0</th>\n",
       "      <td>2025-03-01 00:00:00-03:00</td>\n",
       "      <td>2025-03-02 01:00:00-03:00</td>\n",
       "      <td>100</td>\n",
       "    </tr>\n",
       "    <tr>\n",
       "      <th>1</th>\n",
       "      <td>2025-03-01 00:00:00-03:00</td>\n",
       "      <td>2025-03-03 02:00:00-03:00</td>\n",
       "      <td>200</td>\n",
       "    </tr>\n",
       "    <tr>\n",
       "      <th>2</th>\n",
       "      <td>2025-03-01 00:00:00-03:00</td>\n",
       "      <td>2025-03-04 03:00:00-03:00</td>\n",
       "      <td>300</td>\n",
       "    </tr>\n",
       "    <tr>\n",
       "      <th>3</th>\n",
       "      <td>2025-03-01 00:00:00-03:00</td>\n",
       "      <td>2025-03-05 04:00:00-03:00</td>\n",
       "      <td>400</td>\n",
       "    </tr>\n",
       "    <tr>\n",
       "      <th>4</th>\n",
       "      <td>2025-03-01 00:00:00-03:00</td>\n",
       "      <td>2025-03-06 05:00:00-03:00</td>\n",
       "      <td>500</td>\n",
       "    </tr>\n",
       "    <tr>\n",
       "      <th>5</th>\n",
       "      <td>2025-03-01 00:00:00-03:00</td>\n",
       "      <td>2025-03-07 06:00:00-03:00</td>\n",
       "      <td>600</td>\n",
       "    </tr>\n",
       "    <tr>\n",
       "      <th>6</th>\n",
       "      <td>2025-03-01 00:00:00-03:00</td>\n",
       "      <td>2025-03-08 07:00:00-03:00</td>\n",
       "      <td>700</td>\n",
       "    </tr>\n",
       "    <tr>\n",
       "      <th>7</th>\n",
       "      <td>2025-03-01 00:00:00-03:00</td>\n",
       "      <td>2025-03-09 08:00:00-03:00</td>\n",
       "      <td>800</td>\n",
       "    </tr>\n",
       "  </tbody>\n",
       "</table>\n",
       "</div>"
      ],
      "text/plain": [
       "                  dt_inicio                    dt_end  qtde\n",
       "0 2025-03-01 00:00:00-03:00 2025-03-02 01:00:00-03:00   100\n",
       "1 2025-03-01 00:00:00-03:00 2025-03-03 02:00:00-03:00   200\n",
       "2 2025-03-01 00:00:00-03:00 2025-03-04 03:00:00-03:00   300\n",
       "3 2025-03-01 00:00:00-03:00 2025-03-05 04:00:00-03:00   400\n",
       "4 2025-03-01 00:00:00-03:00 2025-03-06 05:00:00-03:00   500\n",
       "5 2025-03-01 00:00:00-03:00 2025-03-07 06:00:00-03:00   600\n",
       "6 2025-03-01 00:00:00-03:00 2025-03-08 07:00:00-03:00   700\n",
       "7 2025-03-01 00:00:00-03:00 2025-03-09 08:00:00-03:00   800"
      ]
     },
     "execution_count": 91,
     "metadata": {},
     "output_type": "execute_result"
    }
   ],
   "source": [
    "fd = pd.DataFrame(columns=['dt_inicio', 'dt_end', 'qtde'])\n",
    "\n",
    "for i in range(1, 9):\n",
    "    # i = 1\n",
    "    from datetime import datetime, timedelta\n",
    "    import pytz\n",
    "\n",
    "    def str_para_datetime(data_str):\n",
    "        dt = datetime.strptime(data_str, \"%d/%m/%Y %H:%M\")\n",
    "        return pytz.timezone(\"America/Sao_Paulo\").localize(dt)\n",
    "\n",
    "    dt_inicio = str_para_datetime(DEFAULT_START_DATE)\n",
    "    # print(dt_inicio)\n",
    "\n",
    "    dt_end = str_para_datetime(DEFAULT_START_DATE) + (timedelta(minutes=15) * 100 * i)\n",
    "    # print(dt_end)\n",
    "\n",
    "    df_filter = dados_candles[(dados_candles['open_time'] >= dt_inicio) & (dados_candles['open_time'] < dt_end)]\n",
    "    # print(len(df_filter))\n",
    "\n",
    "    # display(pd.concat([df_filter.head(), df_filter.tail()], axis=0))\n",
    "\n",
    "    # print(df_filter['open_time'][df_filter.index[0]])\n",
    "    # print(df_filter['open_time'][df_filter.index[-1]])\n",
    "\n",
    "    fd.loc[i-1] = [dt_inicio, dt_end, len(df_filter)]\n",
    "fd"
   ]
  },
  {
   "cell_type": "code",
   "execution_count": 96,
   "id": "a5ec6d5b",
   "metadata": {},
   "outputs": [
    {
     "name": "stdout",
     "output_type": "stream",
     "text": [
      "220\n",
      "320\n",
      "420\n",
      "520\n",
      "620\n",
      "720\n",
      "820\n",
      "920\n"
     ]
    }
   ],
   "source": [
    "for linha in range(len(fd)):\n",
    "    dt_end = fd['dt_end'][linha]\n",
    "    df_filter = dados_candles[dados_candles['open_time'] < dt_end]\n",
    "    print(len(df_filter))"
   ]
  },
  {
   "cell_type": "code",
   "execution_count": 107,
   "id": "a508afbe",
   "metadata": {},
   "outputs": [
    {
     "data": {
      "text/html": [
       "<div>\n",
       "<style scoped>\n",
       "    .dataframe tbody tr th:only-of-type {\n",
       "        vertical-align: middle;\n",
       "    }\n",
       "\n",
       "    .dataframe tbody tr th {\n",
       "        vertical-align: top;\n",
       "    }\n",
       "\n",
       "    .dataframe thead th {\n",
       "        text-align: right;\n",
       "    }\n",
       "</style>\n",
       "<table border=\"1\" class=\"dataframe\">\n",
       "  <thead>\n",
       "    <tr style=\"text-align: right;\">\n",
       "      <th></th>\n",
       "      <th>Estrategia</th>\n",
       "      <th>Data_Inicio</th>\n",
       "      <th>Data_Fim</th>\n",
       "      <th>Saldo_Final</th>\n",
       "      <th>Lucro_%</th>\n",
       "      <th>Total_Trades</th>\n",
       "      <th>Trades_Lucrativos</th>\n",
       "      <th>Valor_Lucro_Total</th>\n",
       "      <th>Trades_Preuízo</th>\n",
       "      <th>Valor_Preuízo_Total</th>\n",
       "      <th>Lucro_Médio_Trade</th>\n",
       "      <th>Lucro_%_Médio</th>\n",
       "      <th>Prejuízo_Médio_Trade</th>\n",
       "      <th>Prejuízo_%_Médio</th>\n",
       "      <th>Tempo_Simulacao</th>\n",
       "      <th>Moeda</th>\n",
       "      <th>CANDLE_PERIOD</th>\n",
       "    </tr>\n",
       "  </thead>\n",
       "  <tbody>\n",
       "    <tr>\n",
       "      <th>0</th>\n",
       "      <td>UT BOTS</td>\n",
       "      <td>2025-03-01 00:00:00-03:00</td>\n",
       "      <td>2025-03-02 01:00:00-03:00</td>\n",
       "      <td>1014.64921</td>\n",
       "      <td>1.464921</td>\n",
       "      <td>6.0</td>\n",
       "      <td>2.0</td>\n",
       "      <td>16.235549</td>\n",
       "      <td>1.0</td>\n",
       "      <td>-1.586339</td>\n",
       "      <td>8.117775</td>\n",
       "      <td>0.811777</td>\n",
       "      <td>1.586339</td>\n",
       "      <td>0.158634</td>\n",
       "      <td>0.726737</td>\n",
       "      <td>BTC</td>\n",
       "      <td>15m</td>\n",
       "    </tr>\n",
       "    <tr>\n",
       "      <th>1</th>\n",
       "      <td>MA RSI e VOLUME</td>\n",
       "      <td>2025-03-01 00:00:00-03:00</td>\n",
       "      <td>2025-03-02 01:00:00-03:00</td>\n",
       "      <td>NaN</td>\n",
       "      <td>NaN</td>\n",
       "      <td>13.0</td>\n",
       "      <td>3.0</td>\n",
       "      <td>3.983190</td>\n",
       "      <td>3.0</td>\n",
       "      <td>-9.585269</td>\n",
       "      <td>1.327730</td>\n",
       "      <td>0.132773</td>\n",
       "      <td>3.195090</td>\n",
       "      <td>0.319509</td>\n",
       "      <td>0.441882</td>\n",
       "      <td>BTC</td>\n",
       "      <td>15m</td>\n",
       "    </tr>\n",
       "  </tbody>\n",
       "</table>\n",
       "</div>"
      ],
      "text/plain": [
       "        Estrategia               Data_Inicio                  Data_Fim  \\\n",
       "0          UT BOTS 2025-03-01 00:00:00-03:00 2025-03-02 01:00:00-03:00   \n",
       "1  MA RSI e VOLUME 2025-03-01 00:00:00-03:00 2025-03-02 01:00:00-03:00   \n",
       "\n",
       "   Saldo_Final   Lucro_%  Total_Trades  Trades_Lucrativos  Valor_Lucro_Total  \\\n",
       "0   1014.64921  1.464921           6.0                2.0          16.235549   \n",
       "1          NaN       NaN          13.0                3.0           3.983190   \n",
       "\n",
       "   Trades_Preuízo  Valor_Preuízo_Total  Lucro_Médio_Trade  Lucro_%_Médio  \\\n",
       "0             1.0            -1.586339           8.117775       0.811777   \n",
       "1             3.0            -9.585269           1.327730       0.132773   \n",
       "\n",
       "   Prejuízo_Médio_Trade  Prejuízo_%_Médio  Tempo_Simulacao Moeda CANDLE_PERIOD  \n",
       "0              1.586339          0.158634         0.726737   BTC           15m  \n",
       "1              3.195090          0.319509         0.441882   BTC           15m  "
      ]
     },
     "execution_count": 107,
     "metadata": {},
     "output_type": "execute_result"
    }
   ],
   "source": [
    "df = pd.read_parquet(r\"C:\\Users\\gabri\\OneDrive\\Documentos\\Criptos\\Analises\\202507\\dados_prices_metrics\\DADOS_SIMULADOS_TESTE.parquet\")\n",
    "df.head(2)"
   ]
  },
  {
   "cell_type": "code",
   "execution_count": 108,
   "id": "30558e30",
   "metadata": {},
   "outputs": [
    {
     "data": {
      "text/plain": [
       "<DatetimeArray>\n",
       "['2025-03-02 01:00:00-03:00', '2025-03-03 02:00:00-03:00',\n",
       " '2025-03-04 03:00:00-03:00', '2025-03-05 04:00:00-03:00',\n",
       " '2025-03-06 05:00:00-03:00', '2025-03-07 06:00:00-03:00',\n",
       " '2025-03-08 07:00:00-03:00', '2025-03-09 08:00:00-03:00']\n",
       "Length: 8, dtype: datetime64[ns, America/Sao_Paulo]"
      ]
     },
     "execution_count": 108,
     "metadata": {},
     "output_type": "execute_result"
    }
   ],
   "source": [
    "df['Data_Fim'].unique()"
   ]
  },
  {
   "cell_type": "code",
   "execution_count": 109,
   "id": "d67b476a",
   "metadata": {},
   "outputs": [
    {
     "data": {
      "text/plain": [
       "array(['2025-03-02 01:00:00-03:00', '2025-03-03 02:00:00-03:00',\n",
       "       '2025-03-04 03:00:00-03:00', '2025-03-05 04:00:00-03:00',\n",
       "       '2025-03-06 05:00:00-03:00', '2025-03-07 06:00:00-03:00',\n",
       "       '2025-03-08 07:00:00-03:00', '2025-03-09 08:00:00-03:00'],\n",
       "      dtype=object)"
      ]
     },
     "execution_count": 109,
     "metadata": {},
     "output_type": "execute_result"
    }
   ],
   "source": [
    "df['Data_Fim'] = df['Data_Fim'].astype('str')\n",
    "df['Data_Fim'].unique()"
   ]
  },
  {
   "cell_type": "code",
   "execution_count": 110,
   "id": "03efea8e",
   "metadata": {},
   "outputs": [
    {
     "data": {
      "text/plain": [
       "array([220, 320, 420, 520, 620, 720, 820, 920], dtype=int64)"
      ]
     },
     "execution_count": 110,
     "metadata": {},
     "output_type": "execute_result"
    }
   ],
   "source": [
    "df['Data_Fim'] = df['Data_Fim'].map({'2025-03-02 01:00:00-03:00':220,\n",
    "'2025-03-03 02:00:00-03:00':320,\n",
    "'2025-03-04 03:00:00-03:00':420,\n",
    "'2025-03-05 04:00:00-03:00':520,\n",
    "'2025-03-06 05:00:00-03:00':620,\n",
    "'2025-03-07 06:00:00-03:00':720,\n",
    "'2025-03-08 07:00:00-03:00':820,\n",
    "'2025-03-09 08:00:00-03:00':920})\n",
    "\n",
    "df['Data_Fim'].unique()"
   ]
  },
  {
   "cell_type": "code",
   "execution_count": 112,
   "id": "4e598cd9",
   "metadata": {},
   "outputs": [
    {
     "name": "stdout",
     "output_type": "stream",
     "text": [
      "     Data_Fim  Tempo_Simulacao                          Estrategia\n",
      "0         220         0.726737                             UT BOTS\n",
      "1         220         0.441882                     MA RSI e VOLUME\n",
      "2         220              NaN                MA ANTECIPATION 5_10\n",
      "3         220         0.271759            MA SIMPLES FALLBACK 5_10\n",
      "4         220         0.305676                                 RSI\n",
      "..        ...              ...                                 ...\n",
      "259       920        13.097070                               VIDYA\n",
      "260       920         2.816705  Volume Weighted Average Price VWAP\n",
      "261       920         2.306505                  Williams Alligator\n",
      "262       920         9.287908                                 WMA\n",
      "263       920         1.551820             Zero Lag Moving Average\n",
      "\n",
      "[264 rows x 3 columns]\n"
     ]
    }
   ],
   "source": [
    "print(df[['Data_Fim','Tempo_Simulacao','Estrategia']])"
   ]
  },
  {
   "cell_type": "code",
   "execution_count": 118,
   "id": "b318dbfa",
   "metadata": {},
   "outputs": [
    {
     "data": {
      "application/vnd.plotly.v1+json": {
       "config": {
        "plotlyServerURL": "https://plot.ly"
       },
       "data": [
        {
         "customdata": [
          [
           "UT BOTS"
          ],
          [
           "UT BOTS"
          ],
          [
           "UT BOTS"
          ],
          [
           "UT BOTS"
          ],
          [
           "UT BOTS"
          ],
          [
           "UT BOTS"
          ],
          [
           "UT BOTS"
          ],
          [
           "UT BOTS"
          ]
         ],
         "hovertemplate": "Estrategia=%{customdata[0]}<br>Data Fim=%{x}<br>Tempo de Simulação=%{y}<extra></extra>",
         "legendgroup": "UT BOTS",
         "marker": {
          "color": "#636efa",
          "symbol": "circle"
         },
         "mode": "markers",
         "name": "UT BOTS",
         "orientation": "v",
         "showlegend": true,
         "type": "scatter",
         "x": [
          220,
          320,
          420,
          520,
          620,
          720,
          820,
          920
         ],
         "xaxis": "x",
         "y": [
          0.7267367839813232,
          1.704458236694336,
          2.6130971908569336,
          3.9558682441711426,
          6.16925835609436,
          7.45888614654541,
          9.699760913848877,
          11.91460394859314
         ],
         "yaxis": "y"
        },
        {
         "customdata": [
          [
           "MA RSI e VOLUME"
          ],
          [
           "MA RSI e VOLUME"
          ],
          [
           "MA RSI e VOLUME"
          ],
          [
           "MA RSI e VOLUME"
          ],
          [
           "MA RSI e VOLUME"
          ],
          [
           "MA RSI e VOLUME"
          ],
          [
           "MA RSI e VOLUME"
          ],
          [
           "MA RSI e VOLUME"
          ]
         ],
         "hovertemplate": "Estrategia=%{customdata[0]}<br>Data Fim=%{x}<br>Tempo de Simulação=%{y}<extra></extra>",
         "legendgroup": "MA RSI e VOLUME",
         "marker": {
          "color": "#EF553B",
          "symbol": "circle"
         },
         "mode": "markers",
         "name": "MA RSI e VOLUME",
         "orientation": "v",
         "showlegend": true,
         "type": "scatter",
         "x": [
          220,
          320,
          420,
          520,
          620,
          720,
          820,
          920
         ],
         "xaxis": "x",
         "y": [
          0.4418818950653076,
          0.7839105129241943,
          1.0430147647857666,
          1.3854637145996094,
          1.8469781875610352,
          2.081176280975342,
          2.382499933242798,
          2.7572476863861084
         ],
         "yaxis": "y"
        },
        {
         "customdata": [
          [
           "MA SIMPLES FALLBACK 5_10"
          ],
          [
           "MA SIMPLES FALLBACK 5_10"
          ],
          [
           "MA SIMPLES FALLBACK 5_10"
          ],
          [
           "MA SIMPLES FALLBACK 5_10"
          ],
          [
           "MA SIMPLES FALLBACK 5_10"
          ],
          [
           "MA SIMPLES FALLBACK 5_10"
          ],
          [
           "MA SIMPLES FALLBACK 5_10"
          ],
          [
           "MA SIMPLES FALLBACK 5_10"
          ]
         ],
         "hovertemplate": "Estrategia=%{customdata[0]}<br>Data Fim=%{x}<br>Tempo de Simulação=%{y}<extra></extra>",
         "legendgroup": "MA SIMPLES FALLBACK 5_10",
         "marker": {
          "color": "#00cc96",
          "symbol": "circle"
         },
         "mode": "markers",
         "name": "MA SIMPLES FALLBACK 5_10",
         "orientation": "v",
         "showlegend": true,
         "type": "scatter",
         "x": [
          220,
          320,
          420,
          520,
          620,
          720,
          820,
          920
         ],
         "xaxis": "x",
         "y": [
          0.271759033203125,
          0.43273067474365234,
          0.6100554466247559,
          0.7629008293151855,
          1.1326472759246826,
          1.151916265487671,
          1.3549854755401611,
          1.565488576889038
         ],
         "yaxis": "y"
        },
        {
         "customdata": [
          [
           "RSI"
          ],
          [
           "RSI"
          ],
          [
           "RSI"
          ],
          [
           "RSI"
          ],
          [
           "RSI"
          ],
          [
           "RSI"
          ],
          [
           "RSI"
          ],
          [
           "RSI"
          ]
         ],
         "hovertemplate": "Estrategia=%{customdata[0]}<br>Data Fim=%{x}<br>Tempo de Simulação=%{y}<extra></extra>",
         "legendgroup": "RSI",
         "marker": {
          "color": "#ab63fa",
          "symbol": "circle"
         },
         "mode": "markers",
         "name": "RSI",
         "orientation": "v",
         "showlegend": true,
         "type": "scatter",
         "x": [
          220,
          320,
          420,
          520,
          620,
          720,
          820,
          920
         ],
         "xaxis": "x",
         "y": [
          0.3056762218475342,
          0.4607527256011963,
          0.656700849533081,
          0.8706095218658447,
          1.0962605476379395,
          1.3294403553009033,
          1.4901061058044434,
          1.7546825408935547
         ],
         "yaxis": "y"
        },
        {
         "customdata": [
          [
           "VORTEX"
          ],
          [
           "VORTEX"
          ],
          [
           "VORTEX"
          ],
          [
           "VORTEX"
          ],
          [
           "VORTEX"
          ],
          [
           "VORTEX"
          ],
          [
           "VORTEX"
          ],
          [
           "VORTEX"
          ]
         ],
         "hovertemplate": "Estrategia=%{customdata[0]}<br>Data Fim=%{x}<br>Tempo de Simulação=%{y}<extra></extra>",
         "legendgroup": "VORTEX",
         "marker": {
          "color": "#FFA15A",
          "symbol": "circle"
         },
         "mode": "markers",
         "name": "VORTEX",
         "orientation": "v",
         "showlegend": true,
         "type": "scatter",
         "x": [
          220,
          320,
          420,
          520,
          620,
          720,
          820,
          920
         ],
         "xaxis": "x",
         "y": [
          0.40945005416870117,
          0.6981866359710693,
          0.9927361011505127,
          1.3274075984954834,
          1.700779914855957,
          2.029134511947632,
          2.327481508255005,
          2.641033887863159
         ],
         "yaxis": "y"
        },
        {
         "customdata": [
          [
           "Bollinger Bands"
          ],
          [
           "Bollinger Bands"
          ],
          [
           "Bollinger Bands"
          ],
          [
           "Bollinger Bands"
          ],
          [
           "Bollinger Bands"
          ],
          [
           "Bollinger Bands"
          ],
          [
           "Bollinger Bands"
          ],
          [
           "Bollinger Bands"
          ]
         ],
         "hovertemplate": "Estrategia=%{customdata[0]}<br>Data Fim=%{x}<br>Tempo de Simulação=%{y}<extra></extra>",
         "legendgroup": "Bollinger Bands",
         "marker": {
          "color": "#19d3f3",
          "symbol": "circle"
         },
         "mode": "markers",
         "name": "Bollinger Bands",
         "orientation": "v",
         "showlegend": true,
         "type": "scatter",
         "x": [
          220,
          320,
          420,
          520,
          620,
          720,
          820,
          920
         ],
         "xaxis": "x",
         "y": [
          0.3386378288269043,
          0.6062331199645996,
          0.8019115924835205,
          1.1998803615570068,
          1.3922908306121826,
          1.6300735473632812,
          1.8538215160369873,
          2.1608500480651855
         ],
         "yaxis": "y"
        },
        {
         "customdata": [
          [
           "Ichimoku"
          ],
          [
           "Ichimoku"
          ],
          [
           "Ichimoku"
          ],
          [
           "Ichimoku"
          ],
          [
           "Ichimoku"
          ],
          [
           "Ichimoku"
          ],
          [
           "Ichimoku"
          ],
          [
           "Ichimoku"
          ]
         ],
         "hovertemplate": "Estrategia=%{customdata[0]}<br>Data Fim=%{x}<br>Tempo de Simulação=%{y}<extra></extra>",
         "legendgroup": "Ichimoku",
         "marker": {
          "color": "#FF6692",
          "symbol": "circle"
         },
         "mode": "markers",
         "name": "Ichimoku",
         "orientation": "v",
         "showlegend": true,
         "type": "scatter",
         "x": [
          220,
          320,
          420,
          520,
          620,
          720,
          820,
          920
         ],
         "xaxis": "x",
         "y": [
          0.5649726390838623,
          1.004563808441162,
          1.405341386795044,
          1.9288218021392822,
          2.3604860305786133,
          3.067131757736206,
          3.2716498374938965,
          3.7802894115448
         ],
         "yaxis": "y"
        },
        {
         "customdata": [
          [
           "KDJ"
          ],
          [
           "KDJ"
          ],
          [
           "KDJ"
          ],
          [
           "KDJ"
          ],
          [
           "KDJ"
          ],
          [
           "KDJ"
          ],
          [
           "KDJ"
          ],
          [
           "KDJ"
          ]
         ],
         "hovertemplate": "Estrategia=%{customdata[0]}<br>Data Fim=%{x}<br>Tempo de Simulação=%{y}<extra></extra>",
         "legendgroup": "KDJ",
         "marker": {
          "color": "#B6E880",
          "symbol": "circle"
         },
         "mode": "markers",
         "name": "KDJ",
         "orientation": "v",
         "showlegend": true,
         "type": "scatter",
         "x": [
          220,
          320,
          420,
          520,
          620,
          720,
          820,
          920
         ],
         "xaxis": "x",
         "y": [
          0.45873188972473145,
          0.726754903793335,
          1.0609197616577148,
          1.40116286277771,
          1.8083012104034424,
          2.1687612533569336,
          2.449801445007324,
          2.7765984535217285
         ],
         "yaxis": "y"
        },
        {
         "customdata": [
          [
           "MACD"
          ],
          [
           "MACD"
          ],
          [
           "MACD"
          ],
          [
           "MACD"
          ],
          [
           "MACD"
          ],
          [
           "MACD"
          ],
          [
           "MACD"
          ],
          [
           "MACD"
          ]
         ],
         "hovertemplate": "Estrategia=%{customdata[0]}<br>Data Fim=%{x}<br>Tempo de Simulação=%{y}<extra></extra>",
         "legendgroup": "MACD",
         "marker": {
          "color": "#FF97FF",
          "symbol": "circle"
         },
         "mode": "markers",
         "name": "MACD",
         "orientation": "v",
         "showlegend": true,
         "type": "scatter",
         "x": [
          220,
          320,
          420,
          520,
          620,
          720,
          820,
          920
         ],
         "xaxis": "x",
         "y": [
          0.510772705078125,
          0.5172591209411621,
          0.7450728416442871,
          0.9740726947784424,
          1.2110929489135742,
          1.5542144775390625,
          1.6775424480438232,
          1.922600507736206
         ],
         "yaxis": "y"
        },
        {
         "customdata": [
          [
           "Stochastic RSI"
          ],
          [
           "Stochastic RSI"
          ],
          [
           "Stochastic RSI"
          ],
          [
           "Stochastic RSI"
          ],
          [
           "Stochastic RSI"
          ],
          [
           "Stochastic RSI"
          ],
          [
           "Stochastic RSI"
          ],
          [
           "Stochastic RSI"
          ]
         ],
         "hovertemplate": "Estrategia=%{customdata[0]}<br>Data Fim=%{x}<br>Tempo de Simulação=%{y}<extra></extra>",
         "legendgroup": "Stochastic RSI",
         "marker": {
          "color": "#FECB52",
          "symbol": "circle"
         },
         "mode": "markers",
         "name": "Stochastic RSI",
         "orientation": "v",
         "showlegend": true,
         "type": "scatter",
         "x": [
          220,
          320,
          420,
          520,
          620,
          720,
          820,
          920
         ],
         "xaxis": "x",
         "y": [
          0.5655884742736816,
          0.8248536586761475,
          1.1703412532806396,
          1.5670464038848877,
          1.9539926052093506,
          2.3410487174987793,
          2.7186872959136963,
          3.037905216217041
         ],
         "yaxis": "y"
        },
        {
         "customdata": [
          [
           "Williams %R"
          ],
          [
           "Williams %R"
          ],
          [
           "Williams %R"
          ],
          [
           "Williams %R"
          ],
          [
           "Williams %R"
          ],
          [
           "Williams %R"
          ],
          [
           "Williams %R"
          ],
          [
           "Williams %R"
          ]
         ],
         "hovertemplate": "Estrategia=%{customdata[0]}<br>Data Fim=%{x}<br>Tempo de Simulação=%{y}<extra></extra>",
         "legendgroup": "Williams %R",
         "marker": {
          "color": "#636efa",
          "symbol": "circle"
         },
         "mode": "markers",
         "name": "Williams %R",
         "orientation": "v",
         "showlegend": true,
         "type": "scatter",
         "x": [
          220,
          320,
          420,
          520,
          620,
          720,
          820,
          920
         ],
         "xaxis": "x",
         "y": [
          0.5244505405426025,
          0.5360889434814453,
          0.8441205024719238,
          1.0038139820098877,
          1.267035722732544,
          1.505401849746704,
          1.7654895782470703,
          2.034499406814575
         ],
         "yaxis": "y"
        },
        {
         "customdata": [
          [
           "Accelerator Oscillator"
          ],
          [
           "Accelerator Oscillator"
          ],
          [
           "Accelerator Oscillator"
          ],
          [
           "Accelerator Oscillator"
          ],
          [
           "Accelerator Oscillator"
          ],
          [
           "Accelerator Oscillator"
          ],
          [
           "Accelerator Oscillator"
          ],
          [
           "Accelerator Oscillator"
          ]
         ],
         "hovertemplate": "Estrategia=%{customdata[0]}<br>Data Fim=%{x}<br>Tempo de Simulação=%{y}<extra></extra>",
         "legendgroup": "Accelerator Oscillator",
         "marker": {
          "color": "#EF553B",
          "symbol": "circle"
         },
         "mode": "markers",
         "name": "Accelerator Oscillator",
         "orientation": "v",
         "showlegend": true,
         "type": "scatter",
         "x": [
          220,
          320,
          420,
          520,
          620,
          720,
          820,
          920
         ],
         "xaxis": "x",
         "y": [
          0.9311313629150391,
          1.2638750076293945,
          1.7392621040344238,
          2.326746702194214,
          2.9149768352508545,
          3.9296300411224365,
          3.882697343826294,
          4.471674680709839
         ],
         "yaxis": "y"
        },
        {
         "customdata": [
          [
           "ALMA"
          ],
          [
           "ALMA"
          ],
          [
           "ALMA"
          ],
          [
           "ALMA"
          ],
          [
           "ALMA"
          ],
          [
           "ALMA"
          ],
          [
           "ALMA"
          ],
          [
           "ALMA"
          ]
         ],
         "hovertemplate": "Estrategia=%{customdata[0]}<br>Data Fim=%{x}<br>Tempo de Simulação=%{y}<extra></extra>",
         "legendgroup": "ALMA",
         "marker": {
          "color": "#00cc96",
          "symbol": "circle"
         },
         "mode": "markers",
         "name": "ALMA",
         "orientation": "v",
         "showlegend": true,
         "type": "scatter",
         "x": [
          220,
          320,
          420,
          520,
          620,
          720,
          820,
          920
         ],
         "xaxis": "x",
         "y": [
          0.5013413429260254,
          1.033019781112671,
          1.6977639198303223,
          2.473109483718872,
          3.5110549926757812,
          4.920008182525635,
          5.599214792251587,
          6.925172328948975
         ],
         "yaxis": "y"
        },
        {
         "customdata": [
          [
           "ALMA Cruzamento"
          ],
          [
           "ALMA Cruzamento"
          ],
          [
           "ALMA Cruzamento"
          ],
          [
           "ALMA Cruzamento"
          ],
          [
           "ALMA Cruzamento"
          ],
          [
           "ALMA Cruzamento"
          ],
          [
           "ALMA Cruzamento"
          ],
          [
           "ALMA Cruzamento"
          ]
         ],
         "hovertemplate": "Estrategia=%{customdata[0]}<br>Data Fim=%{x}<br>Tempo de Simulação=%{y}<extra></extra>",
         "legendgroup": "ALMA Cruzamento",
         "marker": {
          "color": "#ab63fa",
          "symbol": "circle"
         },
         "mode": "markers",
         "name": "ALMA Cruzamento",
         "orientation": "v",
         "showlegend": true,
         "type": "scatter",
         "x": [
          220,
          320,
          420,
          520,
          620,
          720,
          820,
          920
         ],
         "xaxis": "x",
         "y": [
          0.9597554206848145,
          2.361154794692993,
          3.9514882564544678,
          6.060725688934326,
          8.633170127868652,
          11.744955062866211,
          14.656429052352905,
          18.93414807319641
         ],
         "yaxis": "y"
        },
        {
         "customdata": [
          [
           "Aroon Oscillator"
          ],
          [
           "Aroon Oscillator"
          ],
          [
           "Aroon Oscillator"
          ],
          [
           "Aroon Oscillator"
          ],
          [
           "Aroon Oscillator"
          ],
          [
           "Aroon Oscillator"
          ],
          [
           "Aroon Oscillator"
          ],
          [
           "Aroon Oscillator"
          ]
         ],
         "hovertemplate": "Estrategia=%{customdata[0]}<br>Data Fim=%{x}<br>Tempo de Simulação=%{y}<extra></extra>",
         "legendgroup": "Aroon Oscillator",
         "marker": {
          "color": "#FFA15A",
          "symbol": "circle"
         },
         "mode": "markers",
         "name": "Aroon Oscillator",
         "orientation": "v",
         "showlegend": true,
         "type": "scatter",
         "x": [
          220,
          320,
          420,
          520,
          620,
          720,
          820,
          920
         ],
         "xaxis": "x",
         "y": [
          0.3574192523956299,
          0.6818962097167969,
          0.9551944732666016,
          1.2606391906738281,
          1.615149736404419,
          2.060136079788208,
          2.374391794204712,
          2.7356832027435303
         ],
         "yaxis": "y"
        },
        {
         "customdata": [
          [
           "Aroon Puro"
          ],
          [
           "Aroon Puro"
          ],
          [
           "Aroon Puro"
          ],
          [
           "Aroon Puro"
          ],
          [
           "Aroon Puro"
          ],
          [
           "Aroon Puro"
          ],
          [
           "Aroon Puro"
          ],
          [
           "Aroon Puro"
          ]
         ],
         "hovertemplate": "Estrategia=%{customdata[0]}<br>Data Fim=%{x}<br>Tempo de Simulação=%{y}<extra></extra>",
         "legendgroup": "Aroon Puro",
         "marker": {
          "color": "#19d3f3",
          "symbol": "circle"
         },
         "mode": "markers",
         "name": "Aroon Puro",
         "orientation": "v",
         "showlegend": true,
         "type": "scatter",
         "x": [
          220,
          320,
          420,
          520,
          620,
          720,
          820,
          920
         ],
         "xaxis": "x",
         "y": [
          0.39908742904663086,
          0.7950730323791504,
          1.1304841041564941,
          1.5586779117584229,
          2.0047974586486816,
          2.472127914428711,
          2.8217384815216064,
          3.228132486343384
         ],
         "yaxis": "y"
        },
        {
         "customdata": [
          [
           "ATR"
          ],
          [
           "ATR"
          ],
          [
           "ATR"
          ],
          [
           "ATR"
          ],
          [
           "ATR"
          ],
          [
           "ATR"
          ],
          [
           "ATR"
          ],
          [
           "ATR"
          ]
         ],
         "hovertemplate": "Estrategia=%{customdata[0]}<br>Data Fim=%{x}<br>Tempo de Simulação=%{y}<extra></extra>",
         "legendgroup": "ATR",
         "marker": {
          "color": "#FF6692",
          "symbol": "circle"
         },
         "mode": "markers",
         "name": "ATR",
         "orientation": "v",
         "showlegend": true,
         "type": "scatter",
         "x": [
          220,
          320,
          420,
          520,
          620,
          720,
          820,
          920
         ],
         "xaxis": "x",
         "y": [
          0.4568467140197754,
          0.8663220405578613,
          1.2650625705718994,
          1.718160629272461,
          2.0915369987487793,
          2.581676959991455,
          2.8743324279785156,
          3.2896695137023926
         ],
         "yaxis": "y"
        },
        {
         "customdata": [
          [
           "Awesome Oscillator"
          ],
          [
           "Awesome Oscillator"
          ],
          [
           "Awesome Oscillator"
          ],
          [
           "Awesome Oscillator"
          ],
          [
           "Awesome Oscillator"
          ],
          [
           "Awesome Oscillator"
          ],
          [
           "Awesome Oscillator"
          ],
          [
           "Awesome Oscillator"
          ]
         ],
         "hovertemplate": "Estrategia=%{customdata[0]}<br>Data Fim=%{x}<br>Tempo de Simulação=%{y}<extra></extra>",
         "legendgroup": "Awesome Oscillator",
         "marker": {
          "color": "#B6E880",
          "symbol": "circle"
         },
         "mode": "markers",
         "name": "Awesome Oscillator",
         "orientation": "v",
         "showlegend": true,
         "type": "scatter",
         "x": [
          220,
          320,
          420,
          520,
          620,
          720,
          820,
          920
         ],
         "xaxis": "x",
         "y": [
          0.3554801940917969,
          0.6927263736724854,
          1.0070748329162598,
          1.2821099758148193,
          1.6395940780639648,
          2.0054686069488525,
          2.217796802520752,
          2.5825388431549072
         ],
         "yaxis": "y"
        },
        {
         "customdata": [
          [
           "Chaikin Oscillator"
          ],
          [
           "Chaikin Oscillator"
          ],
          [
           "Chaikin Oscillator"
          ],
          [
           "Chaikin Oscillator"
          ],
          [
           "Chaikin Oscillator"
          ],
          [
           "Chaikin Oscillator"
          ],
          [
           "Chaikin Oscillator"
          ],
          [
           "Chaikin Oscillator"
          ]
         ],
         "hovertemplate": "Estrategia=%{customdata[0]}<br>Data Fim=%{x}<br>Tempo de Simulação=%{y}<extra></extra>",
         "legendgroup": "Chaikin Oscillator",
         "marker": {
          "color": "#FF97FF",
          "symbol": "circle"
         },
         "mode": "markers",
         "name": "Chaikin Oscillator",
         "orientation": "v",
         "showlegend": true,
         "type": "scatter",
         "x": [
          220,
          320,
          420,
          520,
          620,
          720,
          820,
          920
         ],
         "xaxis": "x",
         "y": [
          0.36887431144714355,
          0.6831791400909424,
          0.907691478729248,
          1.2272331714630127,
          1.5245308876037598,
          1.891850471496582,
          2.0460891723632812,
          2.39760684967041
         ],
         "yaxis": "y"
        },
        {
         "customdata": [
          [
           "Chande Momentum Oscillator"
          ],
          [
           "Chande Momentum Oscillator"
          ],
          [
           "Chande Momentum Oscillator"
          ],
          [
           "Chande Momentum Oscillator"
          ],
          [
           "Chande Momentum Oscillator"
          ],
          [
           "Chande Momentum Oscillator"
          ],
          [
           "Chande Momentum Oscillator"
          ],
          [
           "Chande Momentum Oscillator"
          ]
         ],
         "hovertemplate": "Estrategia=%{customdata[0]}<br>Data Fim=%{x}<br>Tempo de Simulação=%{y}<extra></extra>",
         "legendgroup": "Chande Momentum Oscillator",
         "marker": {
          "color": "#FECB52",
          "symbol": "circle"
         },
         "mode": "markers",
         "name": "Chande Momentum Oscillator",
         "orientation": "v",
         "showlegend": true,
         "type": "scatter",
         "x": [
          220,
          320,
          420,
          520,
          620,
          720,
          820,
          920
         ],
         "xaxis": "x",
         "y": [
          0.3572988510131836,
          0.5937509536743164,
          0.8476154804229736,
          1.1395041942596436,
          1.465301275253296,
          1.76761794090271,
          1.9859991073608398,
          2.236081838607788
         ],
         "yaxis": "y"
        },
        {
         "customdata": [
          [
           "CMF"
          ],
          [
           "CMF"
          ],
          [
           "CMF"
          ],
          [
           "CMF"
          ],
          [
           "CMF"
          ],
          [
           "CMF"
          ],
          [
           "CMF"
          ],
          [
           "CMF"
          ]
         ],
         "hovertemplate": "Estrategia=%{customdata[0]}<br>Data Fim=%{x}<br>Tempo de Simulação=%{y}<extra></extra>",
         "legendgroup": "CMF",
         "marker": {
          "color": "#636efa",
          "symbol": "circle"
         },
         "mode": "markers",
         "name": "CMF",
         "orientation": "v",
         "showlegend": true,
         "type": "scatter",
         "x": [
          220,
          320,
          420,
          520,
          620,
          720,
          820,
          920
         ],
         "xaxis": "x",
         "y": [
          0.26935553550720215,
          0.48709702491760254,
          0.7116250991821289,
          0.9608449935913086,
          1.2027015686035156,
          1.7824029922485352,
          1.5798304080963135,
          1.8630988597869873
         ],
         "yaxis": "y"
        },
        {
         "customdata": [
          [
           "Detrended Price Oscillator"
          ],
          [
           "Detrended Price Oscillator"
          ],
          [
           "Detrended Price Oscillator"
          ],
          [
           "Detrended Price Oscillator"
          ],
          [
           "Detrended Price Oscillator"
          ],
          [
           "Detrended Price Oscillator"
          ],
          [
           "Detrended Price Oscillator"
          ],
          [
           "Detrended Price Oscillator"
          ]
         ],
         "hovertemplate": "Estrategia=%{customdata[0]}<br>Data Fim=%{x}<br>Tempo de Simulação=%{y}<extra></extra>",
         "legendgroup": "Detrended Price Oscillator",
         "marker": {
          "color": "#EF553B",
          "symbol": "circle"
         },
         "mode": "markers",
         "name": "Detrended Price Oscillator",
         "orientation": "v",
         "showlegend": true,
         "type": "scatter",
         "x": [
          220,
          320,
          420,
          520,
          620,
          720,
          820,
          920
         ],
         "xaxis": "x",
         "y": [
          0.20717358589172363,
          0.37515997886657715,
          0.529388427734375,
          0.7110207080841064,
          0.8882813453674316,
          2.2938780784606934,
          1.2226338386535645,
          1.3844995498657227
         ],
         "yaxis": "y"
        },
        {
         "customdata": [
          [
           "Donchian Channel"
          ],
          [
           "Donchian Channel"
          ],
          [
           "Donchian Channel"
          ],
          [
           "Donchian Channel"
          ],
          [
           "Donchian Channel"
          ],
          [
           "Donchian Channel"
          ],
          [
           "Donchian Channel"
          ],
          [
           "Donchian Channel"
          ]
         ],
         "hovertemplate": "Estrategia=%{customdata[0]}<br>Data Fim=%{x}<br>Tempo de Simulação=%{y}<extra></extra>",
         "legendgroup": "Donchian Channel",
         "marker": {
          "color": "#00cc96",
          "symbol": "circle"
         },
         "mode": "markers",
         "name": "Donchian Channel",
         "orientation": "v",
         "showlegend": true,
         "type": "scatter",
         "x": [
          220,
          320,
          420,
          520,
          620,
          720,
          820,
          920
         ],
         "xaxis": "x",
         "y": [
          0.3068983554840088,
          0.515272855758667,
          0.8585927486419678,
          1.0068047046661377,
          1.2916488647460938,
          2.995891809463501,
          1.7449467182159424,
          2.0125131607055664
         ],
         "yaxis": "y"
        },
        {
         "customdata": [
          [
           "Elder Force Index"
          ],
          [
           "Elder Force Index"
          ],
          [
           "Elder Force Index"
          ],
          [
           "Elder Force Index"
          ],
          [
           "Elder Force Index"
          ],
          [
           "Elder Force Index"
          ],
          [
           "Elder Force Index"
          ],
          [
           "Elder Force Index"
          ]
         ],
         "hovertemplate": "Estrategia=%{customdata[0]}<br>Data Fim=%{x}<br>Tempo de Simulação=%{y}<extra></extra>",
         "legendgroup": "Elder Force Index",
         "marker": {
          "color": "#ab63fa",
          "symbol": "circle"
         },
         "mode": "markers",
         "name": "Elder Force Index",
         "orientation": "v",
         "showlegend": true,
         "type": "scatter",
         "x": [
          220,
          320,
          420,
          520,
          620,
          720,
          820,
          920
         ],
         "xaxis": "x",
         "y": [
          0.2740795612335205,
          0.42140865325927734,
          0.606226921081543,
          0.767894983291626,
          0.9863286018371582,
          1.3478062152862549,
          1.4038753509521484,
          1.5278007984161377
         ],
         "yaxis": "y"
        },
        {
         "customdata": [
          [
           "Elder Ray"
          ],
          [
           "Elder Ray"
          ],
          [
           "Elder Ray"
          ],
          [
           "Elder Ray"
          ],
          [
           "Elder Ray"
          ],
          [
           "Elder Ray"
          ],
          [
           "Elder Ray"
          ],
          [
           "Elder Ray"
          ]
         ],
         "hovertemplate": "Estrategia=%{customdata[0]}<br>Data Fim=%{x}<br>Tempo de Simulação=%{y}<extra></extra>",
         "legendgroup": "Elder Ray",
         "marker": {
          "color": "#FFA15A",
          "symbol": "circle"
         },
         "mode": "markers",
         "name": "Elder Ray",
         "orientation": "v",
         "showlegend": true,
         "type": "scatter",
         "x": [
          220,
          320,
          420,
          520,
          620,
          720,
          820,
          920
         ],
         "xaxis": "x",
         "y": [
          0.26337242126464844,
          0.4114100933074951,
          0.5984115600585938,
          0.7739696502685547,
          0.9484717845916748,
          1.151369333267212,
          1.303234338760376,
          1.5091171264648438
         ],
         "yaxis": "y"
        },
        {
         "customdata": [
          [
           "Force Index"
          ],
          [
           "Force Index"
          ],
          [
           "Force Index"
          ],
          [
           "Force Index"
          ],
          [
           "Force Index"
          ],
          [
           "Force Index"
          ],
          [
           "Force Index"
          ],
          [
           "Force Index"
          ]
         ],
         "hovertemplate": "Estrategia=%{customdata[0]}<br>Data Fim=%{x}<br>Tempo de Simulação=%{y}<extra></extra>",
         "legendgroup": "Force Index",
         "marker": {
          "color": "#19d3f3",
          "symbol": "circle"
         },
         "mode": "markers",
         "name": "Force Index",
         "orientation": "v",
         "showlegend": true,
         "type": "scatter",
         "x": [
          220,
          320,
          420,
          520,
          620,
          720,
          820,
          920
         ],
         "xaxis": "x",
         "y": [
          0.325115442276001,
          0.4590492248535156,
          0.6777665615081787,
          0.887598991394043,
          1.1380107402801514,
          1.3626272678375244,
          1.5473120212554932,
          1.7780265808105469
         ],
         "yaxis": "y"
        },
        {
         "customdata": [
          [
           "Ultimate Oscillator"
          ],
          [
           "Ultimate Oscillator"
          ],
          [
           "Ultimate Oscillator"
          ],
          [
           "Ultimate Oscillator"
          ],
          [
           "Ultimate Oscillator"
          ],
          [
           "Ultimate Oscillator"
          ],
          [
           "Ultimate Oscillator"
          ],
          [
           "Ultimate Oscillator"
          ]
         ],
         "hovertemplate": "Estrategia=%{customdata[0]}<br>Data Fim=%{x}<br>Tempo de Simulação=%{y}<extra></extra>",
         "legendgroup": "Ultimate Oscillator",
         "marker": {
          "color": "#FF6692",
          "symbol": "circle"
         },
         "mode": "markers",
         "name": "Ultimate Oscillator",
         "orientation": "v",
         "showlegend": true,
         "type": "scatter",
         "x": [
          220,
          320,
          420,
          520,
          620,
          720,
          820,
          920
         ],
         "xaxis": "x",
         "y": [
          0.9637002944946289,
          1.6965408325195312,
          3.154160499572754,
          4.130374908447266,
          5.67139196395874,
          7.351528882980347,
          9.040642738342285,
          11.346523523330688
         ],
         "yaxis": "y"
        },
        {
         "customdata": [
          [
           "VIDYA"
          ],
          [
           "VIDYA"
          ],
          [
           "VIDYA"
          ],
          [
           "VIDYA"
          ],
          [
           "VIDYA"
          ],
          [
           "VIDYA"
          ],
          [
           "VIDYA"
          ],
          [
           "VIDYA"
          ]
         ],
         "hovertemplate": "Estrategia=%{customdata[0]}<br>Data Fim=%{x}<br>Tempo de Simulação=%{y}<extra></extra>",
         "legendgroup": "VIDYA",
         "marker": {
          "color": "#B6E880",
          "symbol": "circle"
         },
         "mode": "markers",
         "name": "VIDYA",
         "orientation": "v",
         "showlegend": true,
         "type": "scatter",
         "x": [
          220,
          320,
          420,
          520,
          620,
          720,
          820,
          920
         ],
         "xaxis": "x",
         "y": [
          1.0187668800354004,
          1.910883903503418,
          3.2333545684814453,
          4.8215484619140625,
          6.476413011550903,
          8.609027624130249,
          10.702383756637573,
          13.09706974029541
         ],
         "yaxis": "y"
        },
        {
         "customdata": [
          [
           "Volume Weighted Average Price VWAP"
          ],
          [
           "Volume Weighted Average Price VWAP"
          ],
          [
           "Volume Weighted Average Price VWAP"
          ],
          [
           "Volume Weighted Average Price VWAP"
          ],
          [
           "Volume Weighted Average Price VWAP"
          ],
          [
           "Volume Weighted Average Price VWAP"
          ],
          [
           "Volume Weighted Average Price VWAP"
          ],
          [
           "Volume Weighted Average Price VWAP"
          ]
         ],
         "hovertemplate": "Estrategia=%{customdata[0]}<br>Data Fim=%{x}<br>Tempo de Simulação=%{y}<extra></extra>",
         "legendgroup": "Volume Weighted Average Price VWAP",
         "marker": {
          "color": "#FF97FF",
          "symbol": "circle"
         },
         "mode": "markers",
         "name": "Volume Weighted Average Price VWAP",
         "orientation": "v",
         "showlegend": true,
         "type": "scatter",
         "x": [
          220,
          320,
          420,
          520,
          620,
          720,
          820,
          920
         ],
         "xaxis": "x",
         "y": [
          0.4181632995605469,
          0.7106609344482422,
          1.0865633487701416,
          1.40785551071167,
          1.7862777709960938,
          2.0647242069244385,
          2.4610722064971924,
          2.816704750061035
         ],
         "yaxis": "y"
        },
        {
         "customdata": [
          [
           "Williams Alligator"
          ],
          [
           "Williams Alligator"
          ],
          [
           "Williams Alligator"
          ],
          [
           "Williams Alligator"
          ],
          [
           "Williams Alligator"
          ],
          [
           "Williams Alligator"
          ],
          [
           "Williams Alligator"
          ],
          [
           "Williams Alligator"
          ]
         ],
         "hovertemplate": "Estrategia=%{customdata[0]}<br>Data Fim=%{x}<br>Tempo de Simulação=%{y}<extra></extra>",
         "legendgroup": "Williams Alligator",
         "marker": {
          "color": "#FECB52",
          "symbol": "circle"
         },
         "mode": "markers",
         "name": "Williams Alligator",
         "orientation": "v",
         "showlegend": true,
         "type": "scatter",
         "x": [
          220,
          320,
          420,
          520,
          620,
          720,
          820,
          920
         ],
         "xaxis": "x",
         "y": [
          0.3219571113586426,
          0.5474772453308105,
          0.8813364505767822,
          1.1133692264556885,
          1.4232101440429688,
          1.6772403717041016,
          1.9869017601013184,
          2.3065052032470703
         ],
         "yaxis": "y"
        },
        {
         "customdata": [
          [
           "WMA"
          ],
          [
           "WMA"
          ],
          [
           "WMA"
          ],
          [
           "WMA"
          ],
          [
           "WMA"
          ],
          [
           "WMA"
          ],
          [
           "WMA"
          ],
          [
           "WMA"
          ]
         ],
         "hovertemplate": "Estrategia=%{customdata[0]}<br>Data Fim=%{x}<br>Tempo de Simulação=%{y}<extra></extra>",
         "legendgroup": "WMA",
         "marker": {
          "color": "#636efa",
          "symbol": "circle"
         },
         "mode": "markers",
         "name": "WMA",
         "orientation": "v",
         "showlegend": true,
         "type": "scatter",
         "x": [
          220,
          320,
          420,
          520,
          620,
          720,
          820,
          920
         ],
         "xaxis": "x",
         "y": [
          0.5973629951477051,
          1.3171350955963135,
          2.269852876663208,
          3.719951629638672,
          4.58007287979126,
          5.963299989700317,
          7.571241617202759,
          9.28790807723999
         ],
         "yaxis": "y"
        },
        {
         "customdata": [
          [
           "Zero Lag Moving Average"
          ],
          [
           "Zero Lag Moving Average"
          ],
          [
           "Zero Lag Moving Average"
          ],
          [
           "Zero Lag Moving Average"
          ],
          [
           "Zero Lag Moving Average"
          ],
          [
           "Zero Lag Moving Average"
          ],
          [
           "Zero Lag Moving Average"
          ],
          [
           "Zero Lag Moving Average"
          ]
         ],
         "hovertemplate": "Estrategia=%{customdata[0]}<br>Data Fim=%{x}<br>Tempo de Simulação=%{y}<extra></extra>",
         "legendgroup": "Zero Lag Moving Average",
         "marker": {
          "color": "#EF553B",
          "symbol": "circle"
         },
         "mode": "markers",
         "name": "Zero Lag Moving Average",
         "orientation": "v",
         "showlegend": true,
         "type": "scatter",
         "x": [
          220,
          320,
          420,
          520,
          620,
          720,
          820,
          920
         ],
         "xaxis": "x",
         "y": [
          0.2409498691558838,
          0.41779637336730957,
          0.6261968612670898,
          1.584852933883667,
          0.9989025592803955,
          1.172264814376831,
          1.4186017513275146,
          1.5518195629119873
         ],
         "yaxis": "y"
        },
        {
         "hovertemplate": "Estrategia=UT BOTS<br>Data_Fim=%{x}<br>Tempo_Simulacao=%{y}<extra></extra>",
         "legendgroup": "UT BOTS",
         "line": {
          "color": "#636efa",
          "dash": "solid"
         },
         "marker": {
          "symbol": "circle"
         },
         "mode": "lines",
         "name": "UT BOTS",
         "orientation": "v",
         "showlegend": true,
         "type": "scatter",
         "x": [
          220,
          320,
          420,
          520,
          620,
          720,
          820,
          920
         ],
         "xaxis": "x",
         "y": [
          0.7267367839813232,
          1.704458236694336,
          2.6130971908569336,
          3.9558682441711426,
          6.16925835609436,
          7.45888614654541,
          9.699760913848877,
          11.91460394859314
         ],
         "yaxis": "y"
        },
        {
         "hovertemplate": "Estrategia=MA RSI e VOLUME<br>Data_Fim=%{x}<br>Tempo_Simulacao=%{y}<extra></extra>",
         "legendgroup": "MA RSI e VOLUME",
         "line": {
          "color": "#EF553B",
          "dash": "solid"
         },
         "marker": {
          "symbol": "circle"
         },
         "mode": "lines",
         "name": "MA RSI e VOLUME",
         "orientation": "v",
         "showlegend": true,
         "type": "scatter",
         "x": [
          220,
          320,
          420,
          520,
          620,
          720,
          820,
          920
         ],
         "xaxis": "x",
         "y": [
          0.4418818950653076,
          0.7839105129241943,
          1.0430147647857666,
          1.3854637145996094,
          1.8469781875610352,
          2.081176280975342,
          2.382499933242798,
          2.7572476863861084
         ],
         "yaxis": "y"
        },
        {
         "hovertemplate": "Estrategia=MA SIMPLES FALLBACK 5_10<br>Data_Fim=%{x}<br>Tempo_Simulacao=%{y}<extra></extra>",
         "legendgroup": "MA SIMPLES FALLBACK 5_10",
         "line": {
          "color": "#00cc96",
          "dash": "solid"
         },
         "marker": {
          "symbol": "circle"
         },
         "mode": "lines",
         "name": "MA SIMPLES FALLBACK 5_10",
         "orientation": "v",
         "showlegend": true,
         "type": "scatter",
         "x": [
          220,
          320,
          420,
          520,
          620,
          720,
          820,
          920
         ],
         "xaxis": "x",
         "y": [
          0.271759033203125,
          0.43273067474365234,
          0.6100554466247559,
          0.7629008293151855,
          1.1326472759246826,
          1.151916265487671,
          1.3549854755401611,
          1.565488576889038
         ],
         "yaxis": "y"
        },
        {
         "hovertemplate": "Estrategia=RSI<br>Data_Fim=%{x}<br>Tempo_Simulacao=%{y}<extra></extra>",
         "legendgroup": "RSI",
         "line": {
          "color": "#ab63fa",
          "dash": "solid"
         },
         "marker": {
          "symbol": "circle"
         },
         "mode": "lines",
         "name": "RSI",
         "orientation": "v",
         "showlegend": true,
         "type": "scatter",
         "x": [
          220,
          320,
          420,
          520,
          620,
          720,
          820,
          920
         ],
         "xaxis": "x",
         "y": [
          0.3056762218475342,
          0.4607527256011963,
          0.656700849533081,
          0.8706095218658447,
          1.0962605476379395,
          1.3294403553009033,
          1.4901061058044434,
          1.7546825408935547
         ],
         "yaxis": "y"
        },
        {
         "hovertemplate": "Estrategia=VORTEX<br>Data_Fim=%{x}<br>Tempo_Simulacao=%{y}<extra></extra>",
         "legendgroup": "VORTEX",
         "line": {
          "color": "#FFA15A",
          "dash": "solid"
         },
         "marker": {
          "symbol": "circle"
         },
         "mode": "lines",
         "name": "VORTEX",
         "orientation": "v",
         "showlegend": true,
         "type": "scatter",
         "x": [
          220,
          320,
          420,
          520,
          620,
          720,
          820,
          920
         ],
         "xaxis": "x",
         "y": [
          0.40945005416870117,
          0.6981866359710693,
          0.9927361011505127,
          1.3274075984954834,
          1.700779914855957,
          2.029134511947632,
          2.327481508255005,
          2.641033887863159
         ],
         "yaxis": "y"
        },
        {
         "hovertemplate": "Estrategia=Bollinger Bands<br>Data_Fim=%{x}<br>Tempo_Simulacao=%{y}<extra></extra>",
         "legendgroup": "Bollinger Bands",
         "line": {
          "color": "#19d3f3",
          "dash": "solid"
         },
         "marker": {
          "symbol": "circle"
         },
         "mode": "lines",
         "name": "Bollinger Bands",
         "orientation": "v",
         "showlegend": true,
         "type": "scatter",
         "x": [
          220,
          320,
          420,
          520,
          620,
          720,
          820,
          920
         ],
         "xaxis": "x",
         "y": [
          0.3386378288269043,
          0.6062331199645996,
          0.8019115924835205,
          1.1998803615570068,
          1.3922908306121826,
          1.6300735473632812,
          1.8538215160369873,
          2.1608500480651855
         ],
         "yaxis": "y"
        },
        {
         "hovertemplate": "Estrategia=Ichimoku<br>Data_Fim=%{x}<br>Tempo_Simulacao=%{y}<extra></extra>",
         "legendgroup": "Ichimoku",
         "line": {
          "color": "#FF6692",
          "dash": "solid"
         },
         "marker": {
          "symbol": "circle"
         },
         "mode": "lines",
         "name": "Ichimoku",
         "orientation": "v",
         "showlegend": true,
         "type": "scatter",
         "x": [
          220,
          320,
          420,
          520,
          620,
          720,
          820,
          920
         ],
         "xaxis": "x",
         "y": [
          0.5649726390838623,
          1.004563808441162,
          1.405341386795044,
          1.9288218021392822,
          2.3604860305786133,
          3.067131757736206,
          3.2716498374938965,
          3.7802894115448
         ],
         "yaxis": "y"
        },
        {
         "hovertemplate": "Estrategia=KDJ<br>Data_Fim=%{x}<br>Tempo_Simulacao=%{y}<extra></extra>",
         "legendgroup": "KDJ",
         "line": {
          "color": "#B6E880",
          "dash": "solid"
         },
         "marker": {
          "symbol": "circle"
         },
         "mode": "lines",
         "name": "KDJ",
         "orientation": "v",
         "showlegend": true,
         "type": "scatter",
         "x": [
          220,
          320,
          420,
          520,
          620,
          720,
          820,
          920
         ],
         "xaxis": "x",
         "y": [
          0.45873188972473145,
          0.726754903793335,
          1.0609197616577148,
          1.40116286277771,
          1.8083012104034424,
          2.1687612533569336,
          2.449801445007324,
          2.7765984535217285
         ],
         "yaxis": "y"
        },
        {
         "hovertemplate": "Estrategia=MACD<br>Data_Fim=%{x}<br>Tempo_Simulacao=%{y}<extra></extra>",
         "legendgroup": "MACD",
         "line": {
          "color": "#FF97FF",
          "dash": "solid"
         },
         "marker": {
          "symbol": "circle"
         },
         "mode": "lines",
         "name": "MACD",
         "orientation": "v",
         "showlegend": true,
         "type": "scatter",
         "x": [
          220,
          320,
          420,
          520,
          620,
          720,
          820,
          920
         ],
         "xaxis": "x",
         "y": [
          0.510772705078125,
          0.5172591209411621,
          0.7450728416442871,
          0.9740726947784424,
          1.2110929489135742,
          1.5542144775390625,
          1.6775424480438232,
          1.922600507736206
         ],
         "yaxis": "y"
        },
        {
         "hovertemplate": "Estrategia=Stochastic RSI<br>Data_Fim=%{x}<br>Tempo_Simulacao=%{y}<extra></extra>",
         "legendgroup": "Stochastic RSI",
         "line": {
          "color": "#FECB52",
          "dash": "solid"
         },
         "marker": {
          "symbol": "circle"
         },
         "mode": "lines",
         "name": "Stochastic RSI",
         "orientation": "v",
         "showlegend": true,
         "type": "scatter",
         "x": [
          220,
          320,
          420,
          520,
          620,
          720,
          820,
          920
         ],
         "xaxis": "x",
         "y": [
          0.5655884742736816,
          0.8248536586761475,
          1.1703412532806396,
          1.5670464038848877,
          1.9539926052093506,
          2.3410487174987793,
          2.7186872959136963,
          3.037905216217041
         ],
         "yaxis": "y"
        },
        {
         "hovertemplate": "Estrategia=Williams %R<br>Data_Fim=%{x}<br>Tempo_Simulacao=%{y}<extra></extra>",
         "legendgroup": "Williams %R",
         "line": {
          "color": "#636efa",
          "dash": "solid"
         },
         "marker": {
          "symbol": "circle"
         },
         "mode": "lines",
         "name": "Williams %R",
         "orientation": "v",
         "showlegend": true,
         "type": "scatter",
         "x": [
          220,
          320,
          420,
          520,
          620,
          720,
          820,
          920
         ],
         "xaxis": "x",
         "y": [
          0.5244505405426025,
          0.5360889434814453,
          0.8441205024719238,
          1.0038139820098877,
          1.267035722732544,
          1.505401849746704,
          1.7654895782470703,
          2.034499406814575
         ],
         "yaxis": "y"
        },
        {
         "hovertemplate": "Estrategia=Accelerator Oscillator<br>Data_Fim=%{x}<br>Tempo_Simulacao=%{y}<extra></extra>",
         "legendgroup": "Accelerator Oscillator",
         "line": {
          "color": "#EF553B",
          "dash": "solid"
         },
         "marker": {
          "symbol": "circle"
         },
         "mode": "lines",
         "name": "Accelerator Oscillator",
         "orientation": "v",
         "showlegend": true,
         "type": "scatter",
         "x": [
          220,
          320,
          420,
          520,
          620,
          720,
          820,
          920
         ],
         "xaxis": "x",
         "y": [
          0.9311313629150391,
          1.2638750076293945,
          1.7392621040344238,
          2.326746702194214,
          2.9149768352508545,
          3.9296300411224365,
          3.882697343826294,
          4.471674680709839
         ],
         "yaxis": "y"
        },
        {
         "hovertemplate": "Estrategia=ALMA<br>Data_Fim=%{x}<br>Tempo_Simulacao=%{y}<extra></extra>",
         "legendgroup": "ALMA",
         "line": {
          "color": "#00cc96",
          "dash": "solid"
         },
         "marker": {
          "symbol": "circle"
         },
         "mode": "lines",
         "name": "ALMA",
         "orientation": "v",
         "showlegend": true,
         "type": "scatter",
         "x": [
          220,
          320,
          420,
          520,
          620,
          720,
          820,
          920
         ],
         "xaxis": "x",
         "y": [
          0.5013413429260254,
          1.033019781112671,
          1.6977639198303223,
          2.473109483718872,
          3.5110549926757812,
          4.920008182525635,
          5.599214792251587,
          6.925172328948975
         ],
         "yaxis": "y"
        },
        {
         "hovertemplate": "Estrategia=ALMA Cruzamento<br>Data_Fim=%{x}<br>Tempo_Simulacao=%{y}<extra></extra>",
         "legendgroup": "ALMA Cruzamento",
         "line": {
          "color": "#ab63fa",
          "dash": "solid"
         },
         "marker": {
          "symbol": "circle"
         },
         "mode": "lines",
         "name": "ALMA Cruzamento",
         "orientation": "v",
         "showlegend": true,
         "type": "scatter",
         "x": [
          220,
          320,
          420,
          520,
          620,
          720,
          820,
          920
         ],
         "xaxis": "x",
         "y": [
          0.9597554206848145,
          2.361154794692993,
          3.9514882564544678,
          6.060725688934326,
          8.633170127868652,
          11.744955062866211,
          14.656429052352905,
          18.93414807319641
         ],
         "yaxis": "y"
        },
        {
         "hovertemplate": "Estrategia=Aroon Oscillator<br>Data_Fim=%{x}<br>Tempo_Simulacao=%{y}<extra></extra>",
         "legendgroup": "Aroon Oscillator",
         "line": {
          "color": "#FFA15A",
          "dash": "solid"
         },
         "marker": {
          "symbol": "circle"
         },
         "mode": "lines",
         "name": "Aroon Oscillator",
         "orientation": "v",
         "showlegend": true,
         "type": "scatter",
         "x": [
          220,
          320,
          420,
          520,
          620,
          720,
          820,
          920
         ],
         "xaxis": "x",
         "y": [
          0.3574192523956299,
          0.6818962097167969,
          0.9551944732666016,
          1.2606391906738281,
          1.615149736404419,
          2.060136079788208,
          2.374391794204712,
          2.7356832027435303
         ],
         "yaxis": "y"
        },
        {
         "hovertemplate": "Estrategia=Aroon Puro<br>Data_Fim=%{x}<br>Tempo_Simulacao=%{y}<extra></extra>",
         "legendgroup": "Aroon Puro",
         "line": {
          "color": "#19d3f3",
          "dash": "solid"
         },
         "marker": {
          "symbol": "circle"
         },
         "mode": "lines",
         "name": "Aroon Puro",
         "orientation": "v",
         "showlegend": true,
         "type": "scatter",
         "x": [
          220,
          320,
          420,
          520,
          620,
          720,
          820,
          920
         ],
         "xaxis": "x",
         "y": [
          0.39908742904663086,
          0.7950730323791504,
          1.1304841041564941,
          1.5586779117584229,
          2.0047974586486816,
          2.472127914428711,
          2.8217384815216064,
          3.228132486343384
         ],
         "yaxis": "y"
        },
        {
         "hovertemplate": "Estrategia=ATR<br>Data_Fim=%{x}<br>Tempo_Simulacao=%{y}<extra></extra>",
         "legendgroup": "ATR",
         "line": {
          "color": "#FF6692",
          "dash": "solid"
         },
         "marker": {
          "symbol": "circle"
         },
         "mode": "lines",
         "name": "ATR",
         "orientation": "v",
         "showlegend": true,
         "type": "scatter",
         "x": [
          220,
          320,
          420,
          520,
          620,
          720,
          820,
          920
         ],
         "xaxis": "x",
         "y": [
          0.4568467140197754,
          0.8663220405578613,
          1.2650625705718994,
          1.718160629272461,
          2.0915369987487793,
          2.581676959991455,
          2.8743324279785156,
          3.2896695137023926
         ],
         "yaxis": "y"
        },
        {
         "hovertemplate": "Estrategia=Awesome Oscillator<br>Data_Fim=%{x}<br>Tempo_Simulacao=%{y}<extra></extra>",
         "legendgroup": "Awesome Oscillator",
         "line": {
          "color": "#B6E880",
          "dash": "solid"
         },
         "marker": {
          "symbol": "circle"
         },
         "mode": "lines",
         "name": "Awesome Oscillator",
         "orientation": "v",
         "showlegend": true,
         "type": "scatter",
         "x": [
          220,
          320,
          420,
          520,
          620,
          720,
          820,
          920
         ],
         "xaxis": "x",
         "y": [
          0.3554801940917969,
          0.6927263736724854,
          1.0070748329162598,
          1.2821099758148193,
          1.6395940780639648,
          2.0054686069488525,
          2.217796802520752,
          2.5825388431549072
         ],
         "yaxis": "y"
        },
        {
         "hovertemplate": "Estrategia=Chaikin Oscillator<br>Data_Fim=%{x}<br>Tempo_Simulacao=%{y}<extra></extra>",
         "legendgroup": "Chaikin Oscillator",
         "line": {
          "color": "#FF97FF",
          "dash": "solid"
         },
         "marker": {
          "symbol": "circle"
         },
         "mode": "lines",
         "name": "Chaikin Oscillator",
         "orientation": "v",
         "showlegend": true,
         "type": "scatter",
         "x": [
          220,
          320,
          420,
          520,
          620,
          720,
          820,
          920
         ],
         "xaxis": "x",
         "y": [
          0.36887431144714355,
          0.6831791400909424,
          0.907691478729248,
          1.2272331714630127,
          1.5245308876037598,
          1.891850471496582,
          2.0460891723632812,
          2.39760684967041
         ],
         "yaxis": "y"
        },
        {
         "hovertemplate": "Estrategia=Chande Momentum Oscillator<br>Data_Fim=%{x}<br>Tempo_Simulacao=%{y}<extra></extra>",
         "legendgroup": "Chande Momentum Oscillator",
         "line": {
          "color": "#FECB52",
          "dash": "solid"
         },
         "marker": {
          "symbol": "circle"
         },
         "mode": "lines",
         "name": "Chande Momentum Oscillator",
         "orientation": "v",
         "showlegend": true,
         "type": "scatter",
         "x": [
          220,
          320,
          420,
          520,
          620,
          720,
          820,
          920
         ],
         "xaxis": "x",
         "y": [
          0.3572988510131836,
          0.5937509536743164,
          0.8476154804229736,
          1.1395041942596436,
          1.465301275253296,
          1.76761794090271,
          1.9859991073608398,
          2.236081838607788
         ],
         "yaxis": "y"
        },
        {
         "hovertemplate": "Estrategia=CMF<br>Data_Fim=%{x}<br>Tempo_Simulacao=%{y}<extra></extra>",
         "legendgroup": "CMF",
         "line": {
          "color": "#636efa",
          "dash": "solid"
         },
         "marker": {
          "symbol": "circle"
         },
         "mode": "lines",
         "name": "CMF",
         "orientation": "v",
         "showlegend": true,
         "type": "scatter",
         "x": [
          220,
          320,
          420,
          520,
          620,
          720,
          820,
          920
         ],
         "xaxis": "x",
         "y": [
          0.26935553550720215,
          0.48709702491760254,
          0.7116250991821289,
          0.9608449935913086,
          1.2027015686035156,
          1.7824029922485352,
          1.5798304080963135,
          1.8630988597869873
         ],
         "yaxis": "y"
        },
        {
         "hovertemplate": "Estrategia=Detrended Price Oscillator<br>Data_Fim=%{x}<br>Tempo_Simulacao=%{y}<extra></extra>",
         "legendgroup": "Detrended Price Oscillator",
         "line": {
          "color": "#EF553B",
          "dash": "solid"
         },
         "marker": {
          "symbol": "circle"
         },
         "mode": "lines",
         "name": "Detrended Price Oscillator",
         "orientation": "v",
         "showlegend": true,
         "type": "scatter",
         "x": [
          220,
          320,
          420,
          520,
          620,
          720,
          820,
          920
         ],
         "xaxis": "x",
         "y": [
          0.20717358589172363,
          0.37515997886657715,
          0.529388427734375,
          0.7110207080841064,
          0.8882813453674316,
          2.2938780784606934,
          1.2226338386535645,
          1.3844995498657227
         ],
         "yaxis": "y"
        },
        {
         "hovertemplate": "Estrategia=Donchian Channel<br>Data_Fim=%{x}<br>Tempo_Simulacao=%{y}<extra></extra>",
         "legendgroup": "Donchian Channel",
         "line": {
          "color": "#00cc96",
          "dash": "solid"
         },
         "marker": {
          "symbol": "circle"
         },
         "mode": "lines",
         "name": "Donchian Channel",
         "orientation": "v",
         "showlegend": true,
         "type": "scatter",
         "x": [
          220,
          320,
          420,
          520,
          620,
          720,
          820,
          920
         ],
         "xaxis": "x",
         "y": [
          0.3068983554840088,
          0.515272855758667,
          0.8585927486419678,
          1.0068047046661377,
          1.2916488647460938,
          2.995891809463501,
          1.7449467182159424,
          2.0125131607055664
         ],
         "yaxis": "y"
        },
        {
         "hovertemplate": "Estrategia=Elder Force Index<br>Data_Fim=%{x}<br>Tempo_Simulacao=%{y}<extra></extra>",
         "legendgroup": "Elder Force Index",
         "line": {
          "color": "#ab63fa",
          "dash": "solid"
         },
         "marker": {
          "symbol": "circle"
         },
         "mode": "lines",
         "name": "Elder Force Index",
         "orientation": "v",
         "showlegend": true,
         "type": "scatter",
         "x": [
          220,
          320,
          420,
          520,
          620,
          720,
          820,
          920
         ],
         "xaxis": "x",
         "y": [
          0.2740795612335205,
          0.42140865325927734,
          0.606226921081543,
          0.767894983291626,
          0.9863286018371582,
          1.3478062152862549,
          1.4038753509521484,
          1.5278007984161377
         ],
         "yaxis": "y"
        },
        {
         "hovertemplate": "Estrategia=Elder Ray<br>Data_Fim=%{x}<br>Tempo_Simulacao=%{y}<extra></extra>",
         "legendgroup": "Elder Ray",
         "line": {
          "color": "#FFA15A",
          "dash": "solid"
         },
         "marker": {
          "symbol": "circle"
         },
         "mode": "lines",
         "name": "Elder Ray",
         "orientation": "v",
         "showlegend": true,
         "type": "scatter",
         "x": [
          220,
          320,
          420,
          520,
          620,
          720,
          820,
          920
         ],
         "xaxis": "x",
         "y": [
          0.26337242126464844,
          0.4114100933074951,
          0.5984115600585938,
          0.7739696502685547,
          0.9484717845916748,
          1.151369333267212,
          1.303234338760376,
          1.5091171264648438
         ],
         "yaxis": "y"
        },
        {
         "hovertemplate": "Estrategia=Force Index<br>Data_Fim=%{x}<br>Tempo_Simulacao=%{y}<extra></extra>",
         "legendgroup": "Force Index",
         "line": {
          "color": "#19d3f3",
          "dash": "solid"
         },
         "marker": {
          "symbol": "circle"
         },
         "mode": "lines",
         "name": "Force Index",
         "orientation": "v",
         "showlegend": true,
         "type": "scatter",
         "x": [
          220,
          320,
          420,
          520,
          620,
          720,
          820,
          920
         ],
         "xaxis": "x",
         "y": [
          0.325115442276001,
          0.4590492248535156,
          0.6777665615081787,
          0.887598991394043,
          1.1380107402801514,
          1.3626272678375244,
          1.5473120212554932,
          1.7780265808105469
         ],
         "yaxis": "y"
        },
        {
         "hovertemplate": "Estrategia=Ultimate Oscillator<br>Data_Fim=%{x}<br>Tempo_Simulacao=%{y}<extra></extra>",
         "legendgroup": "Ultimate Oscillator",
         "line": {
          "color": "#FF6692",
          "dash": "solid"
         },
         "marker": {
          "symbol": "circle"
         },
         "mode": "lines",
         "name": "Ultimate Oscillator",
         "orientation": "v",
         "showlegend": true,
         "type": "scatter",
         "x": [
          220,
          320,
          420,
          520,
          620,
          720,
          820,
          920
         ],
         "xaxis": "x",
         "y": [
          0.9637002944946289,
          1.6965408325195312,
          3.154160499572754,
          4.130374908447266,
          5.67139196395874,
          7.351528882980347,
          9.040642738342285,
          11.346523523330688
         ],
         "yaxis": "y"
        },
        {
         "hovertemplate": "Estrategia=VIDYA<br>Data_Fim=%{x}<br>Tempo_Simulacao=%{y}<extra></extra>",
         "legendgroup": "VIDYA",
         "line": {
          "color": "#B6E880",
          "dash": "solid"
         },
         "marker": {
          "symbol": "circle"
         },
         "mode": "lines",
         "name": "VIDYA",
         "orientation": "v",
         "showlegend": true,
         "type": "scatter",
         "x": [
          220,
          320,
          420,
          520,
          620,
          720,
          820,
          920
         ],
         "xaxis": "x",
         "y": [
          1.0187668800354004,
          1.910883903503418,
          3.2333545684814453,
          4.8215484619140625,
          6.476413011550903,
          8.609027624130249,
          10.702383756637573,
          13.09706974029541
         ],
         "yaxis": "y"
        },
        {
         "hovertemplate": "Estrategia=Volume Weighted Average Price VWAP<br>Data_Fim=%{x}<br>Tempo_Simulacao=%{y}<extra></extra>",
         "legendgroup": "Volume Weighted Average Price VWAP",
         "line": {
          "color": "#FF97FF",
          "dash": "solid"
         },
         "marker": {
          "symbol": "circle"
         },
         "mode": "lines",
         "name": "Volume Weighted Average Price VWAP",
         "orientation": "v",
         "showlegend": true,
         "type": "scatter",
         "x": [
          220,
          320,
          420,
          520,
          620,
          720,
          820,
          920
         ],
         "xaxis": "x",
         "y": [
          0.4181632995605469,
          0.7106609344482422,
          1.0865633487701416,
          1.40785551071167,
          1.7862777709960938,
          2.0647242069244385,
          2.4610722064971924,
          2.816704750061035
         ],
         "yaxis": "y"
        },
        {
         "hovertemplate": "Estrategia=Williams Alligator<br>Data_Fim=%{x}<br>Tempo_Simulacao=%{y}<extra></extra>",
         "legendgroup": "Williams Alligator",
         "line": {
          "color": "#FECB52",
          "dash": "solid"
         },
         "marker": {
          "symbol": "circle"
         },
         "mode": "lines",
         "name": "Williams Alligator",
         "orientation": "v",
         "showlegend": true,
         "type": "scatter",
         "x": [
          220,
          320,
          420,
          520,
          620,
          720,
          820,
          920
         ],
         "xaxis": "x",
         "y": [
          0.3219571113586426,
          0.5474772453308105,
          0.8813364505767822,
          1.1133692264556885,
          1.4232101440429688,
          1.6772403717041016,
          1.9869017601013184,
          2.3065052032470703
         ],
         "yaxis": "y"
        },
        {
         "hovertemplate": "Estrategia=WMA<br>Data_Fim=%{x}<br>Tempo_Simulacao=%{y}<extra></extra>",
         "legendgroup": "WMA",
         "line": {
          "color": "#636efa",
          "dash": "solid"
         },
         "marker": {
          "symbol": "circle"
         },
         "mode": "lines",
         "name": "WMA",
         "orientation": "v",
         "showlegend": true,
         "type": "scatter",
         "x": [
          220,
          320,
          420,
          520,
          620,
          720,
          820,
          920
         ],
         "xaxis": "x",
         "y": [
          0.5973629951477051,
          1.3171350955963135,
          2.269852876663208,
          3.719951629638672,
          4.58007287979126,
          5.963299989700317,
          7.571241617202759,
          9.28790807723999
         ],
         "yaxis": "y"
        },
        {
         "hovertemplate": "Estrategia=Zero Lag Moving Average<br>Data_Fim=%{x}<br>Tempo_Simulacao=%{y}<extra></extra>",
         "legendgroup": "Zero Lag Moving Average",
         "line": {
          "color": "#EF553B",
          "dash": "solid"
         },
         "marker": {
          "symbol": "circle"
         },
         "mode": "lines",
         "name": "Zero Lag Moving Average",
         "orientation": "v",
         "showlegend": true,
         "type": "scatter",
         "x": [
          220,
          320,
          420,
          520,
          620,
          720,
          820,
          920
         ],
         "xaxis": "x",
         "y": [
          0.2409498691558838,
          0.41779637336730957,
          0.6261968612670898,
          1.584852933883667,
          0.9989025592803955,
          1.172264814376831,
          1.4186017513275146,
          1.5518195629119873
         ],
         "yaxis": "y"
        }
       ],
       "layout": {
        "legend": {
         "title": {
          "text": "Estrategia"
         },
         "tracegroupgap": 0
        },
        "template": {
         "data": {
          "bar": [
           {
            "error_x": {
             "color": "#2a3f5f"
            },
            "error_y": {
             "color": "#2a3f5f"
            },
            "marker": {
             "line": {
              "color": "#E5ECF6",
              "width": 0.5
             },
             "pattern": {
              "fillmode": "overlay",
              "size": 10,
              "solidity": 0.2
             }
            },
            "type": "bar"
           }
          ],
          "barpolar": [
           {
            "marker": {
             "line": {
              "color": "#E5ECF6",
              "width": 0.5
             },
             "pattern": {
              "fillmode": "overlay",
              "size": 10,
              "solidity": 0.2
             }
            },
            "type": "barpolar"
           }
          ],
          "carpet": [
           {
            "aaxis": {
             "endlinecolor": "#2a3f5f",
             "gridcolor": "white",
             "linecolor": "white",
             "minorgridcolor": "white",
             "startlinecolor": "#2a3f5f"
            },
            "baxis": {
             "endlinecolor": "#2a3f5f",
             "gridcolor": "white",
             "linecolor": "white",
             "minorgridcolor": "white",
             "startlinecolor": "#2a3f5f"
            },
            "type": "carpet"
           }
          ],
          "choropleth": [
           {
            "colorbar": {
             "outlinewidth": 0,
             "ticks": ""
            },
            "type": "choropleth"
           }
          ],
          "contour": [
           {
            "colorbar": {
             "outlinewidth": 0,
             "ticks": ""
            },
            "colorscale": [
             [
              0,
              "#0d0887"
             ],
             [
              0.1111111111111111,
              "#46039f"
             ],
             [
              0.2222222222222222,
              "#7201a8"
             ],
             [
              0.3333333333333333,
              "#9c179e"
             ],
             [
              0.4444444444444444,
              "#bd3786"
             ],
             [
              0.5555555555555556,
              "#d8576b"
             ],
             [
              0.6666666666666666,
              "#ed7953"
             ],
             [
              0.7777777777777778,
              "#fb9f3a"
             ],
             [
              0.8888888888888888,
              "#fdca26"
             ],
             [
              1,
              "#f0f921"
             ]
            ],
            "type": "contour"
           }
          ],
          "contourcarpet": [
           {
            "colorbar": {
             "outlinewidth": 0,
             "ticks": ""
            },
            "type": "contourcarpet"
           }
          ],
          "heatmap": [
           {
            "colorbar": {
             "outlinewidth": 0,
             "ticks": ""
            },
            "colorscale": [
             [
              0,
              "#0d0887"
             ],
             [
              0.1111111111111111,
              "#46039f"
             ],
             [
              0.2222222222222222,
              "#7201a8"
             ],
             [
              0.3333333333333333,
              "#9c179e"
             ],
             [
              0.4444444444444444,
              "#bd3786"
             ],
             [
              0.5555555555555556,
              "#d8576b"
             ],
             [
              0.6666666666666666,
              "#ed7953"
             ],
             [
              0.7777777777777778,
              "#fb9f3a"
             ],
             [
              0.8888888888888888,
              "#fdca26"
             ],
             [
              1,
              "#f0f921"
             ]
            ],
            "type": "heatmap"
           }
          ],
          "heatmapgl": [
           {
            "colorbar": {
             "outlinewidth": 0,
             "ticks": ""
            },
            "colorscale": [
             [
              0,
              "#0d0887"
             ],
             [
              0.1111111111111111,
              "#46039f"
             ],
             [
              0.2222222222222222,
              "#7201a8"
             ],
             [
              0.3333333333333333,
              "#9c179e"
             ],
             [
              0.4444444444444444,
              "#bd3786"
             ],
             [
              0.5555555555555556,
              "#d8576b"
             ],
             [
              0.6666666666666666,
              "#ed7953"
             ],
             [
              0.7777777777777778,
              "#fb9f3a"
             ],
             [
              0.8888888888888888,
              "#fdca26"
             ],
             [
              1,
              "#f0f921"
             ]
            ],
            "type": "heatmapgl"
           }
          ],
          "histogram": [
           {
            "marker": {
             "pattern": {
              "fillmode": "overlay",
              "size": 10,
              "solidity": 0.2
             }
            },
            "type": "histogram"
           }
          ],
          "histogram2d": [
           {
            "colorbar": {
             "outlinewidth": 0,
             "ticks": ""
            },
            "colorscale": [
             [
              0,
              "#0d0887"
             ],
             [
              0.1111111111111111,
              "#46039f"
             ],
             [
              0.2222222222222222,
              "#7201a8"
             ],
             [
              0.3333333333333333,
              "#9c179e"
             ],
             [
              0.4444444444444444,
              "#bd3786"
             ],
             [
              0.5555555555555556,
              "#d8576b"
             ],
             [
              0.6666666666666666,
              "#ed7953"
             ],
             [
              0.7777777777777778,
              "#fb9f3a"
             ],
             [
              0.8888888888888888,
              "#fdca26"
             ],
             [
              1,
              "#f0f921"
             ]
            ],
            "type": "histogram2d"
           }
          ],
          "histogram2dcontour": [
           {
            "colorbar": {
             "outlinewidth": 0,
             "ticks": ""
            },
            "colorscale": [
             [
              0,
              "#0d0887"
             ],
             [
              0.1111111111111111,
              "#46039f"
             ],
             [
              0.2222222222222222,
              "#7201a8"
             ],
             [
              0.3333333333333333,
              "#9c179e"
             ],
             [
              0.4444444444444444,
              "#bd3786"
             ],
             [
              0.5555555555555556,
              "#d8576b"
             ],
             [
              0.6666666666666666,
              "#ed7953"
             ],
             [
              0.7777777777777778,
              "#fb9f3a"
             ],
             [
              0.8888888888888888,
              "#fdca26"
             ],
             [
              1,
              "#f0f921"
             ]
            ],
            "type": "histogram2dcontour"
           }
          ],
          "mesh3d": [
           {
            "colorbar": {
             "outlinewidth": 0,
             "ticks": ""
            },
            "type": "mesh3d"
           }
          ],
          "parcoords": [
           {
            "line": {
             "colorbar": {
              "outlinewidth": 0,
              "ticks": ""
             }
            },
            "type": "parcoords"
           }
          ],
          "pie": [
           {
            "automargin": true,
            "type": "pie"
           }
          ],
          "scatter": [
           {
            "fillpattern": {
             "fillmode": "overlay",
             "size": 10,
             "solidity": 0.2
            },
            "type": "scatter"
           }
          ],
          "scatter3d": [
           {
            "line": {
             "colorbar": {
              "outlinewidth": 0,
              "ticks": ""
             }
            },
            "marker": {
             "colorbar": {
              "outlinewidth": 0,
              "ticks": ""
             }
            },
            "type": "scatter3d"
           }
          ],
          "scattercarpet": [
           {
            "marker": {
             "colorbar": {
              "outlinewidth": 0,
              "ticks": ""
             }
            },
            "type": "scattercarpet"
           }
          ],
          "scattergeo": [
           {
            "marker": {
             "colorbar": {
              "outlinewidth": 0,
              "ticks": ""
             }
            },
            "type": "scattergeo"
           }
          ],
          "scattergl": [
           {
            "marker": {
             "colorbar": {
              "outlinewidth": 0,
              "ticks": ""
             }
            },
            "type": "scattergl"
           }
          ],
          "scattermapbox": [
           {
            "marker": {
             "colorbar": {
              "outlinewidth": 0,
              "ticks": ""
             }
            },
            "type": "scattermapbox"
           }
          ],
          "scatterpolar": [
           {
            "marker": {
             "colorbar": {
              "outlinewidth": 0,
              "ticks": ""
             }
            },
            "type": "scatterpolar"
           }
          ],
          "scatterpolargl": [
           {
            "marker": {
             "colorbar": {
              "outlinewidth": 0,
              "ticks": ""
             }
            },
            "type": "scatterpolargl"
           }
          ],
          "scatterternary": [
           {
            "marker": {
             "colorbar": {
              "outlinewidth": 0,
              "ticks": ""
             }
            },
            "type": "scatterternary"
           }
          ],
          "surface": [
           {
            "colorbar": {
             "outlinewidth": 0,
             "ticks": ""
            },
            "colorscale": [
             [
              0,
              "#0d0887"
             ],
             [
              0.1111111111111111,
              "#46039f"
             ],
             [
              0.2222222222222222,
              "#7201a8"
             ],
             [
              0.3333333333333333,
              "#9c179e"
             ],
             [
              0.4444444444444444,
              "#bd3786"
             ],
             [
              0.5555555555555556,
              "#d8576b"
             ],
             [
              0.6666666666666666,
              "#ed7953"
             ],
             [
              0.7777777777777778,
              "#fb9f3a"
             ],
             [
              0.8888888888888888,
              "#fdca26"
             ],
             [
              1,
              "#f0f921"
             ]
            ],
            "type": "surface"
           }
          ],
          "table": [
           {
            "cells": {
             "fill": {
              "color": "#EBF0F8"
             },
             "line": {
              "color": "white"
             }
            },
            "header": {
             "fill": {
              "color": "#C8D4E3"
             },
             "line": {
              "color": "white"
             }
            },
            "type": "table"
           }
          ]
         },
         "layout": {
          "annotationdefaults": {
           "arrowcolor": "#2a3f5f",
           "arrowhead": 0,
           "arrowwidth": 1
          },
          "autotypenumbers": "strict",
          "coloraxis": {
           "colorbar": {
            "outlinewidth": 0,
            "ticks": ""
           }
          },
          "colorscale": {
           "diverging": [
            [
             0,
             "#8e0152"
            ],
            [
             0.1,
             "#c51b7d"
            ],
            [
             0.2,
             "#de77ae"
            ],
            [
             0.3,
             "#f1b6da"
            ],
            [
             0.4,
             "#fde0ef"
            ],
            [
             0.5,
             "#f7f7f7"
            ],
            [
             0.6,
             "#e6f5d0"
            ],
            [
             0.7,
             "#b8e186"
            ],
            [
             0.8,
             "#7fbc41"
            ],
            [
             0.9,
             "#4d9221"
            ],
            [
             1,
             "#276419"
            ]
           ],
           "sequential": [
            [
             0,
             "#0d0887"
            ],
            [
             0.1111111111111111,
             "#46039f"
            ],
            [
             0.2222222222222222,
             "#7201a8"
            ],
            [
             0.3333333333333333,
             "#9c179e"
            ],
            [
             0.4444444444444444,
             "#bd3786"
            ],
            [
             0.5555555555555556,
             "#d8576b"
            ],
            [
             0.6666666666666666,
             "#ed7953"
            ],
            [
             0.7777777777777778,
             "#fb9f3a"
            ],
            [
             0.8888888888888888,
             "#fdca26"
            ],
            [
             1,
             "#f0f921"
            ]
           ],
           "sequentialminus": [
            [
             0,
             "#0d0887"
            ],
            [
             0.1111111111111111,
             "#46039f"
            ],
            [
             0.2222222222222222,
             "#7201a8"
            ],
            [
             0.3333333333333333,
             "#9c179e"
            ],
            [
             0.4444444444444444,
             "#bd3786"
            ],
            [
             0.5555555555555556,
             "#d8576b"
            ],
            [
             0.6666666666666666,
             "#ed7953"
            ],
            [
             0.7777777777777778,
             "#fb9f3a"
            ],
            [
             0.8888888888888888,
             "#fdca26"
            ],
            [
             1,
             "#f0f921"
            ]
           ]
          },
          "colorway": [
           "#636efa",
           "#EF553B",
           "#00cc96",
           "#ab63fa",
           "#FFA15A",
           "#19d3f3",
           "#FF6692",
           "#B6E880",
           "#FF97FF",
           "#FECB52"
          ],
          "font": {
           "color": "#2a3f5f"
          },
          "geo": {
           "bgcolor": "white",
           "lakecolor": "white",
           "landcolor": "#E5ECF6",
           "showlakes": true,
           "showland": true,
           "subunitcolor": "white"
          },
          "hoverlabel": {
           "align": "left"
          },
          "hovermode": "closest",
          "mapbox": {
           "style": "light"
          },
          "paper_bgcolor": "white",
          "plot_bgcolor": "#E5ECF6",
          "polar": {
           "angularaxis": {
            "gridcolor": "white",
            "linecolor": "white",
            "ticks": ""
           },
           "bgcolor": "#E5ECF6",
           "radialaxis": {
            "gridcolor": "white",
            "linecolor": "white",
            "ticks": ""
           }
          },
          "scene": {
           "xaxis": {
            "backgroundcolor": "#E5ECF6",
            "gridcolor": "white",
            "gridwidth": 2,
            "linecolor": "white",
            "showbackground": true,
            "ticks": "",
            "zerolinecolor": "white"
           },
           "yaxis": {
            "backgroundcolor": "#E5ECF6",
            "gridcolor": "white",
            "gridwidth": 2,
            "linecolor": "white",
            "showbackground": true,
            "ticks": "",
            "zerolinecolor": "white"
           },
           "zaxis": {
            "backgroundcolor": "#E5ECF6",
            "gridcolor": "white",
            "gridwidth": 2,
            "linecolor": "white",
            "showbackground": true,
            "ticks": "",
            "zerolinecolor": "white"
           }
          },
          "shapedefaults": {
           "line": {
            "color": "#2a3f5f"
           }
          },
          "ternary": {
           "aaxis": {
            "gridcolor": "white",
            "linecolor": "white",
            "ticks": ""
           },
           "baxis": {
            "gridcolor": "white",
            "linecolor": "white",
            "ticks": ""
           },
           "bgcolor": "#E5ECF6",
           "caxis": {
            "gridcolor": "white",
            "linecolor": "white",
            "ticks": ""
           }
          },
          "title": {
           "x": 0.05
          },
          "xaxis": {
           "automargin": true,
           "gridcolor": "white",
           "linecolor": "white",
           "ticks": "",
           "title": {
            "standoff": 15
           },
           "zerolinecolor": "white",
           "zerolinewidth": 2
          },
          "yaxis": {
           "automargin": true,
           "gridcolor": "white",
           "linecolor": "white",
           "ticks": "",
           "title": {
            "standoff": 15
           },
           "zerolinecolor": "white",
           "zerolinewidth": 2
          }
         }
        },
        "title": {
         "text": "Dispersão e Linhas por Estratégia"
        },
        "xaxis": {
         "anchor": "y",
         "domain": [
          0,
          1
         ],
         "title": {
          "text": "Data Fim"
         }
        },
        "yaxis": {
         "anchor": "x",
         "domain": [
          0,
          1
         ],
         "title": {
          "text": "Tempo de Simulação"
         }
        }
       }
      }
     },
     "metadata": {},
     "output_type": "display_data"
    }
   ],
   "source": [
    "import plotly.express as px\n",
    "fig = px.scatter(df, \n",
    "                 y=\"Tempo_Simulacao\", \n",
    "                 x=\"Data_Fim\", \n",
    "                 color=\"Estrategia\",\n",
    "                 title=\"Dispersão e Linhas por Estratégia\",\n",
    "                 labels={\"Tempo_Simulacao\": \"Tempo de Simulação\", \"Data_Fim\": \"Data Fim\"},\n",
    "                 hover_data=[\"Estrategia\"])\n",
    "\n",
    "# Adiciona linha conectando os pontos por 'Estrategia'\n",
    "fig.add_traces(px.line(df, y=\"Tempo_Simulacao\", x=\"Data_Fim\", color=\"Estrategia\").data)\n",
    "\n",
    "fig.show()\n"
   ]
  },
  {
   "cell_type": "code",
   "execution_count": null,
   "id": "4f3edfbc",
   "metadata": {},
   "outputs": [],
   "source": []
  },
  {
   "cell_type": "code",
   "execution_count": null,
   "id": "fbd47716",
   "metadata": {},
   "outputs": [],
   "source": []
  },
  {
   "cell_type": "code",
   "execution_count": null,
   "id": "9f7bc54d",
   "metadata": {},
   "outputs": [],
   "source": []
  },
  {
   "cell_type": "code",
   "execution_count": null,
   "id": "ea2ae10c",
   "metadata": {},
   "outputs": [],
   "source": []
  },
  {
   "cell_type": "code",
   "execution_count": null,
   "id": "d5b40980",
   "metadata": {},
   "outputs": [],
   "source": []
  },
  {
   "cell_type": "code",
   "execution_count": null,
   "id": "bb9a9ed7",
   "metadata": {},
   "outputs": [],
   "source": []
  },
  {
   "cell_type": "code",
   "execution_count": null,
   "id": "c8546154",
   "metadata": {},
   "outputs": [],
   "source": []
  },
  {
   "cell_type": "code",
   "execution_count": null,
   "id": "06e68cf0",
   "metadata": {},
   "outputs": [],
   "source": []
  },
  {
   "cell_type": "code",
   "execution_count": null,
   "id": "bac88fbb",
   "metadata": {},
   "outputs": [],
   "source": []
  }
 ],
 "metadata": {
  "kernelspec": {
   "display_name": "base",
   "language": "python",
   "name": "python3"
  },
  "language_info": {
   "codemirror_mode": {
    "name": "ipython",
    "version": 3
   },
   "file_extension": ".py",
   "mimetype": "text/x-python",
   "name": "python",
   "nbconvert_exporter": "python",
   "pygments_lexer": "ipython3",
   "version": "3.12.4"
  }
 },
 "nbformat": 4,
 "nbformat_minor": 5
}
