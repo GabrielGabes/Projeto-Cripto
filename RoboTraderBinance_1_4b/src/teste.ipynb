{
 "cells": [
  {
   "cell_type": "code",
   "execution_count": 15,
   "id": "37fb5226",
   "metadata": {},
   "outputs": [
    {
     "data": {
      "text/html": [
       "<div>\n",
       "<style scoped>\n",
       "    .dataframe tbody tr th:only-of-type {\n",
       "        vertical-align: middle;\n",
       "    }\n",
       "\n",
       "    .dataframe tbody tr th {\n",
       "        vertical-align: top;\n",
       "    }\n",
       "\n",
       "    .dataframe thead th {\n",
       "        text-align: right;\n",
       "    }\n",
       "</style>\n",
       "<table border=\"1\" class=\"dataframe\">\n",
       "  <thead>\n",
       "    <tr style=\"text-align: right;\">\n",
       "      <th></th>\n",
       "      <th>X1</th>\n",
       "      <th>Y_lag1</th>\n",
       "      <th>Y_lag2</th>\n",
       "      <th>Y</th>\n",
       "    </tr>\n",
       "  </thead>\n",
       "  <tbody>\n",
       "    <tr>\n",
       "      <th>3</th>\n",
       "      <td>0.620434</td>\n",
       "      <td>1.006138</td>\n",
       "      <td>0.358450</td>\n",
       "      <td>2.529168</td>\n",
       "    </tr>\n",
       "    <tr>\n",
       "      <th>4</th>\n",
       "      <td>1.297919</td>\n",
       "      <td>2.529168</td>\n",
       "      <td>1.006138</td>\n",
       "      <td>2.295015</td>\n",
       "    </tr>\n",
       "    <tr>\n",
       "      <th>5</th>\n",
       "      <td>1.943441</td>\n",
       "      <td>2.295015</td>\n",
       "      <td>2.529168</td>\n",
       "      <td>2.060878</td>\n",
       "    </tr>\n",
       "    <tr>\n",
       "      <th>6</th>\n",
       "      <td>2.295020</td>\n",
       "      <td>2.060878</td>\n",
       "      <td>2.295015</td>\n",
       "      <td>3.640091</td>\n",
       "    </tr>\n",
       "    <tr>\n",
       "      <th>7</th>\n",
       "      <td>2.665328</td>\n",
       "      <td>3.640091</td>\n",
       "      <td>2.060878</td>\n",
       "      <td>4.407525</td>\n",
       "    </tr>\n",
       "    <tr>\n",
       "      <th>...</th>\n",
       "      <td>...</td>\n",
       "      <td>...</td>\n",
       "      <td>...</td>\n",
       "      <td>...</td>\n",
       "    </tr>\n",
       "    <tr>\n",
       "      <th>994</th>\n",
       "      <td>18.711892</td>\n",
       "      <td>18.174843</td>\n",
       "      <td>18.856827</td>\n",
       "      <td>17.173223</td>\n",
       "    </tr>\n",
       "    <tr>\n",
       "      <th>995</th>\n",
       "      <td>18.068298</td>\n",
       "      <td>17.173223</td>\n",
       "      <td>18.174843</td>\n",
       "      <td>16.892123</td>\n",
       "    </tr>\n",
       "    <tr>\n",
       "      <th>996</th>\n",
       "      <td>17.413396</td>\n",
       "      <td>16.892123</td>\n",
       "      <td>17.173223</td>\n",
       "      <td>18.689809</td>\n",
       "    </tr>\n",
       "    <tr>\n",
       "      <th>997</th>\n",
       "      <td>17.585052</td>\n",
       "      <td>18.689809</td>\n",
       "      <td>16.892123</td>\n",
       "      <td>19.330652</td>\n",
       "    </tr>\n",
       "    <tr>\n",
       "      <th>998</th>\n",
       "      <td>18.304195</td>\n",
       "      <td>19.330652</td>\n",
       "      <td>18.689809</td>\n",
       "      <td>18.759473</td>\n",
       "    </tr>\n",
       "  </tbody>\n",
       "</table>\n",
       "<p>996 rows × 4 columns</p>\n",
       "</div>"
      ],
      "text/plain": [
       "            X1     Y_lag1     Y_lag2          Y\n",
       "3     0.620434   1.006138   0.358450   2.529168\n",
       "4     1.297919   2.529168   1.006138   2.295015\n",
       "5     1.943441   2.295015   2.529168   2.060878\n",
       "6     2.295020   2.060878   2.295015   3.640091\n",
       "7     2.665328   3.640091   2.060878   4.407525\n",
       "..         ...        ...        ...        ...\n",
       "994  18.711892  18.174843  18.856827  17.173223\n",
       "995  18.068298  17.173223  18.174843  16.892123\n",
       "996  17.413396  16.892123  17.173223  18.689809\n",
       "997  17.585052  18.689809  16.892123  19.330652\n",
       "998  18.304195  19.330652  18.689809  18.759473\n",
       "\n",
       "[996 rows x 4 columns]"
      ]
     },
     "execution_count": 15,
     "metadata": {},
     "output_type": "execute_result"
    }
   ],
   "source": [
    "import numpy as np\n",
    "import pandas as pd\n",
    "from xgboost import XGBRegressor\n",
    "\n",
    "# Simulação de série temporal\n",
    "np.random.seed(42)\n",
    "N = 1000\n",
    "df = pd.DataFrame({'Y': np.random.randn(N).cumsum()})\n",
    "\n",
    "# Indicador: média móvel\n",
    "df['X1'] = df['Y'].rolling(window=3).mean().shift(1)\n",
    "\n",
    "# Lags\n",
    "df['Y_lag1'] = df['Y'].shift(1)\n",
    "df['Y_lag2'] = df['Y'].shift(2)\n",
    "\n",
    "df.dropna(inplace=True)\n",
    "\n",
    "# Split em treino + último registro para previsão futura\n",
    "train = df.iloc[:-1]\n",
    "last_row = df.iloc[-1:]\n",
    "\n",
    "X_train = train[['X1', 'Y_lag1', 'Y_lag2']]\n",
    "y_train = train['Y']\n",
    "\n",
    "# Treinamento\n",
    "model = XGBRegressor()\n",
    "model.fit(X_train, y_train)\n",
    "\n",
    "df.head()\n",
    "pd.concat([X_train, y_train], axis=1)"
   ]
  },
  {
   "cell_type": "code",
   "execution_count": 16,
   "id": "e33b9788",
   "metadata": {},
   "outputs": [
    {
     "data": {
      "text/html": [
       "<div>\n",
       "<style scoped>\n",
       "    .dataframe tbody tr th:only-of-type {\n",
       "        vertical-align: middle;\n",
       "    }\n",
       "\n",
       "    .dataframe tbody tr th {\n",
       "        vertical-align: top;\n",
       "    }\n",
       "\n",
       "    .dataframe thead th {\n",
       "        text-align: right;\n",
       "    }\n",
       "</style>\n",
       "<table border=\"1\" class=\"dataframe\">\n",
       "  <thead>\n",
       "    <tr style=\"text-align: right;\">\n",
       "      <th></th>\n",
       "      <th>X1</th>\n",
       "      <th>Y_lag1</th>\n",
       "      <th>Y_lag2</th>\n",
       "    </tr>\n",
       "  </thead>\n",
       "  <tbody>\n",
       "    <tr>\n",
       "      <th>0</th>\n",
       "      <td>18.926645</td>\n",
       "      <td>19.332056</td>\n",
       "      <td>18.759473</td>\n",
       "    </tr>\n",
       "  </tbody>\n",
       "</table>\n",
       "</div>"
      ],
      "text/plain": [
       "          X1     Y_lag1     Y_lag2\n",
       "0  18.926645  19.332056  18.759473"
      ]
     },
     "metadata": {},
     "output_type": "display_data"
    },
    {
     "data": {
      "text/html": [
       "<div>\n",
       "<style scoped>\n",
       "    .dataframe tbody tr th:only-of-type {\n",
       "        vertical-align: middle;\n",
       "    }\n",
       "\n",
       "    .dataframe tbody tr th {\n",
       "        vertical-align: top;\n",
       "    }\n",
       "\n",
       "    .dataframe thead th {\n",
       "        text-align: right;\n",
       "    }\n",
       "</style>\n",
       "<table border=\"1\" class=\"dataframe\">\n",
       "  <thead>\n",
       "    <tr style=\"text-align: right;\">\n",
       "      <th></th>\n",
       "      <th>X1</th>\n",
       "      <th>Y_lag1</th>\n",
       "      <th>Y_lag2</th>\n",
       "    </tr>\n",
       "  </thead>\n",
       "  <tbody>\n",
       "    <tr>\n",
       "      <th>0</th>\n",
       "      <td>18.725618</td>\n",
       "      <td>18.4224</td>\n",
       "      <td>19.332056</td>\n",
       "    </tr>\n",
       "  </tbody>\n",
       "</table>\n",
       "</div>"
      ],
      "text/plain": [
       "          X1   Y_lag1     Y_lag2\n",
       "0  18.725618  18.4224  19.332056"
      ]
     },
     "metadata": {},
     "output_type": "display_data"
    },
    {
     "data": {
      "text/html": [
       "<div>\n",
       "<style scoped>\n",
       "    .dataframe tbody tr th:only-of-type {\n",
       "        vertical-align: middle;\n",
       "    }\n",
       "\n",
       "    .dataframe tbody tr th {\n",
       "        vertical-align: top;\n",
       "    }\n",
       "\n",
       "    .dataframe thead th {\n",
       "        text-align: right;\n",
       "    }\n",
       "</style>\n",
       "<table border=\"1\" class=\"dataframe\">\n",
       "  <thead>\n",
       "    <tr style=\"text-align: right;\">\n",
       "      <th></th>\n",
       "      <th>X1</th>\n",
       "      <th>Y_lag1</th>\n",
       "      <th>Y_lag2</th>\n",
       "    </tr>\n",
       "  </thead>\n",
       "  <tbody>\n",
       "    <tr>\n",
       "      <th>0</th>\n",
       "      <td>19.543022</td>\n",
       "      <td>20.103334</td>\n",
       "      <td>18.4224</td>\n",
       "    </tr>\n",
       "  </tbody>\n",
       "</table>\n",
       "</div>"
      ],
      "text/plain": [
       "          X1     Y_lag1   Y_lag2\n",
       "0  19.543022  20.103334  18.4224"
      ]
     },
     "metadata": {},
     "output_type": "display_data"
    },
    {
     "name": "stdout",
     "output_type": "stream",
     "text": [
      "[18.4224, 20.103334, 20.534325]\n"
     ]
    }
   ],
   "source": [
    "# Forecast 3 steps ahead (iterativo):\n",
    "forecast_steps = 3\n",
    "predictions = []\n",
    "\n",
    "current_Y_lag1 = last_row['Y'].values[0]\n",
    "current_Y_lag2 = last_row['Y_lag1'].values[0]\n",
    "current_X1 = last_row['X1'].values[0]\n",
    "\n",
    "for step in range(forecast_steps):\n",
    "    # Monta X para próximo passo\n",
    "    X_next = pd.DataFrame({\n",
    "        'X1': [current_X1],\n",
    "        'Y_lag1': [current_Y_lag1],\n",
    "        'Y_lag2': [current_Y_lag2]\n",
    "    })\n",
    "    display(X_next)\n",
    "    \n",
    "    # Faz previsão\n",
    "    y_pred = model.predict(X_next)[0]\n",
    "    predictions.append(y_pred)\n",
    "    \n",
    "    # Atualiza lags para próxima iteração\n",
    "    current_Y_lag2 = current_Y_lag1\n",
    "    current_Y_lag1 = y_pred\n",
    "    current_X1 = np.mean([y_pred, current_Y_lag1, current_Y_lag2])  # Exemplo simples de atualização de média móvel \"na mão\"\n",
    "\n",
    "print(predictions)\n"
   ]
  },
  {
   "cell_type": "markdown",
   "id": "1b25ff0c",
   "metadata": {},
   "source": [
    "# Estudo de avaliação do tempo de execução de cada backtest-estrategia"
   ]
  },
  {
   "cell_type": "code",
   "execution_count": 1,
   "id": "26a66c43",
   "metadata": {},
   "outputs": [],
   "source": [
    "import pandas as pd"
   ]
  },
  {
   "cell_type": "code",
   "execution_count": null,
   "id": "221d2b00",
   "metadata": {},
   "outputs": [
    {
     "data": {
      "text/plain": [
       "2912"
      ]
     },
     "execution_count": 6,
     "metadata": {},
     "output_type": "execute_result"
    }
   ],
   "source": [
    "NOME_MOEDA = 'BTC'\n",
    "CANDLE_PERIOD = '15m'\n",
    "DEFAULT_START_DATE='01/03/2025 00:00'\n",
    "DEFAULT_END_DATE='31/03/2025 07:45'\n",
    "STOCK_CODE = NOME_MOEDA  # Código da Criptomoeda\n",
    "OPERATION_CODE = NOME_MOEDA + \"USDT\"  # Código da operação (cripto + moeda)\n",
    "INITIAL_BALANCE = 1000  # Valor de investimento inicial em USDT ou BRL\n",
    "\n",
    "from tests.baixar_candles import baixar_candles\n",
    "dados_candles = baixar_candles(OPERATION_CODE, DEFAULT_START_DATE, DEFAULT_END_DATE, CANDLE_PERIOD, ajuste=True)\n",
    "dados_candles.shape[0] - 120"
   ]
  },
  {
   "cell_type": "code",
   "execution_count": 91,
   "id": "df8e3286",
   "metadata": {},
   "outputs": [
    {
     "data": {
      "text/html": [
       "<div>\n",
       "<style scoped>\n",
       "    .dataframe tbody tr th:only-of-type {\n",
       "        vertical-align: middle;\n",
       "    }\n",
       "\n",
       "    .dataframe tbody tr th {\n",
       "        vertical-align: top;\n",
       "    }\n",
       "\n",
       "    .dataframe thead th {\n",
       "        text-align: right;\n",
       "    }\n",
       "</style>\n",
       "<table border=\"1\" class=\"dataframe\">\n",
       "  <thead>\n",
       "    <tr style=\"text-align: right;\">\n",
       "      <th></th>\n",
       "      <th>dt_inicio</th>\n",
       "      <th>dt_end</th>\n",
       "      <th>qtde</th>\n",
       "    </tr>\n",
       "  </thead>\n",
       "  <tbody>\n",
       "    <tr>\n",
       "      <th>0</th>\n",
       "      <td>2025-03-01 00:00:00-03:00</td>\n",
       "      <td>2025-03-02 01:00:00-03:00</td>\n",
       "      <td>100</td>\n",
       "    </tr>\n",
       "    <tr>\n",
       "      <th>1</th>\n",
       "      <td>2025-03-01 00:00:00-03:00</td>\n",
       "      <td>2025-03-03 02:00:00-03:00</td>\n",
       "      <td>200</td>\n",
       "    </tr>\n",
       "    <tr>\n",
       "      <th>2</th>\n",
       "      <td>2025-03-01 00:00:00-03:00</td>\n",
       "      <td>2025-03-04 03:00:00-03:00</td>\n",
       "      <td>300</td>\n",
       "    </tr>\n",
       "    <tr>\n",
       "      <th>3</th>\n",
       "      <td>2025-03-01 00:00:00-03:00</td>\n",
       "      <td>2025-03-05 04:00:00-03:00</td>\n",
       "      <td>400</td>\n",
       "    </tr>\n",
       "    <tr>\n",
       "      <th>4</th>\n",
       "      <td>2025-03-01 00:00:00-03:00</td>\n",
       "      <td>2025-03-06 05:00:00-03:00</td>\n",
       "      <td>500</td>\n",
       "    </tr>\n",
       "    <tr>\n",
       "      <th>5</th>\n",
       "      <td>2025-03-01 00:00:00-03:00</td>\n",
       "      <td>2025-03-07 06:00:00-03:00</td>\n",
       "      <td>600</td>\n",
       "    </tr>\n",
       "    <tr>\n",
       "      <th>6</th>\n",
       "      <td>2025-03-01 00:00:00-03:00</td>\n",
       "      <td>2025-03-08 07:00:00-03:00</td>\n",
       "      <td>700</td>\n",
       "    </tr>\n",
       "    <tr>\n",
       "      <th>7</th>\n",
       "      <td>2025-03-01 00:00:00-03:00</td>\n",
       "      <td>2025-03-09 08:00:00-03:00</td>\n",
       "      <td>800</td>\n",
       "    </tr>\n",
       "  </tbody>\n",
       "</table>\n",
       "</div>"
      ],
      "text/plain": [
       "                  dt_inicio                    dt_end  qtde\n",
       "0 2025-03-01 00:00:00-03:00 2025-03-02 01:00:00-03:00   100\n",
       "1 2025-03-01 00:00:00-03:00 2025-03-03 02:00:00-03:00   200\n",
       "2 2025-03-01 00:00:00-03:00 2025-03-04 03:00:00-03:00   300\n",
       "3 2025-03-01 00:00:00-03:00 2025-03-05 04:00:00-03:00   400\n",
       "4 2025-03-01 00:00:00-03:00 2025-03-06 05:00:00-03:00   500\n",
       "5 2025-03-01 00:00:00-03:00 2025-03-07 06:00:00-03:00   600\n",
       "6 2025-03-01 00:00:00-03:00 2025-03-08 07:00:00-03:00   700\n",
       "7 2025-03-01 00:00:00-03:00 2025-03-09 08:00:00-03:00   800"
      ]
     },
     "execution_count": 91,
     "metadata": {},
     "output_type": "execute_result"
    }
   ],
   "source": [
    "fd = pd.DataFrame(columns=['dt_inicio', 'dt_end', 'qtde'])\n",
    "\n",
    "for i in range(1, 9):\n",
    "    # i = 1\n",
    "    from datetime import datetime, timedelta\n",
    "    import pytz\n",
    "\n",
    "    def str_para_datetime(data_str):\n",
    "        dt = datetime.strptime(data_str, \"%d/%m/%Y %H:%M\")\n",
    "        return pytz.timezone(\"America/Sao_Paulo\").localize(dt)\n",
    "\n",
    "    dt_inicio = str_para_datetime(DEFAULT_START_DATE)\n",
    "    # print(dt_inicio)\n",
    "\n",
    "    dt_end = str_para_datetime(DEFAULT_START_DATE) + (timedelta(minutes=15) * 100 * i)\n",
    "    # print(dt_end)\n",
    "\n",
    "    df_filter = dados_candles[(dados_candles['open_time'] >= dt_inicio) & (dados_candles['open_time'] < dt_end)]\n",
    "    # print(len(df_filter))\n",
    "\n",
    "    # display(pd.concat([df_filter.head(), df_filter.tail()], axis=0))\n",
    "\n",
    "    # print(df_filter['open_time'][df_filter.index[0]])\n",
    "    # print(df_filter['open_time'][df_filter.index[-1]])\n",
    "\n",
    "    fd.loc[i-1] = [dt_inicio, dt_end, len(df_filter)]\n",
    "fd"
   ]
  },
  {
   "cell_type": "code",
   "execution_count": 96,
   "id": "a5ec6d5b",
   "metadata": {},
   "outputs": [
    {
     "name": "stdout",
     "output_type": "stream",
     "text": [
      "220\n",
      "320\n",
      "420\n",
      "520\n",
      "620\n",
      "720\n",
      "820\n",
      "920\n"
     ]
    }
   ],
   "source": [
    "for linha in range(len(fd)):\n",
    "    dt_end = fd['dt_end'][linha]\n",
    "    df_filter = dados_candles[dados_candles['open_time'] < dt_end]\n",
    "    print(len(df_filter))"
   ]
  },
  {
   "cell_type": "code",
   "execution_count": 2,
   "id": "a508afbe",
   "metadata": {},
   "outputs": [
    {
     "data": {
      "text/html": [
       "<div>\n",
       "<style scoped>\n",
       "    .dataframe tbody tr th:only-of-type {\n",
       "        vertical-align: middle;\n",
       "    }\n",
       "\n",
       "    .dataframe tbody tr th {\n",
       "        vertical-align: top;\n",
       "    }\n",
       "\n",
       "    .dataframe thead th {\n",
       "        text-align: right;\n",
       "    }\n",
       "</style>\n",
       "<table border=\"1\" class=\"dataframe\">\n",
       "  <thead>\n",
       "    <tr style=\"text-align: right;\">\n",
       "      <th></th>\n",
       "      <th>Estrategia</th>\n",
       "      <th>Data_Inicio</th>\n",
       "      <th>Data_Fim</th>\n",
       "      <th>Saldo_Final</th>\n",
       "      <th>Lucro_%</th>\n",
       "      <th>Total_Trades</th>\n",
       "      <th>Trades_Lucrativos</th>\n",
       "      <th>Valor_Lucro_Total</th>\n",
       "      <th>Trades_Preuízo</th>\n",
       "      <th>Valor_Preuízo_Total</th>\n",
       "      <th>Lucro_Médio_Trade</th>\n",
       "      <th>Lucro_%_Médio</th>\n",
       "      <th>Prejuízo_Médio_Trade</th>\n",
       "      <th>Prejuízo_%_Médio</th>\n",
       "      <th>Tempo_Simulacao</th>\n",
       "      <th>Moeda</th>\n",
       "      <th>CANDLE_PERIOD</th>\n",
       "    </tr>\n",
       "  </thead>\n",
       "  <tbody>\n",
       "    <tr>\n",
       "      <th>0</th>\n",
       "      <td>UT BOTS</td>\n",
       "      <td>2025-03-01 00:00:00-03:00</td>\n",
       "      <td>2025-03-02 01:00:00-03:00</td>\n",
       "      <td>1014.64921</td>\n",
       "      <td>1.464921</td>\n",
       "      <td>6.0</td>\n",
       "      <td>2.0</td>\n",
       "      <td>16.235549</td>\n",
       "      <td>1.0</td>\n",
       "      <td>-1.586339</td>\n",
       "      <td>8.117775</td>\n",
       "      <td>0.811777</td>\n",
       "      <td>1.586339</td>\n",
       "      <td>0.158634</td>\n",
       "      <td>0.767113</td>\n",
       "      <td>BTC</td>\n",
       "      <td>15m</td>\n",
       "    </tr>\n",
       "    <tr>\n",
       "      <th>1</th>\n",
       "      <td>MA RSI e VOLUME</td>\n",
       "      <td>2025-03-01 00:00:00-03:00</td>\n",
       "      <td>2025-03-02 01:00:00-03:00</td>\n",
       "      <td>NaN</td>\n",
       "      <td>NaN</td>\n",
       "      <td>13.0</td>\n",
       "      <td>3.0</td>\n",
       "      <td>3.983190</td>\n",
       "      <td>3.0</td>\n",
       "      <td>-9.585269</td>\n",
       "      <td>1.327730</td>\n",
       "      <td>0.132773</td>\n",
       "      <td>3.195090</td>\n",
       "      <td>0.319509</td>\n",
       "      <td>0.408480</td>\n",
       "      <td>BTC</td>\n",
       "      <td>15m</td>\n",
       "    </tr>\n",
       "  </tbody>\n",
       "</table>\n",
       "</div>"
      ],
      "text/plain": [
       "        Estrategia               Data_Inicio                  Data_Fim  \\\n",
       "0          UT BOTS 2025-03-01 00:00:00-03:00 2025-03-02 01:00:00-03:00   \n",
       "1  MA RSI e VOLUME 2025-03-01 00:00:00-03:00 2025-03-02 01:00:00-03:00   \n",
       "\n",
       "   Saldo_Final   Lucro_%  Total_Trades  Trades_Lucrativos  Valor_Lucro_Total  \\\n",
       "0   1014.64921  1.464921           6.0                2.0          16.235549   \n",
       "1          NaN       NaN          13.0                3.0           3.983190   \n",
       "\n",
       "   Trades_Preuízo  Valor_Preuízo_Total  Lucro_Médio_Trade  Lucro_%_Médio  \\\n",
       "0             1.0            -1.586339           8.117775       0.811777   \n",
       "1             3.0            -9.585269           1.327730       0.132773   \n",
       "\n",
       "   Prejuízo_Médio_Trade  Prejuízo_%_Médio  Tempo_Simulacao Moeda CANDLE_PERIOD  \n",
       "0              1.586339          0.158634         0.767113   BTC           15m  \n",
       "1              3.195090          0.319509         0.408480   BTC           15m  "
      ]
     },
     "execution_count": 2,
     "metadata": {},
     "output_type": "execute_result"
    }
   ],
   "source": [
    "df = pd.read_parquet(r\"C:\\Users\\gabri\\OneDrive\\Documentos\\Criptos\\Analises\\202507\\dados_prices_metrics\\DADOS_SIMULADOS_TESTE.parquet\")\n",
    "df.head(2)"
   ]
  },
  {
   "cell_type": "code",
   "execution_count": 3,
   "id": "30558e30",
   "metadata": {},
   "outputs": [
    {
     "data": {
      "text/plain": [
       "<DatetimeArray>\n",
       "['2025-03-02 01:00:00-03:00', '2025-03-03 02:00:00-03:00',\n",
       " '2025-03-04 03:00:00-03:00', '2025-03-05 04:00:00-03:00',\n",
       " '2025-03-06 05:00:00-03:00', '2025-03-07 06:00:00-03:00',\n",
       " '2025-03-08 07:00:00-03:00', '2025-03-09 08:00:00-03:00',\n",
       " '2025-03-15 07:00:00-03:00', '2025-03-31 07:00:00-03:00']\n",
       "Length: 10, dtype: datetime64[ns, America/Sao_Paulo]"
      ]
     },
     "execution_count": 3,
     "metadata": {},
     "output_type": "execute_result"
    }
   ],
   "source": [
    "df['Data_Fim'].unique()"
   ]
  },
  {
   "cell_type": "code",
   "execution_count": 4,
   "id": "d67b476a",
   "metadata": {},
   "outputs": [
    {
     "data": {
      "text/plain": [
       "array(['2025-03-02 01:00:00-03:00', '2025-03-03 02:00:00-03:00',\n",
       "       '2025-03-04 03:00:00-03:00', '2025-03-05 04:00:00-03:00',\n",
       "       '2025-03-06 05:00:00-03:00', '2025-03-07 06:00:00-03:00',\n",
       "       '2025-03-08 07:00:00-03:00', '2025-03-09 08:00:00-03:00',\n",
       "       '2025-03-15 07:00:00-03:00', '2025-03-31 07:00:00-03:00'],\n",
       "      dtype=object)"
      ]
     },
     "execution_count": 4,
     "metadata": {},
     "output_type": "execute_result"
    }
   ],
   "source": [
    "df['Data_Fim'] = df['Data_Fim'].astype('str')\n",
    "df['Data_Fim'].unique()"
   ]
  },
  {
   "cell_type": "code",
   "execution_count": 7,
   "id": "03efea8e",
   "metadata": {},
   "outputs": [
    {
     "data": {
      "text/plain": [
       "array([ 220,  320,  420,  520,  620,  720,  820,  920, 1376, 2912],\n",
       "      dtype=int64)"
      ]
     },
     "execution_count": 7,
     "metadata": {},
     "output_type": "execute_result"
    }
   ],
   "source": [
    "df['Data_Fim'] = df['Data_Fim'].map({'2025-03-02 01:00:00-03:00':220,\n",
    "'2025-03-03 02:00:00-03:00':320,\n",
    "'2025-03-04 03:00:00-03:00':420,\n",
    "'2025-03-05 04:00:00-03:00':520,\n",
    "'2025-03-06 05:00:00-03:00':620,\n",
    "'2025-03-07 06:00:00-03:00':720,\n",
    "'2025-03-08 07:00:00-03:00':820,\n",
    "'2025-03-09 08:00:00-03:00':920,\n",
    "'2025-03-15 07:00:00-03:00':1376,\n",
    "'2025-03-31 07:00:00-03:00':2912})\n",
    "\n",
    "df['Data_Fim'].unique()"
   ]
  },
  {
   "cell_type": "code",
   "execution_count": 8,
   "id": "4e598cd9",
   "metadata": {},
   "outputs": [
    {
     "name": "stdout",
     "output_type": "stream",
     "text": [
      "     Data_Fim  Tempo_Simulacao                          Estrategia\n",
      "0         220         0.767113                             UT BOTS\n",
      "1         220         0.408480                     MA RSI e VOLUME\n",
      "2         220         0.305078                MA ANTECIPATION 5_10\n",
      "3         220         0.283213            MA SIMPLES FALLBACK 5_10\n",
      "4         220         0.294076                                 RSI\n",
      "..        ...              ...                                 ...\n",
      "545      2912       120.485156                               VIDYA\n",
      "546      2912        10.254935  Volume Weighted Average Price VWAP\n",
      "547      2912        10.826931                  Williams Alligator\n",
      "548      2912        86.122756                                 WMA\n",
      "549      2912         6.146201             Zero Lag Moving Average\n",
      "\n",
      "[550 rows x 3 columns]\n"
     ]
    }
   ],
   "source": [
    "print(df[['Data_Fim','Tempo_Simulacao','Estrategia']])"
   ]
  },
  {
   "cell_type": "code",
   "execution_count": 12,
   "id": "b318dbfa",
   "metadata": {},
   "outputs": [
    {
     "data": {
      "application/vnd.plotly.v1+json": {
       "config": {
        "plotlyServerURL": "https://plot.ly"
       },
       "data": [
        {
         "customdata": [
          [
           "UT BOTS"
          ],
          [
           "UT BOTS"
          ],
          [
           "UT BOTS"
          ],
          [
           "UT BOTS"
          ],
          [
           "UT BOTS"
          ],
          [
           "UT BOTS"
          ],
          [
           "UT BOTS"
          ],
          [
           "UT BOTS"
          ],
          [
           "UT BOTS"
          ],
          [
           "UT BOTS"
          ]
         ],
         "hovertemplate": "Estrategia=%{customdata[0]}<br>Data Fim=%{x}<br>Tempo de Simulação=%{y}<extra></extra>",
         "legendgroup": "UT BOTS",
         "marker": {
          "color": "#636efa",
          "symbol": "circle"
         },
         "mode": "markers",
         "name": "UT BOTS",
         "orientation": "v",
         "showlegend": true,
         "type": "scatter",
         "x": [
          220,
          320,
          420,
          520,
          620,
          720,
          820,
          920,
          1376,
          2912
         ],
         "xaxis": "x",
         "y": [
          0.7671127319335938,
          5.134854793548584,
          13.312766551971436,
          8.20657467842102,
          5.4656782150268555,
          7.312904596328735,
          11.949163436889648,
          11.77206039428711,
          29.401122093200684,
          116.41359639167786
         ],
         "yaxis": "y"
        },
        {
         "customdata": [
          [
           "MA RSI e VOLUME"
          ],
          [
           "MA RSI e VOLUME"
          ],
          [
           "MA RSI e VOLUME"
          ],
          [
           "MA RSI e VOLUME"
          ],
          [
           "MA RSI e VOLUME"
          ],
          [
           "MA RSI e VOLUME"
          ],
          [
           "MA RSI e VOLUME"
          ],
          [
           "MA RSI e VOLUME"
          ],
          [
           "MA RSI e VOLUME"
          ],
          [
           "MA RSI e VOLUME"
          ]
         ],
         "hovertemplate": "Estrategia=%{customdata[0]}<br>Data Fim=%{x}<br>Tempo de Simulação=%{y}<extra></extra>",
         "legendgroup": "MA RSI e VOLUME",
         "marker": {
          "color": "#EF553B",
          "symbol": "circle"
         },
         "mode": "markers",
         "name": "MA RSI e VOLUME",
         "orientation": "v",
         "showlegend": true,
         "type": "scatter",
         "x": [
          220,
          320,
          420,
          520,
          620,
          720,
          820,
          920,
          1376,
          2912
         ],
         "xaxis": "x",
         "y": [
          0.408480167388916,
          2.45246958732605,
          5.944039583206177,
          2.8252758979797363,
          1.6043481826782227,
          1.9438371658325195,
          2.4131877422332764,
          2.6980884075164795,
          4.600658655166626,
          10.771788597106934
         ],
         "yaxis": "y"
        },
        {
         "customdata": [
          [
           "MA ANTECIPATION 5_10"
          ],
          [
           "MA ANTECIPATION 5_10"
          ],
          [
           "MA ANTECIPATION 5_10"
          ],
          [
           "MA ANTECIPATION 5_10"
          ],
          [
           "MA ANTECIPATION 5_10"
          ],
          [
           "MA ANTECIPATION 5_10"
          ],
          [
           "MA ANTECIPATION 5_10"
          ],
          [
           "MA ANTECIPATION 5_10"
          ],
          [
           "MA ANTECIPATION 5_10"
          ],
          [
           "MA ANTECIPATION 5_10"
          ]
         ],
         "hovertemplate": "Estrategia=%{customdata[0]}<br>Data Fim=%{x}<br>Tempo de Simulação=%{y}<extra></extra>",
         "legendgroup": "MA ANTECIPATION 5_10",
         "marker": {
          "color": "#00cc96",
          "symbol": "circle"
         },
         "mode": "markers",
         "name": "MA ANTECIPATION 5_10",
         "orientation": "v",
         "showlegend": true,
         "type": "scatter",
         "x": [
          220,
          320,
          420,
          520,
          620,
          720,
          820,
          920,
          1376,
          2912
         ],
         "xaxis": "x",
         "y": [
          0.30507802963256836,
          1.6805346012115479,
          3.9734649658203125,
          2.1220226287841797,
          1.1050007343292236,
          1.4353532791137695,
          1.6754937171936035,
          2.0619494915008545,
          3.1550724506378174,
          7.233435392379761
         ],
         "yaxis": "y"
        },
        {
         "customdata": [
          [
           "MA SIMPLES FALLBACK 5_10"
          ],
          [
           "MA SIMPLES FALLBACK 5_10"
          ],
          [
           "MA SIMPLES FALLBACK 5_10"
          ],
          [
           "MA SIMPLES FALLBACK 5_10"
          ],
          [
           "MA SIMPLES FALLBACK 5_10"
          ],
          [
           "MA SIMPLES FALLBACK 5_10"
          ],
          [
           "MA SIMPLES FALLBACK 5_10"
          ],
          [
           "MA SIMPLES FALLBACK 5_10"
          ],
          [
           "MA SIMPLES FALLBACK 5_10"
          ],
          [
           "MA SIMPLES FALLBACK 5_10"
          ]
         ],
         "hovertemplate": "Estrategia=%{customdata[0]}<br>Data Fim=%{x}<br>Tempo de Simulação=%{y}<extra></extra>",
         "legendgroup": "MA SIMPLES FALLBACK 5_10",
         "marker": {
          "color": "#ab63fa",
          "symbol": "circle"
         },
         "mode": "markers",
         "name": "MA SIMPLES FALLBACK 5_10",
         "orientation": "v",
         "showlegend": true,
         "type": "scatter",
         "x": [
          220,
          320,
          420,
          520,
          620,
          720,
          820,
          920,
          1376,
          2912
         ],
         "xaxis": "x",
         "y": [
          0.28321337699890137,
          1.4330785274505615,
          3.196481943130493,
          2.887852430343628,
          1.0407803058624268,
          1.0882174968719482,
          1.2662675380706787,
          1.493290901184082,
          2.5207951068878174,
          6.001565933227539
         ],
         "yaxis": "y"
        },
        {
         "customdata": [
          [
           "RSI"
          ],
          [
           "RSI"
          ],
          [
           "RSI"
          ],
          [
           "RSI"
          ],
          [
           "RSI"
          ],
          [
           "RSI"
          ],
          [
           "RSI"
          ],
          [
           "RSI"
          ],
          [
           "RSI"
          ],
          [
           "RSI"
          ]
         ],
         "hovertemplate": "Estrategia=%{customdata[0]}<br>Data Fim=%{x}<br>Tempo de Simulação=%{y}<extra></extra>",
         "legendgroup": "RSI",
         "marker": {
          "color": "#FFA15A",
          "symbol": "circle"
         },
         "mode": "markers",
         "name": "RSI",
         "orientation": "v",
         "showlegend": true,
         "type": "scatter",
         "x": [
          220,
          320,
          420,
          520,
          620,
          720,
          820,
          920,
          1376,
          2912
         ],
         "xaxis": "x",
         "y": [
          0.29407596588134766,
          1.6113715171813965,
          3.8527841567993164,
          1.766003131866455,
          1.0320971012115479,
          1.236020803451538,
          1.4939496517181396,
          1.9161248207092285,
          2.9703714847564697,
          6.3632097244262695
         ],
         "yaxis": "y"
        },
        {
         "customdata": [
          [
           "VORTEX"
          ],
          [
           "VORTEX"
          ],
          [
           "VORTEX"
          ],
          [
           "VORTEX"
          ],
          [
           "VORTEX"
          ],
          [
           "VORTEX"
          ],
          [
           "VORTEX"
          ],
          [
           "VORTEX"
          ],
          [
           "VORTEX"
          ],
          [
           "VORTEX"
          ]
         ],
         "hovertemplate": "Estrategia=%{customdata[0]}<br>Data Fim=%{x}<br>Tempo de Simulação=%{y}<extra></extra>",
         "legendgroup": "VORTEX",
         "marker": {
          "color": "#19d3f3",
          "symbol": "circle"
         },
         "mode": "markers",
         "name": "VORTEX",
         "orientation": "v",
         "showlegend": true,
         "type": "scatter",
         "x": [
          220,
          320,
          420,
          520,
          620,
          720,
          820,
          920,
          1376,
          2912
         ],
         "xaxis": "x",
         "y": [
          0.4560976028442383,
          2.4654979705810547,
          5.62569522857666,
          2.2935500144958496,
          1.7125539779663086,
          2.03437876701355,
          2.2176034450531006,
          2.8513264656066895,
          4.602814197540283,
          9.671144485473633
         ],
         "yaxis": "y"
        },
        {
         "customdata": [
          [
           "Bollinger Bands"
          ],
          [
           "Bollinger Bands"
          ],
          [
           "Bollinger Bands"
          ],
          [
           "Bollinger Bands"
          ],
          [
           "Bollinger Bands"
          ],
          [
           "Bollinger Bands"
          ],
          [
           "Bollinger Bands"
          ],
          [
           "Bollinger Bands"
          ],
          [
           "Bollinger Bands"
          ],
          [
           "Bollinger Bands"
          ]
         ],
         "hovertemplate": "Estrategia=%{customdata[0]}<br>Data Fim=%{x}<br>Tempo de Simulação=%{y}<extra></extra>",
         "legendgroup": "Bollinger Bands",
         "marker": {
          "color": "#FF6692",
          "symbol": "circle"
         },
         "mode": "markers",
         "name": "Bollinger Bands",
         "orientation": "v",
         "showlegend": true,
         "type": "scatter",
         "x": [
          220,
          320,
          420,
          520,
          620,
          720,
          820,
          920,
          1376,
          2912
         ],
         "xaxis": "x",
         "y": [
          0.3513514995574951,
          2.0417234897613525,
          5.827488660812378,
          1.7040002346038818,
          1.2856919765472412,
          1.5244903564453125,
          1.9642908573150635,
          2.4557433128356934,
          3.6170096397399902,
          8.075088024139404
         ],
         "yaxis": "y"
        },
        {
         "customdata": [
          [
           "Ichimoku"
          ],
          [
           "Ichimoku"
          ],
          [
           "Ichimoku"
          ],
          [
           "Ichimoku"
          ],
          [
           "Ichimoku"
          ],
          [
           "Ichimoku"
          ],
          [
           "Ichimoku"
          ],
          [
           "Ichimoku"
          ],
          [
           "Ichimoku"
          ],
          [
           "Ichimoku"
          ]
         ],
         "hovertemplate": "Estrategia=%{customdata[0]}<br>Data Fim=%{x}<br>Tempo de Simulação=%{y}<extra></extra>",
         "legendgroup": "Ichimoku",
         "marker": {
          "color": "#B6E880",
          "symbol": "circle"
         },
         "mode": "markers",
         "name": "Ichimoku",
         "orientation": "v",
         "showlegend": true,
         "type": "scatter",
         "x": [
          220,
          320,
          420,
          520,
          620,
          720,
          820,
          920,
          1376,
          2912
         ],
         "xaxis": "x",
         "y": [
          0.5881702899932861,
          3.3195106983184814,
          7.818979263305664,
          2.7043204307556152,
          2.3785994052886963,
          2.7291836738586426,
          3.121185064315796,
          4.301278352737427,
          6.327173709869385,
          15.089637041091919
         ],
         "yaxis": "y"
        },
        {
         "customdata": [
          [
           "KDJ"
          ],
          [
           "KDJ"
          ],
          [
           "KDJ"
          ],
          [
           "KDJ"
          ],
          [
           "KDJ"
          ],
          [
           "KDJ"
          ],
          [
           "KDJ"
          ],
          [
           "KDJ"
          ],
          [
           "KDJ"
          ],
          [
           "KDJ"
          ]
         ],
         "hovertemplate": "Estrategia=%{customdata[0]}<br>Data Fim=%{x}<br>Tempo de Simulação=%{y}<extra></extra>",
         "legendgroup": "KDJ",
         "marker": {
          "color": "#FF97FF",
          "symbol": "circle"
         },
         "mode": "markers",
         "name": "KDJ",
         "orientation": "v",
         "showlegend": true,
         "type": "scatter",
         "x": [
          220,
          320,
          420,
          520,
          620,
          720,
          820,
          920,
          1376,
          2912
         ],
         "xaxis": "x",
         "y": [
          0.40680432319641113,
          2.4955761432647705,
          5.907803773880005,
          2.1164638996124268,
          1.66172194480896,
          2.1275174617767334,
          2.2984752655029297,
          2.6787238121032715,
          4.7088963985443115,
          11.023861169815063
         ],
         "yaxis": "y"
        },
        {
         "customdata": [
          [
           "MACD"
          ],
          [
           "MACD"
          ],
          [
           "MACD"
          ],
          [
           "MACD"
          ],
          [
           "MACD"
          ],
          [
           "MACD"
          ],
          [
           "MACD"
          ],
          [
           "MACD"
          ],
          [
           "MACD"
          ],
          [
           "MACD"
          ]
         ],
         "hovertemplate": "Estrategia=%{customdata[0]}<br>Data Fim=%{x}<br>Tempo de Simulação=%{y}<extra></extra>",
         "legendgroup": "MACD",
         "marker": {
          "color": "#FECB52",
          "symbol": "circle"
         },
         "mode": "markers",
         "name": "MACD",
         "orientation": "v",
         "showlegend": true,
         "type": "scatter",
         "x": [
          220,
          320,
          420,
          520,
          620,
          720,
          820,
          920,
          1376,
          2912
         ],
         "xaxis": "x",
         "y": [
          0.32098388671875,
          1.9774763584136963,
          4.085778713226318,
          1.3022820949554443,
          1.2104663848876953,
          1.3648650646209717,
          1.730835199356079,
          1.954941987991333,
          3.206801652908325,
          7.324543237686157
         ],
         "yaxis": "y"
        },
        {
         "customdata": [
          [
           "Stochastic RSI"
          ],
          [
           "Stochastic RSI"
          ],
          [
           "Stochastic RSI"
          ],
          [
           "Stochastic RSI"
          ],
          [
           "Stochastic RSI"
          ],
          [
           "Stochastic RSI"
          ],
          [
           "Stochastic RSI"
          ],
          [
           "Stochastic RSI"
          ],
          [
           "Stochastic RSI"
          ],
          [
           "Stochastic RSI"
          ]
         ],
         "hovertemplate": "Estrategia=%{customdata[0]}<br>Data Fim=%{x}<br>Tempo de Simulação=%{y}<extra></extra>",
         "legendgroup": "Stochastic RSI",
         "marker": {
          "color": "#636efa",
          "symbol": "circle"
         },
         "mode": "markers",
         "name": "Stochastic RSI",
         "orientation": "v",
         "showlegend": true,
         "type": "scatter",
         "x": [
          220,
          320,
          420,
          520,
          620,
          720,
          820,
          920,
          1376,
          2912
         ],
         "xaxis": "x",
         "y": [
          0.4583008289337158,
          3.94026255607605,
          6.206284046173096,
          2.2833874225616455,
          1.820143699645996,
          2.3179306983947754,
          2.581170082092285,
          2.9536142349243164,
          5.2525365352630615,
          11.770148277282715
         ],
         "yaxis": "y"
        },
        {
         "customdata": [
          [
           "Williams %R"
          ],
          [
           "Williams %R"
          ],
          [
           "Williams %R"
          ],
          [
           "Williams %R"
          ],
          [
           "Williams %R"
          ],
          [
           "Williams %R"
          ],
          [
           "Williams %R"
          ],
          [
           "Williams %R"
          ],
          [
           "Williams %R"
          ],
          [
           "Williams %R"
          ]
         ],
         "hovertemplate": "Estrategia=%{customdata[0]}<br>Data Fim=%{x}<br>Tempo de Simulação=%{y}<extra></extra>",
         "legendgroup": "Williams %R",
         "marker": {
          "color": "#EF553B",
          "symbol": "circle"
         },
         "mode": "markers",
         "name": "Williams %R",
         "orientation": "v",
         "showlegend": true,
         "type": "scatter",
         "x": [
          220,
          320,
          420,
          520,
          620,
          720,
          820,
          920,
          1376,
          2912
         ],
         "xaxis": "x",
         "y": [
          0.37644267082214355,
          2.6444239616394043,
          4.17462158203125,
          1.2629175186157227,
          1.184950590133667,
          1.411388874053955,
          1.6611504554748535,
          1.8625445365905762,
          3.3770596981048584,
          7.848672151565552
         ],
         "yaxis": "y"
        },
        {
         "customdata": [
          [
           "Accelerator Oscillator"
          ],
          [
           "Accelerator Oscillator"
          ],
          [
           "Accelerator Oscillator"
          ],
          [
           "Accelerator Oscillator"
          ],
          [
           "Accelerator Oscillator"
          ],
          [
           "Accelerator Oscillator"
          ],
          [
           "Accelerator Oscillator"
          ],
          [
           "Accelerator Oscillator"
          ],
          [
           "Accelerator Oscillator"
          ],
          [
           "Accelerator Oscillator"
          ]
         ],
         "hovertemplate": "Estrategia=%{customdata[0]}<br>Data Fim=%{x}<br>Tempo de Simulação=%{y}<extra></extra>",
         "legendgroup": "Accelerator Oscillator",
         "marker": {
          "color": "#00cc96",
          "symbol": "circle"
         },
         "mode": "markers",
         "name": "Accelerator Oscillator",
         "orientation": "v",
         "showlegend": true,
         "type": "scatter",
         "x": [
          220,
          320,
          420,
          520,
          620,
          720,
          820,
          920,
          1376,
          2912
         ],
         "xaxis": "x",
         "y": [
          1.00770902633667,
          5.825204372406006,
          9.130509614944458,
          3.115081310272217,
          2.759469985961914,
          3.5728323459625244,
          3.8434293270111084,
          4.343117713928223,
          7.396390438079834,
          16.874468564987183
         ],
         "yaxis": "y"
        },
        {
         "customdata": [
          [
           "ALMA"
          ],
          [
           "ALMA"
          ],
          [
           "ALMA"
          ],
          [
           "ALMA"
          ],
          [
           "ALMA"
          ],
          [
           "ALMA"
          ],
          [
           "ALMA"
          ],
          [
           "ALMA"
          ],
          [
           "ALMA"
          ],
          [
           "ALMA"
          ]
         ],
         "hovertemplate": "Estrategia=%{customdata[0]}<br>Data Fim=%{x}<br>Tempo de Simulação=%{y}<extra></extra>",
         "legendgroup": "ALMA",
         "marker": {
          "color": "#ab63fa",
          "symbol": "circle"
         },
         "mode": "markers",
         "name": "ALMA",
         "orientation": "v",
         "showlegend": true,
         "type": "scatter",
         "x": [
          220,
          320,
          420,
          520,
          620,
          720,
          820,
          920,
          1376,
          2912
         ],
         "xaxis": "x",
         "y": [
          0.9212703704833984,
          5.245332479476929,
          8.764206171035767,
          2.966351270675659,
          3.341249704360962,
          4.351238012313843,
          5.648519515991211,
          6.835360288619995,
          16.51980686187744,
          63.007999420166016
         ],
         "yaxis": "y"
        },
        {
         "customdata": [
          [
           "ALMA Cruzamento"
          ],
          [
           "ALMA Cruzamento"
          ],
          [
           "ALMA Cruzamento"
          ],
          [
           "ALMA Cruzamento"
          ],
          [
           "ALMA Cruzamento"
          ],
          [
           "ALMA Cruzamento"
          ],
          [
           "ALMA Cruzamento"
          ],
          [
           "ALMA Cruzamento"
          ],
          [
           "ALMA Cruzamento"
          ],
          [
           "ALMA Cruzamento"
          ]
         ],
         "hovertemplate": "Estrategia=%{customdata[0]}<br>Data Fim=%{x}<br>Tempo de Simulação=%{y}<extra></extra>",
         "legendgroup": "ALMA Cruzamento",
         "marker": {
          "color": "#FFA15A",
          "symbol": "circle"
         },
         "mode": "markers",
         "name": "ALMA Cruzamento",
         "orientation": "v",
         "showlegend": true,
         "type": "scatter",
         "x": [
          220,
          320,
          420,
          520,
          620,
          720,
          820,
          920,
          1376,
          2912
         ],
         "xaxis": "x",
         "y": [
          1.6055428981781006,
          11.328886032104492,
          20.869710206985474,
          6.892978191375732,
          8.476582527160645,
          11.014621257781982,
          14.342461109161377,
          17.933265447616577,
          46.09766173362732,
          183.05313539505005
         ],
         "yaxis": "y"
        },
        {
         "customdata": [
          [
           "Aroon Oscillator"
          ],
          [
           "Aroon Oscillator"
          ],
          [
           "Aroon Oscillator"
          ],
          [
           "Aroon Oscillator"
          ],
          [
           "Aroon Oscillator"
          ],
          [
           "Aroon Oscillator"
          ],
          [
           "Aroon Oscillator"
          ],
          [
           "Aroon Oscillator"
          ],
          [
           "Aroon Oscillator"
          ],
          [
           "Aroon Oscillator"
          ]
         ],
         "hovertemplate": "Estrategia=%{customdata[0]}<br>Data Fim=%{x}<br>Tempo de Simulação=%{y}<extra></extra>",
         "legendgroup": "Aroon Oscillator",
         "marker": {
          "color": "#19d3f3",
          "symbol": "circle"
         },
         "mode": "markers",
         "name": "Aroon Oscillator",
         "orientation": "v",
         "showlegend": true,
         "type": "scatter",
         "x": [
          220,
          320,
          420,
          520,
          620,
          720,
          820,
          920,
          1376,
          2912
         ],
         "xaxis": "x",
         "y": [
          0.40558505058288574,
          3.277252197265625,
          5.20020866394043,
          1.447486400604248,
          1.542358160018921,
          1.8645238876342773,
          2.213653326034546,
          2.5783345699310303,
          4.820066690444946,
          12.867446422576904
         ],
         "yaxis": "y"
        },
        {
         "customdata": [
          [
           "Aroon Puro"
          ],
          [
           "Aroon Puro"
          ],
          [
           "Aroon Puro"
          ],
          [
           "Aroon Puro"
          ],
          [
           "Aroon Puro"
          ],
          [
           "Aroon Puro"
          ],
          [
           "Aroon Puro"
          ],
          [
           "Aroon Puro"
          ],
          [
           "Aroon Puro"
          ],
          [
           "Aroon Puro"
          ]
         ],
         "hovertemplate": "Estrategia=%{customdata[0]}<br>Data Fim=%{x}<br>Tempo de Simulação=%{y}<extra></extra>",
         "legendgroup": "Aroon Puro",
         "marker": {
          "color": "#FF6692",
          "symbol": "circle"
         },
         "mode": "markers",
         "name": "Aroon Puro",
         "orientation": "v",
         "showlegend": true,
         "type": "scatter",
         "x": [
          220,
          320,
          420,
          520,
          620,
          720,
          820,
          920,
          1376,
          2912
         ],
         "xaxis": "x",
         "y": [
          0.5158588886260986,
          4.056672096252441,
          6.411887884140015,
          1.920626163482666,
          1.940335750579834,
          2.430633306503296,
          2.848736047744751,
          3.2250468730926514,
          5.702670097351074,
          14.5659818649292
         ],
         "yaxis": "y"
        },
        {
         "customdata": [
          [
           "ATR"
          ],
          [
           "ATR"
          ],
          [
           "ATR"
          ],
          [
           "ATR"
          ],
          [
           "ATR"
          ],
          [
           "ATR"
          ],
          [
           "ATR"
          ],
          [
           "ATR"
          ],
          [
           "ATR"
          ],
          [
           "ATR"
          ]
         ],
         "hovertemplate": "Estrategia=%{customdata[0]}<br>Data Fim=%{x}<br>Tempo de Simulação=%{y}<extra></extra>",
         "legendgroup": "ATR",
         "marker": {
          "color": "#B6E880",
          "symbol": "circle"
         },
         "mode": "markers",
         "name": "ATR",
         "orientation": "v",
         "showlegend": true,
         "type": "scatter",
         "x": [
          220,
          320,
          420,
          520,
          620,
          720,
          820,
          920,
          1376,
          2912
         ],
         "xaxis": "x",
         "y": [
          0.7681007385253906,
          4.326555967330933,
          6.621857643127441,
          1.8747313022613525,
          1.9436924457550049,
          2.39499568939209,
          2.8673601150512695,
          3.2393486499786377,
          5.439877986907959,
          11.853596448898315
         ],
         "yaxis": "y"
        },
        {
         "customdata": [
          [
           "Awesome Oscillator"
          ],
          [
           "Awesome Oscillator"
          ],
          [
           "Awesome Oscillator"
          ],
          [
           "Awesome Oscillator"
          ],
          [
           "Awesome Oscillator"
          ],
          [
           "Awesome Oscillator"
          ],
          [
           "Awesome Oscillator"
          ],
          [
           "Awesome Oscillator"
          ],
          [
           "Awesome Oscillator"
          ],
          [
           "Awesome Oscillator"
          ]
         ],
         "hovertemplate": "Estrategia=%{customdata[0]}<br>Data Fim=%{x}<br>Tempo de Simulação=%{y}<extra></extra>",
         "legendgroup": "Awesome Oscillator",
         "marker": {
          "color": "#FF97FF",
          "symbol": "circle"
         },
         "mode": "markers",
         "name": "Awesome Oscillator",
         "orientation": "v",
         "showlegend": true,
         "type": "scatter",
         "x": [
          220,
          320,
          420,
          520,
          620,
          720,
          820,
          920,
          1376,
          2912
         ],
         "xaxis": "x",
         "y": [
          0.6078925132751465,
          3.5979321002960205,
          5.4064414501190186,
          1.6412353515625,
          1.6419196128845215,
          1.8369755744934082,
          2.206831216812134,
          2.545466661453247,
          4.23334002494812,
          9.660195589065552
         ],
         "yaxis": "y"
        },
        {
         "customdata": [
          [
           "Chaikin Oscillator"
          ],
          [
           "Chaikin Oscillator"
          ],
          [
           "Chaikin Oscillator"
          ],
          [
           "Chaikin Oscillator"
          ],
          [
           "Chaikin Oscillator"
          ],
          [
           "Chaikin Oscillator"
          ],
          [
           "Chaikin Oscillator"
          ],
          [
           "Chaikin Oscillator"
          ],
          [
           "Chaikin Oscillator"
          ],
          [
           "Chaikin Oscillator"
          ]
         ],
         "hovertemplate": "Estrategia=%{customdata[0]}<br>Data Fim=%{x}<br>Tempo de Simulação=%{y}<extra></extra>",
         "legendgroup": "Chaikin Oscillator",
         "marker": {
          "color": "#FECB52",
          "symbol": "circle"
         },
         "mode": "markers",
         "name": "Chaikin Oscillator",
         "orientation": "v",
         "showlegend": true,
         "type": "scatter",
         "x": [
          220,
          320,
          420,
          520,
          620,
          720,
          820,
          920,
          1376,
          2912
         ],
         "xaxis": "x",
         "y": [
          0.6339120864868164,
          3.2048721313476562,
          5.263010025024414,
          1.3771705627441406,
          1.405667781829834,
          1.8807783126831055,
          2.0206522941589355,
          2.36220121383667,
          4.0920045375823975,
          8.928932428359985
         ],
         "yaxis": "y"
        },
        {
         "customdata": [
          [
           "Chande Momentum Oscillator"
          ],
          [
           "Chande Momentum Oscillator"
          ],
          [
           "Chande Momentum Oscillator"
          ],
          [
           "Chande Momentum Oscillator"
          ],
          [
           "Chande Momentum Oscillator"
          ],
          [
           "Chande Momentum Oscillator"
          ],
          [
           "Chande Momentum Oscillator"
          ],
          [
           "Chande Momentum Oscillator"
          ],
          [
           "Chande Momentum Oscillator"
          ],
          [
           "Chande Momentum Oscillator"
          ]
         ],
         "hovertemplate": "Estrategia=%{customdata[0]}<br>Data Fim=%{x}<br>Tempo de Simulação=%{y}<extra></extra>",
         "legendgroup": "Chande Momentum Oscillator",
         "marker": {
          "color": "#636efa",
          "symbol": "circle"
         },
         "mode": "markers",
         "name": "Chande Momentum Oscillator",
         "orientation": "v",
         "showlegend": true,
         "type": "scatter",
         "x": [
          220,
          320,
          420,
          520,
          620,
          720,
          820,
          920,
          1376,
          2912
         ],
         "xaxis": "x",
         "y": [
          0.46225571632385254,
          3.1502938270568848,
          4.757925510406494,
          1.3641912937164307,
          1.45939040184021,
          1.6010916233062744,
          2.0036919116973877,
          2.1476686000823975,
          3.9705166816711426,
          8.290708541870117
         ],
         "yaxis": "y"
        },
        {
         "customdata": [
          [
           "CMF"
          ],
          [
           "CMF"
          ],
          [
           "CMF"
          ],
          [
           "CMF"
          ],
          [
           "CMF"
          ],
          [
           "CMF"
          ],
          [
           "CMF"
          ],
          [
           "CMF"
          ],
          [
           "CMF"
          ],
          [
           "CMF"
          ]
         ],
         "hovertemplate": "Estrategia=%{customdata[0]}<br>Data Fim=%{x}<br>Tempo de Simulação=%{y}<extra></extra>",
         "legendgroup": "CMF",
         "marker": {
          "color": "#EF553B",
          "symbol": "circle"
         },
         "mode": "markers",
         "name": "CMF",
         "orientation": "v",
         "showlegend": true,
         "type": "scatter",
         "x": [
          220,
          320,
          420,
          520,
          620,
          720,
          820,
          920,
          1376,
          2912
         ],
         "xaxis": "x",
         "y": [
          0.36094045639038086,
          2.593384027481079,
          3.8999056816101074,
          1.041855812072754,
          1.084580421447754,
          1.3784871101379395,
          1.5352590084075928,
          1.8493146896362305,
          3.2001240253448486,
          6.729571342468262
         ],
         "yaxis": "y"
        },
        {
         "customdata": [
          [
           "Detrended Price Oscillator"
          ],
          [
           "Detrended Price Oscillator"
          ],
          [
           "Detrended Price Oscillator"
          ],
          [
           "Detrended Price Oscillator"
          ],
          [
           "Detrended Price Oscillator"
          ],
          [
           "Detrended Price Oscillator"
          ],
          [
           "Detrended Price Oscillator"
          ],
          [
           "Detrended Price Oscillator"
          ],
          [
           "Detrended Price Oscillator"
          ],
          [
           "Detrended Price Oscillator"
          ]
         ],
         "hovertemplate": "Estrategia=%{customdata[0]}<br>Data Fim=%{x}<br>Tempo de Simulação=%{y}<extra></extra>",
         "legendgroup": "Detrended Price Oscillator",
         "marker": {
          "color": "#00cc96",
          "symbol": "circle"
         },
         "mode": "markers",
         "name": "Detrended Price Oscillator",
         "orientation": "v",
         "showlegend": true,
         "type": "scatter",
         "x": [
          220,
          320,
          420,
          520,
          620,
          720,
          820,
          920,
          1376,
          2912
         ],
         "xaxis": "x",
         "y": [
          0.25193357467651367,
          2.0394814014434814,
          2.942070245742798,
          0.7806062698364258,
          0.8343038558959961,
          0.9986796379089355,
          1.3009934425354004,
          1.3490936756134033,
          2.345205545425415,
          5.198829889297485
         ],
         "yaxis": "y"
        },
        {
         "customdata": [
          [
           "Donchian Channel"
          ],
          [
           "Donchian Channel"
          ],
          [
           "Donchian Channel"
          ],
          [
           "Donchian Channel"
          ],
          [
           "Donchian Channel"
          ],
          [
           "Donchian Channel"
          ],
          [
           "Donchian Channel"
          ],
          [
           "Donchian Channel"
          ],
          [
           "Donchian Channel"
          ],
          [
           "Donchian Channel"
          ]
         ],
         "hovertemplate": "Estrategia=%{customdata[0]}<br>Data Fim=%{x}<br>Tempo de Simulação=%{y}<extra></extra>",
         "legendgroup": "Donchian Channel",
         "marker": {
          "color": "#ab63fa",
          "symbol": "circle"
         },
         "mode": "markers",
         "name": "Donchian Channel",
         "orientation": "v",
         "showlegend": true,
         "type": "scatter",
         "x": [
          220,
          320,
          420,
          520,
          620,
          720,
          820,
          920,
          1376,
          2912
         ],
         "xaxis": "x",
         "y": [
          0.35919618606567383,
          2.724956750869751,
          4.3430914878845215,
          1.124699354171753,
          1.310645580291748,
          1.4374606609344482,
          1.72308349609375,
          2.0461339950561523,
          3.5324339866638184,
          7.579879999160767
         ],
         "yaxis": "y"
        },
        {
         "customdata": [
          [
           "Donchian Channels v2"
          ],
          [
           "Donchian Channels v2"
          ],
          [
           "Donchian Channels v2"
          ],
          [
           "Donchian Channels v2"
          ],
          [
           "Donchian Channels v2"
          ],
          [
           "Donchian Channels v2"
          ],
          [
           "Donchian Channels v2"
          ],
          [
           "Donchian Channels v2"
          ],
          [
           "Donchian Channels v2"
          ],
          [
           "Donchian Channels v2"
          ]
         ],
         "hovertemplate": "Estrategia=%{customdata[0]}<br>Data Fim=%{x}<br>Tempo de Simulação=%{y}<extra></extra>",
         "legendgroup": "Donchian Channels v2",
         "marker": {
          "color": "#FFA15A",
          "symbol": "circle"
         },
         "mode": "markers",
         "name": "Donchian Channels v2",
         "orientation": "v",
         "showlegend": true,
         "type": "scatter",
         "x": [
          220,
          320,
          420,
          520,
          620,
          720,
          820,
          920,
          1376,
          2912
         ],
         "xaxis": "x",
         "y": [
          0.44577693939208984,
          3.3706324100494385,
          5.063304424285889,
          1.5821418762207031,
          1.465498447418213,
          1.8912932872772217,
          2.187196969985962,
          2.3369359970092773,
          4.338764905929565,
          8.996338844299316
         ],
         "yaxis": "y"
        },
        {
         "customdata": [
          [
           "Elder Force Index"
          ],
          [
           "Elder Force Index"
          ],
          [
           "Elder Force Index"
          ],
          [
           "Elder Force Index"
          ],
          [
           "Elder Force Index"
          ],
          [
           "Elder Force Index"
          ],
          [
           "Elder Force Index"
          ],
          [
           "Elder Force Index"
          ],
          [
           "Elder Force Index"
          ],
          [
           "Elder Force Index"
          ]
         ],
         "hovertemplate": "Estrategia=%{customdata[0]}<br>Data Fim=%{x}<br>Tempo de Simulação=%{y}<extra></extra>",
         "legendgroup": "Elder Force Index",
         "marker": {
          "color": "#19d3f3",
          "symbol": "circle"
         },
         "mode": "markers",
         "name": "Elder Force Index",
         "orientation": "v",
         "showlegend": true,
         "type": "scatter",
         "x": [
          220,
          320,
          420,
          520,
          620,
          720,
          820,
          920,
          1376,
          2912
         ],
         "xaxis": "x",
         "y": [
          0.2908515930175781,
          2.224050760269165,
          3.4482030868530273,
          0.8793721199035645,
          0.9175601005554199,
          1.1503422260284424,
          1.2841665744781494,
          1.5956895351409912,
          2.536242723464966,
          5.6400439739227295
         ],
         "yaxis": "y"
        },
        {
         "customdata": [
          [
           "Elder Ray"
          ],
          [
           "Elder Ray"
          ],
          [
           "Elder Ray"
          ],
          [
           "Elder Ray"
          ],
          [
           "Elder Ray"
          ],
          [
           "Elder Ray"
          ],
          [
           "Elder Ray"
          ],
          [
           "Elder Ray"
          ],
          [
           "Elder Ray"
          ],
          [
           "Elder Ray"
          ]
         ],
         "hovertemplate": "Estrategia=%{customdata[0]}<br>Data Fim=%{x}<br>Tempo de Simulação=%{y}<extra></extra>",
         "legendgroup": "Elder Ray",
         "marker": {
          "color": "#FF6692",
          "symbol": "circle"
         },
         "mode": "markers",
         "name": "Elder Ray",
         "orientation": "v",
         "showlegend": true,
         "type": "scatter",
         "x": [
          220,
          320,
          420,
          520,
          620,
          720,
          820,
          920,
          1376,
          2912
         ],
         "xaxis": "x",
         "y": [
          0.25388598442077637,
          2.1472103595733643,
          3.188474416732788,
          0.8713016510009766,
          0.949409008026123,
          1.1668059825897217,
          1.401108741760254,
          1.4282183647155762,
          2.6536619663238525,
          5.5912392139434814
         ],
         "yaxis": "y"
        },
        {
         "customdata": [
          [
           "Force Index"
          ],
          [
           "Force Index"
          ],
          [
           "Force Index"
          ],
          [
           "Force Index"
          ],
          [
           "Force Index"
          ],
          [
           "Force Index"
          ],
          [
           "Force Index"
          ],
          [
           "Force Index"
          ],
          [
           "Force Index"
          ],
          [
           "Force Index"
          ]
         ],
         "hovertemplate": "Estrategia=%{customdata[0]}<br>Data Fim=%{x}<br>Tempo de Simulação=%{y}<extra></extra>",
         "legendgroup": "Force Index",
         "marker": {
          "color": "#B6E880",
          "symbol": "circle"
         },
         "mode": "markers",
         "name": "Force Index",
         "orientation": "v",
         "showlegend": true,
         "type": "scatter",
         "x": [
          220,
          320,
          420,
          520,
          620,
          720,
          820,
          920,
          1376,
          2912
         ],
         "xaxis": "x",
         "y": [
          0.8199491500854492,
          2.4614861011505127,
          3.89882493019104,
          1.077897548675537,
          1.109428882598877,
          1.3104994297027588,
          1.5056073665618896,
          1.7930386066436768,
          3.0268256664276123,
          6.420870304107666
         ],
         "yaxis": "y"
        },
        {
         "customdata": [
          [
           "Fractals"
          ],
          [
           "Fractals"
          ],
          [
           "Fractals"
          ],
          [
           "Fractals"
          ],
          [
           "Fractals"
          ],
          [
           "Fractals"
          ],
          [
           "Fractals"
          ],
          [
           "Fractals"
          ],
          [
           "Fractals"
          ],
          [
           "Fractals"
          ]
         ],
         "hovertemplate": "Estrategia=%{customdata[0]}<br>Data Fim=%{x}<br>Tempo de Simulação=%{y}<extra></extra>",
         "legendgroup": "Fractals",
         "marker": {
          "color": "#FF97FF",
          "symbol": "circle"
         },
         "mode": "markers",
         "name": "Fractals",
         "orientation": "v",
         "showlegend": true,
         "type": "scatter",
         "x": [
          220,
          320,
          420,
          520,
          620,
          720,
          820,
          920,
          1376,
          2912
         ],
         "xaxis": "x",
         "y": [
          6.028826713562012,
          20.700387716293335,
          40.189579486846924,
          12.348758935928345,
          15.827629089355469,
          21.38654923439026,
          27.813555479049683,
          35.012089252471924,
          89.66803193092346,
          365.4487404823303
         ],
         "yaxis": "y"
        },
        {
         "customdata": [
          [
           "GATOR OSCILLATOR"
          ],
          [
           "GATOR OSCILLATOR"
          ],
          [
           "GATOR OSCILLATOR"
          ],
          [
           "GATOR OSCILLATOR"
          ],
          [
           "GATOR OSCILLATOR"
          ],
          [
           "GATOR OSCILLATOR"
          ],
          [
           "GATOR OSCILLATOR"
          ],
          [
           "GATOR OSCILLATOR"
          ],
          [
           "GATOR OSCILLATOR"
          ],
          [
           "GATOR OSCILLATOR"
          ]
         ],
         "hovertemplate": "Estrategia=%{customdata[0]}<br>Data Fim=%{x}<br>Tempo de Simulação=%{y}<extra></extra>",
         "legendgroup": "GATOR OSCILLATOR",
         "marker": {
          "color": "#FECB52",
          "symbol": "circle"
         },
         "mode": "markers",
         "name": "GATOR OSCILLATOR",
         "orientation": "v",
         "showlegend": true,
         "type": "scatter",
         "x": [
          220,
          320,
          420,
          520,
          620,
          720,
          820,
          920,
          1376,
          2912
         ],
         "xaxis": "x",
         "y": [
          1.282801866531372,
          3.5079779624938965,
          5.483955144882202,
          1.552022933959961,
          1.6085593700408936,
          1.9123389720916748,
          2.2630414962768555,
          2.7045304775238037,
          5.167157888412476,
          13.128511428833008
         ],
         "yaxis": "y"
        },
        {
         "customdata": [
          [
           "HILBERT TRANSFORM"
          ],
          [
           "HILBERT TRANSFORM"
          ],
          [
           "HILBERT TRANSFORM"
          ],
          [
           "HILBERT TRANSFORM"
          ],
          [
           "HILBERT TRANSFORM"
          ],
          [
           "HILBERT TRANSFORM"
          ],
          [
           "HILBERT TRANSFORM"
          ],
          [
           "HILBERT TRANSFORM"
          ],
          [
           "HILBERT TRANSFORM"
          ],
          [
           "HILBERT TRANSFORM"
          ]
         ],
         "hovertemplate": "Estrategia=%{customdata[0]}<br>Data Fim=%{x}<br>Tempo de Simulação=%{y}<extra></extra>",
         "legendgroup": "HILBERT TRANSFORM",
         "marker": {
          "color": "#636efa",
          "symbol": "circle"
         },
         "mode": "markers",
         "name": "HILBERT TRANSFORM",
         "orientation": "v",
         "showlegend": true,
         "type": "scatter",
         "x": [
          220,
          320,
          420,
          520,
          620,
          720,
          820,
          920,
          1376,
          2912
         ],
         "xaxis": "x",
         "y": [
          1.5885460376739502,
          4.210815191268921,
          6.424989461898804,
          1.872589349746704,
          1.9292516708374023,
          2.3302111625671387,
          2.7001781463623047,
          3.1943483352661133,
          5.353718042373657,
          11.578652143478394
         ],
         "yaxis": "y"
        },
        {
         "customdata": [
          [
           "ICHIMOKU CLOUD"
          ],
          [
           "ICHIMOKU CLOUD"
          ],
          [
           "ICHIMOKU CLOUD"
          ],
          [
           "ICHIMOKU CLOUD"
          ],
          [
           "ICHIMOKU CLOUD"
          ],
          [
           "ICHIMOKU CLOUD"
          ],
          [
           "ICHIMOKU CLOUD"
          ],
          [
           "ICHIMOKU CLOUD"
          ],
          [
           "ICHIMOKU CLOUD"
          ],
          [
           "ICHIMOKU CLOUD"
          ]
         ],
         "hovertemplate": "Estrategia=%{customdata[0]}<br>Data Fim=%{x}<br>Tempo de Simulação=%{y}<extra></extra>",
         "legendgroup": "ICHIMOKU CLOUD",
         "marker": {
          "color": "#EF553B",
          "symbol": "circle"
         },
         "mode": "markers",
         "name": "ICHIMOKU CLOUD",
         "orientation": "v",
         "showlegend": true,
         "type": "scatter",
         "x": [
          220,
          320,
          420,
          520,
          620,
          720,
          820,
          920,
          1376,
          2912
         ],
         "xaxis": "x",
         "y": [
          1.9086370468139648,
          5.200092792510986,
          7.9252564907073975,
          2.221991539001465,
          2.3209171295166016,
          2.8418221473693848,
          3.3354055881500244,
          3.877758026123047,
          6.72122597694397,
          14.48589015007019
         ],
         "yaxis": "y"
        },
        {
         "customdata": [
          [
           "KAMA"
          ],
          [
           "KAMA"
          ],
          [
           "KAMA"
          ],
          [
           "KAMA"
          ],
          [
           "KAMA"
          ],
          [
           "KAMA"
          ],
          [
           "KAMA"
          ],
          [
           "KAMA"
          ],
          [
           "KAMA"
          ],
          [
           "KAMA"
          ]
         ],
         "hovertemplate": "Estrategia=%{customdata[0]}<br>Data Fim=%{x}<br>Tempo de Simulação=%{y}<extra></extra>",
         "legendgroup": "KAMA",
         "marker": {
          "color": "#00cc96",
          "symbol": "circle"
         },
         "mode": "markers",
         "name": "KAMA",
         "orientation": "v",
         "showlegend": true,
         "type": "scatter",
         "x": [
          220,
          320,
          420,
          520,
          620,
          720,
          820,
          920,
          1376,
          2912
         ],
         "xaxis": "x",
         "y": [
          9.630044937133789,
          34.89350152015686,
          63.843313694000244,
          23.985751628875732,
          26.69864273071289,
          36.76951265335083,
          47.90815210342407,
          59.456719160079956,
          154.46096634864807,
          644.9379916191101
         ],
         "yaxis": "y"
        },
        {
         "customdata": [
          [
           "KELTNER CHANNEL"
          ],
          [
           "KELTNER CHANNEL"
          ],
          [
           "KELTNER CHANNEL"
          ],
          [
           "KELTNER CHANNEL"
          ],
          [
           "KELTNER CHANNEL"
          ],
          [
           "KELTNER CHANNEL"
          ],
          [
           "KELTNER CHANNEL"
          ],
          [
           "KELTNER CHANNEL"
          ],
          [
           "KELTNER CHANNEL"
          ],
          [
           "KELTNER CHANNEL"
          ]
         ],
         "hovertemplate": "Estrategia=%{customdata[0]}<br>Data Fim=%{x}<br>Tempo de Simulação=%{y}<extra></extra>",
         "legendgroup": "KELTNER CHANNEL",
         "marker": {
          "color": "#ab63fa",
          "symbol": "circle"
         },
         "mode": "markers",
         "name": "KELTNER CHANNEL",
         "orientation": "v",
         "showlegend": true,
         "type": "scatter",
         "x": [
          220,
          320,
          420,
          520,
          620,
          720,
          820,
          920,
          1376,
          2912
         ],
         "xaxis": "x",
         "y": [
          1.48921799659729,
          4.5012593269348145,
          6.417806148529053,
          1.7037980556488037,
          1.8759229183197021,
          3.5341854095458984,
          2.613999128341675,
          2.926004648208618,
          5.450611352920532,
          11.83266830444336
         ],
         "yaxis": "y"
        },
        {
         "customdata": [
          [
           "KELTNER CHANNELS"
          ],
          [
           "KELTNER CHANNELS"
          ],
          [
           "KELTNER CHANNELS"
          ],
          [
           "KELTNER CHANNELS"
          ],
          [
           "KELTNER CHANNELS"
          ],
          [
           "KELTNER CHANNELS"
          ],
          [
           "KELTNER CHANNELS"
          ],
          [
           "KELTNER CHANNELS"
          ],
          [
           "KELTNER CHANNELS"
          ],
          [
           "KELTNER CHANNELS"
          ]
         ],
         "hovertemplate": "Estrategia=%{customdata[0]}<br>Data Fim=%{x}<br>Tempo de Simulação=%{y}<extra></extra>",
         "legendgroup": "KELTNER CHANNELS",
         "marker": {
          "color": "#FFA15A",
          "symbol": "circle"
         },
         "mode": "markers",
         "name": "KELTNER CHANNELS",
         "orientation": "v",
         "showlegend": true,
         "type": "scatter",
         "x": [
          220,
          320,
          420,
          520,
          620,
          720,
          820,
          920,
          1376,
          2912
         ],
         "xaxis": "x",
         "y": [
          1.4819626808166504,
          4.206947088241577,
          6.223043203353882,
          1.5552477836608887,
          1.9259111881256104,
          2.179313898086548,
          2.6900973320007324,
          2.9927122592926025,
          5.231110334396362,
          11.050981044769287
         ],
         "yaxis": "y"
        },
        {
         "customdata": [
          [
           "MARKET FACILITATION INDEX"
          ],
          [
           "MARKET FACILITATION INDEX"
          ],
          [
           "MARKET FACILITATION INDEX"
          ],
          [
           "MARKET FACILITATION INDEX"
          ],
          [
           "MARKET FACILITATION INDEX"
          ],
          [
           "MARKET FACILITATION INDEX"
          ],
          [
           "MARKET FACILITATION INDEX"
          ],
          [
           "MARKET FACILITATION INDEX"
          ],
          [
           "MARKET FACILITATION INDEX"
          ],
          [
           "MARKET FACILITATION INDEX"
          ]
         ],
         "hovertemplate": "Estrategia=%{customdata[0]}<br>Data Fim=%{x}<br>Tempo de Simulação=%{y}<extra></extra>",
         "legendgroup": "MARKET FACILITATION INDEX",
         "marker": {
          "color": "#19d3f3",
          "symbol": "circle"
         },
         "mode": "markers",
         "name": "MARKET FACILITATION INDEX",
         "orientation": "v",
         "showlegend": true,
         "type": "scatter",
         "x": [
          220,
          320,
          420,
          520,
          620,
          720,
          820,
          920,
          1376,
          2912
         ],
         "xaxis": "x",
         "y": [
          1.6741275787353516,
          4.650096893310547,
          7.16251540184021,
          2.006866931915283,
          2.0425617694854736,
          2.60368275642395,
          3.0326499938964844,
          3.42537260055542,
          5.88565468788147,
          12.486780166625977
         ],
         "yaxis": "y"
        },
        {
         "customdata": [
          [
           "MFI"
          ],
          [
           "MFI"
          ],
          [
           "MFI"
          ],
          [
           "MFI"
          ],
          [
           "MFI"
          ],
          [
           "MFI"
          ],
          [
           "MFI"
          ],
          [
           "MFI"
          ],
          [
           "MFI"
          ],
          [
           "MFI"
          ]
         ],
         "hovertemplate": "Estrategia=%{customdata[0]}<br>Data Fim=%{x}<br>Tempo de Simulação=%{y}<extra></extra>",
         "legendgroup": "MFI",
         "marker": {
          "color": "#FF6692",
          "symbol": "circle"
         },
         "mode": "markers",
         "name": "MFI",
         "orientation": "v",
         "showlegend": true,
         "type": "scatter",
         "x": [
          220,
          320,
          420,
          520,
          620,
          720,
          820,
          920,
          1376,
          2912
         ],
         "xaxis": "x",
         "y": [
          1.3194825649261475,
          3.6763315200805664,
          5.567672967910767,
          1.682765007019043,
          1.6935741901397705,
          2.051539182662964,
          2.3706326484680176,
          2.6490559577941895,
          4.451107025146484,
          10.01076889038086
         ],
         "yaxis": "y"
        },
        {
         "customdata": [
          [
           "HULL MOVING AVERAGE"
          ],
          [
           "HULL MOVING AVERAGE"
          ],
          [
           "HULL MOVING AVERAGE"
          ],
          [
           "HULL MOVING AVERAGE"
          ],
          [
           "HULL MOVING AVERAGE"
          ],
          [
           "HULL MOVING AVERAGE"
          ],
          [
           "HULL MOVING AVERAGE"
          ],
          [
           "HULL MOVING AVERAGE"
          ],
          [
           "HULL MOVING AVERAGE"
          ],
          [
           "HULL MOVING AVERAGE"
          ]
         ],
         "hovertemplate": "Estrategia=%{customdata[0]}<br>Data Fim=%{x}<br>Tempo de Simulação=%{y}<extra></extra>",
         "legendgroup": "HULL MOVING AVERAGE",
         "marker": {
          "color": "#B6E880",
          "symbol": "circle"
         },
         "mode": "markers",
         "name": "HULL MOVING AVERAGE",
         "orientation": "v",
         "showlegend": true,
         "type": "scatter",
         "x": [
          220,
          320,
          420,
          520,
          620,
          720,
          820,
          920,
          1376,
          2912
         ],
         "xaxis": "x",
         "y": [
          1.8558707237243652,
          5.954952239990234,
          9.781112909317017,
          3.5833723545074463,
          3.9208672046661377,
          4.896367788314819,
          6.24862265586853,
          7.515670537948608,
          18.288692474365234,
          67.60815572738647
         ],
         "yaxis": "y"
        },
        {
         "customdata": [
          [
           "Moving Average Envelope"
          ],
          [
           "Moving Average Envelope"
          ],
          [
           "Moving Average Envelope"
          ],
          [
           "Moving Average Envelope"
          ],
          [
           "Moving Average Envelope"
          ],
          [
           "Moving Average Envelope"
          ],
          [
           "Moving Average Envelope"
          ],
          [
           "Moving Average Envelope"
          ],
          [
           "Moving Average Envelope"
          ],
          [
           "Moving Average Envelope"
          ]
         ],
         "hovertemplate": "Estrategia=%{customdata[0]}<br>Data Fim=%{x}<br>Tempo de Simulação=%{y}<extra></extra>",
         "legendgroup": "Moving Average Envelope",
         "marker": {
          "color": "#FF97FF",
          "symbol": "circle"
         },
         "mode": "markers",
         "name": "Moving Average Envelope",
         "orientation": "v",
         "showlegend": true,
         "type": "scatter",
         "x": [
          220,
          320,
          420,
          520,
          620,
          720,
          820,
          920,
          1376,
          2912
         ],
         "xaxis": "x",
         "y": [
          1.2079575061798096,
          3.431509017944336,
          5.174260854721069,
          1.500284194946289,
          1.521772861480713,
          1.818211317062378,
          2.1343958377838135,
          2.4240636825561523,
          4.47090744972229,
          9.781052112579346
         ],
         "yaxis": "y"
        },
        {
         "customdata": [
          [
           "OBV"
          ],
          [
           "OBV"
          ],
          [
           "OBV"
          ],
          [
           "OBV"
          ],
          [
           "OBV"
          ],
          [
           "OBV"
          ],
          [
           "OBV"
          ],
          [
           "OBV"
          ],
          [
           "OBV"
          ],
          [
           "OBV"
          ]
         ],
         "hovertemplate": "Estrategia=%{customdata[0]}<br>Data Fim=%{x}<br>Tempo de Simulação=%{y}<extra></extra>",
         "legendgroup": "OBV",
         "marker": {
          "color": "#FECB52",
          "symbol": "circle"
         },
         "mode": "markers",
         "name": "OBV",
         "orientation": "v",
         "showlegend": true,
         "type": "scatter",
         "x": [
          220,
          320,
          420,
          520,
          620,
          720,
          820,
          920,
          1376,
          2912
         ],
         "xaxis": "x",
         "y": [
          9.699506998062134,
          36.348966121673584,
          63.67780113220215,
          19.48373293876648,
          26.401635885238647,
          37.0493745803833,
          46.71612548828125,
          58.25319027900696,
          151.67036271095276,
          620.3246426582336
         ],
         "yaxis": "y"
        },
        {
         "customdata": [
          [
           "Pivot Points"
          ],
          [
           "Pivot Points"
          ],
          [
           "Pivot Points"
          ],
          [
           "Pivot Points"
          ],
          [
           "Pivot Points"
          ],
          [
           "Pivot Points"
          ],
          [
           "Pivot Points"
          ],
          [
           "Pivot Points"
          ],
          [
           "Pivot Points"
          ],
          [
           "Pivot Points"
          ]
         ],
         "hovertemplate": "Estrategia=%{customdata[0]}<br>Data Fim=%{x}<br>Tempo de Simulação=%{y}<extra></extra>",
         "legendgroup": "Pivot Points",
         "marker": {
          "color": "#636efa",
          "symbol": "circle"
         },
         "mode": "markers",
         "name": "Pivot Points",
         "orientation": "v",
         "showlegend": true,
         "type": "scatter",
         "x": [
          220,
          320,
          420,
          520,
          620,
          720,
          820,
          920,
          1376,
          2912
         ],
         "xaxis": "x",
         "y": [
          2.327369451522827,
          16.862343549728394,
          10.165132284164429,
          2.379035711288452,
          2.9534106254577637,
          3.663858652114868,
          4.11432957649231,
          4.76286768913269,
          8.509138584136963,
          18.107932090759277
         ],
         "yaxis": "y"
        },
        {
         "customdata": [
          [
           "PPO"
          ],
          [
           "PPO"
          ],
          [
           "PPO"
          ],
          [
           "PPO"
          ],
          [
           "PPO"
          ],
          [
           "PPO"
          ],
          [
           "PPO"
          ],
          [
           "PPO"
          ],
          [
           "PPO"
          ],
          [
           "PPO"
          ]
         ],
         "hovertemplate": "Estrategia=%{customdata[0]}<br>Data Fim=%{x}<br>Tempo de Simulação=%{y}<extra></extra>",
         "legendgroup": "PPO",
         "marker": {
          "color": "#EF553B",
          "symbol": "circle"
         },
         "mode": "markers",
         "name": "PPO",
         "orientation": "v",
         "showlegend": true,
         "type": "scatter",
         "x": [
          220,
          320,
          420,
          520,
          620,
          720,
          820,
          920,
          1376,
          2912
         ],
         "xaxis": "x",
         "y": [
          1.6003024578094482,
          8.618464946746826,
          6.597836256027222,
          1.6618165969848633,
          2.103839159011841,
          2.3366754055023193,
          2.720053195953369,
          3.168307065963745,
          5.688807010650635,
          12.438306331634521
         ],
         "yaxis": "y"
        },
        {
         "customdata": [
          [
           "Price Channels"
          ],
          [
           "Price Channels"
          ],
          [
           "Price Channels"
          ],
          [
           "Price Channels"
          ],
          [
           "Price Channels"
          ],
          [
           "Price Channels"
          ],
          [
           "Price Channels"
          ],
          [
           "Price Channels"
          ],
          [
           "Price Channels"
          ],
          [
           "Price Channels"
          ]
         ],
         "hovertemplate": "Estrategia=%{customdata[0]}<br>Data Fim=%{x}<br>Tempo de Simulação=%{y}<extra></extra>",
         "legendgroup": "Price Channels",
         "marker": {
          "color": "#00cc96",
          "symbol": "circle"
         },
         "mode": "markers",
         "name": "Price Channels",
         "orientation": "v",
         "showlegend": true,
         "type": "scatter",
         "x": [
          220,
          320,
          420,
          520,
          620,
          720,
          820,
          920,
          1376,
          2912
         ],
         "xaxis": "x",
         "y": [
          1.5900194644927979,
          7.277827978134155,
          7.031243085861206,
          1.6220533847808838,
          2.064490795135498,
          2.597747564315796,
          2.948934555053711,
          3.3513107299804688,
          5.829344987869263,
          12.78400206565857
         ],
         "yaxis": "y"
        },
        {
         "customdata": [
          [
           "ROC"
          ],
          [
           "ROC"
          ],
          [
           "ROC"
          ],
          [
           "ROC"
          ],
          [
           "ROC"
          ],
          [
           "ROC"
          ],
          [
           "ROC"
          ],
          [
           "ROC"
          ],
          [
           "ROC"
          ],
          [
           "ROC"
          ]
         ],
         "hovertemplate": "Estrategia=%{customdata[0]}<br>Data Fim=%{x}<br>Tempo de Simulação=%{y}<extra></extra>",
         "legendgroup": "ROC",
         "marker": {
          "color": "#ab63fa",
          "symbol": "circle"
         },
         "mode": "markers",
         "name": "ROC",
         "orientation": "v",
         "showlegend": true,
         "type": "scatter",
         "x": [
          220,
          320,
          420,
          520,
          620,
          720,
          820,
          920,
          1376,
          2912
         ],
         "xaxis": "x",
         "y": [
          1.2352607250213623,
          6.053815841674805,
          2.1634140014648438,
          1.3981616497039795,
          1.6635782718658447,
          2.073775053024292,
          2.4058592319488525,
          2.562171697616577,
          4.554059743881226,
          10.337246417999268
         ],
         "yaxis": "y"
        },
        {
         "customdata": [
          [
           "Schaff Trend Cycle"
          ],
          [
           "Schaff Trend Cycle"
          ],
          [
           "Schaff Trend Cycle"
          ],
          [
           "Schaff Trend Cycle"
          ],
          [
           "Schaff Trend Cycle"
          ],
          [
           "Schaff Trend Cycle"
          ],
          [
           "Schaff Trend Cycle"
          ],
          [
           "Schaff Trend Cycle"
          ],
          [
           "Schaff Trend Cycle"
          ],
          [
           "Schaff Trend Cycle"
          ]
         ],
         "hovertemplate": "Estrategia=%{customdata[0]}<br>Data Fim=%{x}<br>Tempo de Simulação=%{y}<extra></extra>",
         "legendgroup": "Schaff Trend Cycle",
         "marker": {
          "color": "#FFA15A",
          "symbol": "circle"
         },
         "mode": "markers",
         "name": "Schaff Trend Cycle",
         "orientation": "v",
         "showlegend": true,
         "type": "scatter",
         "x": [
          220,
          320,
          420,
          520,
          620,
          720,
          820,
          920,
          1376,
          2912
         ],
         "xaxis": "x",
         "y": [
          1.8051762580871582,
          7.92643141746521,
          2.7446305751800537,
          1.8327581882476807,
          2.354407787322998,
          2.7334959506988525,
          3.2291314601898193,
          3.732872247695923,
          6.541805982589722,
          13.848607301712036
         ],
         "yaxis": "y"
        },
        {
         "customdata": [
          [
           "T3 Moving Average"
          ],
          [
           "T3 Moving Average"
          ],
          [
           "T3 Moving Average"
          ],
          [
           "T3 Moving Average"
          ],
          [
           "T3 Moving Average"
          ],
          [
           "T3 Moving Average"
          ],
          [
           "T3 Moving Average"
          ],
          [
           "T3 Moving Average"
          ],
          [
           "T3 Moving Average"
          ],
          [
           "T3 Moving Average"
          ]
         ],
         "hovertemplate": "Estrategia=%{customdata[0]}<br>Data Fim=%{x}<br>Tempo de Simulação=%{y}<extra></extra>",
         "legendgroup": "T3 Moving Average",
         "marker": {
          "color": "#19d3f3",
          "symbol": "circle"
         },
         "mode": "markers",
         "name": "T3 Moving Average",
         "orientation": "v",
         "showlegend": true,
         "type": "scatter",
         "x": [
          220,
          320,
          420,
          520,
          620,
          720,
          820,
          920,
          1376,
          2912
         ],
         "xaxis": "x",
         "y": [
          null,
          null,
          null,
          null,
          null,
          null,
          null,
          null,
          null,
          null
         ],
         "yaxis": "y"
        },
        {
         "customdata": [
          [
           "TEMA"
          ],
          [
           "TEMA"
          ],
          [
           "TEMA"
          ],
          [
           "TEMA"
          ],
          [
           "TEMA"
          ],
          [
           "TEMA"
          ],
          [
           "TEMA"
          ],
          [
           "TEMA"
          ],
          [
           "TEMA"
          ],
          [
           "TEMA"
          ]
         ],
         "hovertemplate": "Estrategia=%{customdata[0]}<br>Data Fim=%{x}<br>Tempo de Simulação=%{y}<extra></extra>",
         "legendgroup": "TEMA",
         "marker": {
          "color": "#FF6692",
          "symbol": "circle"
         },
         "mode": "markers",
         "name": "TEMA",
         "orientation": "v",
         "showlegend": true,
         "type": "scatter",
         "x": [
          220,
          320,
          420,
          520,
          620,
          720,
          820,
          920,
          1376,
          2912
         ],
         "xaxis": "x",
         "y": [
          null,
          null,
          null,
          null,
          null,
          null,
          null,
          null,
          null,
          null
         ],
         "yaxis": "y"
        },
        {
         "customdata": [
          [
           "Triangular Moving Average"
          ],
          [
           "Triangular Moving Average"
          ],
          [
           "Triangular Moving Average"
          ],
          [
           "Triangular Moving Average"
          ],
          [
           "Triangular Moving Average"
          ],
          [
           "Triangular Moving Average"
          ],
          [
           "Triangular Moving Average"
          ],
          [
           "Triangular Moving Average"
          ],
          [
           "Triangular Moving Average"
          ],
          [
           "Triangular Moving Average"
          ]
         ],
         "hovertemplate": "Estrategia=%{customdata[0]}<br>Data Fim=%{x}<br>Tempo de Simulação=%{y}<extra></extra>",
         "legendgroup": "Triangular Moving Average",
         "marker": {
          "color": "#B6E880",
          "symbol": "circle"
         },
         "mode": "markers",
         "name": "Triangular Moving Average",
         "orientation": "v",
         "showlegend": true,
         "type": "scatter",
         "x": [
          220,
          320,
          420,
          520,
          620,
          720,
          820,
          920,
          1376,
          2912
         ],
         "xaxis": "x",
         "y": [
          1.1464893817901611,
          4.9974470138549805,
          1.6656172275543213,
          1.2419037818908691,
          1.4043385982513428,
          1.6771552562713623,
          1.979954481124878,
          2.393918037414551,
          4.268529415130615,
          8.771178722381592
         ],
         "yaxis": "y"
        },
        {
         "customdata": [
          [
           "True Strength Index"
          ],
          [
           "True Strength Index"
          ],
          [
           "True Strength Index"
          ],
          [
           "True Strength Index"
          ],
          [
           "True Strength Index"
          ],
          [
           "True Strength Index"
          ],
          [
           "True Strength Index"
          ],
          [
           "True Strength Index"
          ],
          [
           "True Strength Index"
          ],
          [
           "True Strength Index"
          ]
         ],
         "hovertemplate": "Estrategia=%{customdata[0]}<br>Data Fim=%{x}<br>Tempo de Simulação=%{y}<extra></extra>",
         "legendgroup": "True Strength Index",
         "marker": {
          "color": "#FF97FF",
          "symbol": "circle"
         },
         "mode": "markers",
         "name": "True Strength Index",
         "orientation": "v",
         "showlegend": true,
         "type": "scatter",
         "x": [
          220,
          320,
          420,
          520,
          620,
          720,
          820,
          920,
          1376,
          2912
         ],
         "xaxis": "x",
         "y": [
          null,
          null,
          null,
          null,
          null,
          null,
          null,
          null,
          null,
          null
         ],
         "yaxis": "y"
        },
        {
         "customdata": [
          [
           "Ultimate Oscillator"
          ],
          [
           "Ultimate Oscillator"
          ],
          [
           "Ultimate Oscillator"
          ],
          [
           "Ultimate Oscillator"
          ],
          [
           "Ultimate Oscillator"
          ],
          [
           "Ultimate Oscillator"
          ],
          [
           "Ultimate Oscillator"
          ],
          [
           "Ultimate Oscillator"
          ],
          [
           "Ultimate Oscillator"
          ],
          [
           "Ultimate Oscillator"
          ]
         ],
         "hovertemplate": "Estrategia=%{customdata[0]}<br>Data Fim=%{x}<br>Tempo de Simulação=%{y}<extra></extra>",
         "legendgroup": "Ultimate Oscillator",
         "marker": {
          "color": "#FECB52",
          "symbol": "circle"
         },
         "mode": "markers",
         "name": "Ultimate Oscillator",
         "orientation": "v",
         "showlegend": true,
         "type": "scatter",
         "x": [
          220,
          320,
          420,
          520,
          620,
          720,
          820,
          920,
          1376,
          2912
         ],
         "xaxis": "x",
         "y": [
          2.8039968013763428,
          11.768222093582153,
          4.663069725036621,
          4.03119158744812,
          5.434677362442017,
          7.1251609325408936,
          8.748297214508057,
          10.728111505508423,
          25.774983882904053,
          97.91811180114746
         ],
         "yaxis": "y"
        },
        {
         "customdata": [
          [
           "VIDYA"
          ],
          [
           "VIDYA"
          ],
          [
           "VIDYA"
          ],
          [
           "VIDYA"
          ],
          [
           "VIDYA"
          ],
          [
           "VIDYA"
          ],
          [
           "VIDYA"
          ],
          [
           "VIDYA"
          ],
          [
           "VIDYA"
          ],
          [
           "VIDYA"
          ]
         ],
         "hovertemplate": "Estrategia=%{customdata[0]}<br>Data Fim=%{x}<br>Tempo de Simulação=%{y}<extra></extra>",
         "legendgroup": "VIDYA",
         "marker": {
          "color": "#636efa",
          "symbol": "circle"
         },
         "mode": "markers",
         "name": "VIDYA",
         "orientation": "v",
         "showlegend": true,
         "type": "scatter",
         "x": [
          220,
          320,
          420,
          520,
          620,
          720,
          820,
          920,
          1376,
          2912
         ],
         "xaxis": "x",
         "y": [
          3.0353400707244873,
          11.567680358886719,
          5.30122447013855,
          4.675121307373047,
          6.36874794960022,
          10.847721815109253,
          10.444534301757812,
          13.098454475402832,
          32.49520421028137,
          120.48515629768372
         ],
         "yaxis": "y"
        },
        {
         "customdata": [
          [
           "Volume Weighted Average Price VWAP"
          ],
          [
           "Volume Weighted Average Price VWAP"
          ],
          [
           "Volume Weighted Average Price VWAP"
          ],
          [
           "Volume Weighted Average Price VWAP"
          ],
          [
           "Volume Weighted Average Price VWAP"
          ],
          [
           "Volume Weighted Average Price VWAP"
          ],
          [
           "Volume Weighted Average Price VWAP"
          ],
          [
           "Volume Weighted Average Price VWAP"
          ],
          [
           "Volume Weighted Average Price VWAP"
          ],
          [
           "Volume Weighted Average Price VWAP"
          ]
         ],
         "hovertemplate": "Estrategia=%{customdata[0]}<br>Data Fim=%{x}<br>Tempo de Simulação=%{y}<extra></extra>",
         "legendgroup": "Volume Weighted Average Price VWAP",
         "marker": {
          "color": "#EF553B",
          "symbol": "circle"
         },
         "mode": "markers",
         "name": "Volume Weighted Average Price VWAP",
         "orientation": "v",
         "showlegend": true,
         "type": "scatter",
         "x": [
          220,
          320,
          420,
          520,
          620,
          720,
          820,
          920,
          1376,
          2912
         ],
         "xaxis": "x",
         "y": [
          1.394188642501831,
          4.116917133331299,
          1.8686392307281494,
          1.33194899559021,
          1.6522443294525146,
          2.7505297660827637,
          2.3068506717681885,
          2.761591672897339,
          4.828879117965698,
          10.254934549331665
         ],
         "yaxis": "y"
        },
        {
         "customdata": [
          [
           "Williams Alligator"
          ],
          [
           "Williams Alligator"
          ],
          [
           "Williams Alligator"
          ],
          [
           "Williams Alligator"
          ],
          [
           "Williams Alligator"
          ],
          [
           "Williams Alligator"
          ],
          [
           "Williams Alligator"
          ],
          [
           "Williams Alligator"
          ],
          [
           "Williams Alligator"
          ],
          [
           "Williams Alligator"
          ]
         ],
         "hovertemplate": "Estrategia=%{customdata[0]}<br>Data Fim=%{x}<br>Tempo de Simulação=%{y}<extra></extra>",
         "legendgroup": "Williams Alligator",
         "marker": {
          "color": "#00cc96",
          "symbol": "circle"
         },
         "mode": "markers",
         "name": "Williams Alligator",
         "orientation": "v",
         "showlegend": true,
         "type": "scatter",
         "x": [
          220,
          320,
          420,
          520,
          620,
          720,
          820,
          920,
          1376,
          2912
         ],
         "xaxis": "x",
         "y": [
          1.0428462028503418,
          3.2141475677490234,
          1.4454097747802734,
          1.0383985042572021,
          1.350177526473999,
          2.5054562091827393,
          2.003037929534912,
          2.4188618659973145,
          4.206615209579468,
          10.82693076133728
         ],
         "yaxis": "y"
        },
        {
         "customdata": [
          [
           "WMA"
          ],
          [
           "WMA"
          ],
          [
           "WMA"
          ],
          [
           "WMA"
          ],
          [
           "WMA"
          ],
          [
           "WMA"
          ],
          [
           "WMA"
          ],
          [
           "WMA"
          ],
          [
           "WMA"
          ],
          [
           "WMA"
          ]
         ],
         "hovertemplate": "Estrategia=%{customdata[0]}<br>Data Fim=%{x}<br>Tempo de Simulação=%{y}<extra></extra>",
         "legendgroup": "WMA",
         "marker": {
          "color": "#ab63fa",
          "symbol": "circle"
         },
         "mode": "markers",
         "name": "WMA",
         "orientation": "v",
         "showlegend": true,
         "type": "scatter",
         "x": [
          220,
          320,
          420,
          520,
          620,
          720,
          820,
          920,
          1376,
          2912
         ],
         "xaxis": "x",
         "y": [
          2.050215482711792,
          6.799259901046753,
          4.005711317062378,
          3.202141523361206,
          4.38001823425293,
          7.284852027893066,
          7.202822923660278,
          8.97218918800354,
          21.806629419326782,
          86.12275576591492
         ],
         "yaxis": "y"
        },
        {
         "customdata": [
          [
           "Zero Lag Moving Average"
          ],
          [
           "Zero Lag Moving Average"
          ],
          [
           "Zero Lag Moving Average"
          ],
          [
           "Zero Lag Moving Average"
          ],
          [
           "Zero Lag Moving Average"
          ],
          [
           "Zero Lag Moving Average"
          ],
          [
           "Zero Lag Moving Average"
          ],
          [
           "Zero Lag Moving Average"
          ],
          [
           "Zero Lag Moving Average"
          ],
          [
           "Zero Lag Moving Average"
          ]
         ],
         "hovertemplate": "Estrategia=%{customdata[0]}<br>Data Fim=%{x}<br>Tempo de Simulação=%{y}<extra></extra>",
         "legendgroup": "Zero Lag Moving Average",
         "marker": {
          "color": "#FFA15A",
          "symbol": "circle"
         },
         "mode": "markers",
         "name": "Zero Lag Moving Average",
         "orientation": "v",
         "showlegend": true,
         "type": "scatter",
         "x": [
          220,
          320,
          420,
          520,
          620,
          720,
          820,
          920,
          1376,
          2912
         ],
         "xaxis": "x",
         "y": [
          0.8188447952270508,
          2.2289910316467285,
          1.127915620803833,
          0.760286808013916,
          0.94234299659729,
          1.4668669700622559,
          1.3233914375305176,
          1.5150401592254639,
          2.6037168502807617,
          6.146200895309448
         ],
         "yaxis": "y"
        },
        {
         "hovertemplate": "Estrategia=UT BOTS<br>Data_Fim=%{x}<br>Tempo_Simulacao=%{y}<extra></extra>",
         "legendgroup": "UT BOTS",
         "line": {
          "color": "#636efa",
          "dash": "solid"
         },
         "marker": {
          "symbol": "circle"
         },
         "mode": "lines",
         "name": "UT BOTS",
         "orientation": "v",
         "showlegend": true,
         "type": "scatter",
         "x": [
          220,
          320,
          420,
          520,
          620,
          720,
          820,
          920,
          1376,
          2912
         ],
         "xaxis": "x",
         "y": [
          0.7671127319335938,
          5.134854793548584,
          13.312766551971436,
          8.20657467842102,
          5.4656782150268555,
          7.312904596328735,
          11.949163436889648,
          11.77206039428711,
          29.401122093200684,
          116.41359639167786
         ],
         "yaxis": "y"
        },
        {
         "hovertemplate": "Estrategia=MA RSI e VOLUME<br>Data_Fim=%{x}<br>Tempo_Simulacao=%{y}<extra></extra>",
         "legendgroup": "MA RSI e VOLUME",
         "line": {
          "color": "#EF553B",
          "dash": "solid"
         },
         "marker": {
          "symbol": "circle"
         },
         "mode": "lines",
         "name": "MA RSI e VOLUME",
         "orientation": "v",
         "showlegend": true,
         "type": "scatter",
         "x": [
          220,
          320,
          420,
          520,
          620,
          720,
          820,
          920,
          1376,
          2912
         ],
         "xaxis": "x",
         "y": [
          0.408480167388916,
          2.45246958732605,
          5.944039583206177,
          2.8252758979797363,
          1.6043481826782227,
          1.9438371658325195,
          2.4131877422332764,
          2.6980884075164795,
          4.600658655166626,
          10.771788597106934
         ],
         "yaxis": "y"
        },
        {
         "hovertemplate": "Estrategia=MA ANTECIPATION 5_10<br>Data_Fim=%{x}<br>Tempo_Simulacao=%{y}<extra></extra>",
         "legendgroup": "MA ANTECIPATION 5_10",
         "line": {
          "color": "#00cc96",
          "dash": "solid"
         },
         "marker": {
          "symbol": "circle"
         },
         "mode": "lines",
         "name": "MA ANTECIPATION 5_10",
         "orientation": "v",
         "showlegend": true,
         "type": "scatter",
         "x": [
          220,
          320,
          420,
          520,
          620,
          720,
          820,
          920,
          1376,
          2912
         ],
         "xaxis": "x",
         "y": [
          0.30507802963256836,
          1.6805346012115479,
          3.9734649658203125,
          2.1220226287841797,
          1.1050007343292236,
          1.4353532791137695,
          1.6754937171936035,
          2.0619494915008545,
          3.1550724506378174,
          7.233435392379761
         ],
         "yaxis": "y"
        },
        {
         "hovertemplate": "Estrategia=MA SIMPLES FALLBACK 5_10<br>Data_Fim=%{x}<br>Tempo_Simulacao=%{y}<extra></extra>",
         "legendgroup": "MA SIMPLES FALLBACK 5_10",
         "line": {
          "color": "#ab63fa",
          "dash": "solid"
         },
         "marker": {
          "symbol": "circle"
         },
         "mode": "lines",
         "name": "MA SIMPLES FALLBACK 5_10",
         "orientation": "v",
         "showlegend": true,
         "type": "scatter",
         "x": [
          220,
          320,
          420,
          520,
          620,
          720,
          820,
          920,
          1376,
          2912
         ],
         "xaxis": "x",
         "y": [
          0.28321337699890137,
          1.4330785274505615,
          3.196481943130493,
          2.887852430343628,
          1.0407803058624268,
          1.0882174968719482,
          1.2662675380706787,
          1.493290901184082,
          2.5207951068878174,
          6.001565933227539
         ],
         "yaxis": "y"
        },
        {
         "hovertemplate": "Estrategia=RSI<br>Data_Fim=%{x}<br>Tempo_Simulacao=%{y}<extra></extra>",
         "legendgroup": "RSI",
         "line": {
          "color": "#FFA15A",
          "dash": "solid"
         },
         "marker": {
          "symbol": "circle"
         },
         "mode": "lines",
         "name": "RSI",
         "orientation": "v",
         "showlegend": true,
         "type": "scatter",
         "x": [
          220,
          320,
          420,
          520,
          620,
          720,
          820,
          920,
          1376,
          2912
         ],
         "xaxis": "x",
         "y": [
          0.29407596588134766,
          1.6113715171813965,
          3.8527841567993164,
          1.766003131866455,
          1.0320971012115479,
          1.236020803451538,
          1.4939496517181396,
          1.9161248207092285,
          2.9703714847564697,
          6.3632097244262695
         ],
         "yaxis": "y"
        },
        {
         "hovertemplate": "Estrategia=VORTEX<br>Data_Fim=%{x}<br>Tempo_Simulacao=%{y}<extra></extra>",
         "legendgroup": "VORTEX",
         "line": {
          "color": "#19d3f3",
          "dash": "solid"
         },
         "marker": {
          "symbol": "circle"
         },
         "mode": "lines",
         "name": "VORTEX",
         "orientation": "v",
         "showlegend": true,
         "type": "scatter",
         "x": [
          220,
          320,
          420,
          520,
          620,
          720,
          820,
          920,
          1376,
          2912
         ],
         "xaxis": "x",
         "y": [
          0.4560976028442383,
          2.4654979705810547,
          5.62569522857666,
          2.2935500144958496,
          1.7125539779663086,
          2.03437876701355,
          2.2176034450531006,
          2.8513264656066895,
          4.602814197540283,
          9.671144485473633
         ],
         "yaxis": "y"
        },
        {
         "hovertemplate": "Estrategia=Bollinger Bands<br>Data_Fim=%{x}<br>Tempo_Simulacao=%{y}<extra></extra>",
         "legendgroup": "Bollinger Bands",
         "line": {
          "color": "#FF6692",
          "dash": "solid"
         },
         "marker": {
          "symbol": "circle"
         },
         "mode": "lines",
         "name": "Bollinger Bands",
         "orientation": "v",
         "showlegend": true,
         "type": "scatter",
         "x": [
          220,
          320,
          420,
          520,
          620,
          720,
          820,
          920,
          1376,
          2912
         ],
         "xaxis": "x",
         "y": [
          0.3513514995574951,
          2.0417234897613525,
          5.827488660812378,
          1.7040002346038818,
          1.2856919765472412,
          1.5244903564453125,
          1.9642908573150635,
          2.4557433128356934,
          3.6170096397399902,
          8.075088024139404
         ],
         "yaxis": "y"
        },
        {
         "hovertemplate": "Estrategia=Ichimoku<br>Data_Fim=%{x}<br>Tempo_Simulacao=%{y}<extra></extra>",
         "legendgroup": "Ichimoku",
         "line": {
          "color": "#B6E880",
          "dash": "solid"
         },
         "marker": {
          "symbol": "circle"
         },
         "mode": "lines",
         "name": "Ichimoku",
         "orientation": "v",
         "showlegend": true,
         "type": "scatter",
         "x": [
          220,
          320,
          420,
          520,
          620,
          720,
          820,
          920,
          1376,
          2912
         ],
         "xaxis": "x",
         "y": [
          0.5881702899932861,
          3.3195106983184814,
          7.818979263305664,
          2.7043204307556152,
          2.3785994052886963,
          2.7291836738586426,
          3.121185064315796,
          4.301278352737427,
          6.327173709869385,
          15.089637041091919
         ],
         "yaxis": "y"
        },
        {
         "hovertemplate": "Estrategia=KDJ<br>Data_Fim=%{x}<br>Tempo_Simulacao=%{y}<extra></extra>",
         "legendgroup": "KDJ",
         "line": {
          "color": "#FF97FF",
          "dash": "solid"
         },
         "marker": {
          "symbol": "circle"
         },
         "mode": "lines",
         "name": "KDJ",
         "orientation": "v",
         "showlegend": true,
         "type": "scatter",
         "x": [
          220,
          320,
          420,
          520,
          620,
          720,
          820,
          920,
          1376,
          2912
         ],
         "xaxis": "x",
         "y": [
          0.40680432319641113,
          2.4955761432647705,
          5.907803773880005,
          2.1164638996124268,
          1.66172194480896,
          2.1275174617767334,
          2.2984752655029297,
          2.6787238121032715,
          4.7088963985443115,
          11.023861169815063
         ],
         "yaxis": "y"
        },
        {
         "hovertemplate": "Estrategia=MACD<br>Data_Fim=%{x}<br>Tempo_Simulacao=%{y}<extra></extra>",
         "legendgroup": "MACD",
         "line": {
          "color": "#FECB52",
          "dash": "solid"
         },
         "marker": {
          "symbol": "circle"
         },
         "mode": "lines",
         "name": "MACD",
         "orientation": "v",
         "showlegend": true,
         "type": "scatter",
         "x": [
          220,
          320,
          420,
          520,
          620,
          720,
          820,
          920,
          1376,
          2912
         ],
         "xaxis": "x",
         "y": [
          0.32098388671875,
          1.9774763584136963,
          4.085778713226318,
          1.3022820949554443,
          1.2104663848876953,
          1.3648650646209717,
          1.730835199356079,
          1.954941987991333,
          3.206801652908325,
          7.324543237686157
         ],
         "yaxis": "y"
        },
        {
         "hovertemplate": "Estrategia=Stochastic RSI<br>Data_Fim=%{x}<br>Tempo_Simulacao=%{y}<extra></extra>",
         "legendgroup": "Stochastic RSI",
         "line": {
          "color": "#636efa",
          "dash": "solid"
         },
         "marker": {
          "symbol": "circle"
         },
         "mode": "lines",
         "name": "Stochastic RSI",
         "orientation": "v",
         "showlegend": true,
         "type": "scatter",
         "x": [
          220,
          320,
          420,
          520,
          620,
          720,
          820,
          920,
          1376,
          2912
         ],
         "xaxis": "x",
         "y": [
          0.4583008289337158,
          3.94026255607605,
          6.206284046173096,
          2.2833874225616455,
          1.820143699645996,
          2.3179306983947754,
          2.581170082092285,
          2.9536142349243164,
          5.2525365352630615,
          11.770148277282715
         ],
         "yaxis": "y"
        },
        {
         "hovertemplate": "Estrategia=Williams %R<br>Data_Fim=%{x}<br>Tempo_Simulacao=%{y}<extra></extra>",
         "legendgroup": "Williams %R",
         "line": {
          "color": "#EF553B",
          "dash": "solid"
         },
         "marker": {
          "symbol": "circle"
         },
         "mode": "lines",
         "name": "Williams %R",
         "orientation": "v",
         "showlegend": true,
         "type": "scatter",
         "x": [
          220,
          320,
          420,
          520,
          620,
          720,
          820,
          920,
          1376,
          2912
         ],
         "xaxis": "x",
         "y": [
          0.37644267082214355,
          2.6444239616394043,
          4.17462158203125,
          1.2629175186157227,
          1.184950590133667,
          1.411388874053955,
          1.6611504554748535,
          1.8625445365905762,
          3.3770596981048584,
          7.848672151565552
         ],
         "yaxis": "y"
        },
        {
         "hovertemplate": "Estrategia=Accelerator Oscillator<br>Data_Fim=%{x}<br>Tempo_Simulacao=%{y}<extra></extra>",
         "legendgroup": "Accelerator Oscillator",
         "line": {
          "color": "#00cc96",
          "dash": "solid"
         },
         "marker": {
          "symbol": "circle"
         },
         "mode": "lines",
         "name": "Accelerator Oscillator",
         "orientation": "v",
         "showlegend": true,
         "type": "scatter",
         "x": [
          220,
          320,
          420,
          520,
          620,
          720,
          820,
          920,
          1376,
          2912
         ],
         "xaxis": "x",
         "y": [
          1.00770902633667,
          5.825204372406006,
          9.130509614944458,
          3.115081310272217,
          2.759469985961914,
          3.5728323459625244,
          3.8434293270111084,
          4.343117713928223,
          7.396390438079834,
          16.874468564987183
         ],
         "yaxis": "y"
        },
        {
         "hovertemplate": "Estrategia=ALMA<br>Data_Fim=%{x}<br>Tempo_Simulacao=%{y}<extra></extra>",
         "legendgroup": "ALMA",
         "line": {
          "color": "#ab63fa",
          "dash": "solid"
         },
         "marker": {
          "symbol": "circle"
         },
         "mode": "lines",
         "name": "ALMA",
         "orientation": "v",
         "showlegend": true,
         "type": "scatter",
         "x": [
          220,
          320,
          420,
          520,
          620,
          720,
          820,
          920,
          1376,
          2912
         ],
         "xaxis": "x",
         "y": [
          0.9212703704833984,
          5.245332479476929,
          8.764206171035767,
          2.966351270675659,
          3.341249704360962,
          4.351238012313843,
          5.648519515991211,
          6.835360288619995,
          16.51980686187744,
          63.007999420166016
         ],
         "yaxis": "y"
        },
        {
         "hovertemplate": "Estrategia=ALMA Cruzamento<br>Data_Fim=%{x}<br>Tempo_Simulacao=%{y}<extra></extra>",
         "legendgroup": "ALMA Cruzamento",
         "line": {
          "color": "#FFA15A",
          "dash": "solid"
         },
         "marker": {
          "symbol": "circle"
         },
         "mode": "lines",
         "name": "ALMA Cruzamento",
         "orientation": "v",
         "showlegend": true,
         "type": "scatter",
         "x": [
          220,
          320,
          420,
          520,
          620,
          720,
          820,
          920,
          1376,
          2912
         ],
         "xaxis": "x",
         "y": [
          1.6055428981781006,
          11.328886032104492,
          20.869710206985474,
          6.892978191375732,
          8.476582527160645,
          11.014621257781982,
          14.342461109161377,
          17.933265447616577,
          46.09766173362732,
          183.05313539505005
         ],
         "yaxis": "y"
        },
        {
         "hovertemplate": "Estrategia=Aroon Oscillator<br>Data_Fim=%{x}<br>Tempo_Simulacao=%{y}<extra></extra>",
         "legendgroup": "Aroon Oscillator",
         "line": {
          "color": "#19d3f3",
          "dash": "solid"
         },
         "marker": {
          "symbol": "circle"
         },
         "mode": "lines",
         "name": "Aroon Oscillator",
         "orientation": "v",
         "showlegend": true,
         "type": "scatter",
         "x": [
          220,
          320,
          420,
          520,
          620,
          720,
          820,
          920,
          1376,
          2912
         ],
         "xaxis": "x",
         "y": [
          0.40558505058288574,
          3.277252197265625,
          5.20020866394043,
          1.447486400604248,
          1.542358160018921,
          1.8645238876342773,
          2.213653326034546,
          2.5783345699310303,
          4.820066690444946,
          12.867446422576904
         ],
         "yaxis": "y"
        },
        {
         "hovertemplate": "Estrategia=Aroon Puro<br>Data_Fim=%{x}<br>Tempo_Simulacao=%{y}<extra></extra>",
         "legendgroup": "Aroon Puro",
         "line": {
          "color": "#FF6692",
          "dash": "solid"
         },
         "marker": {
          "symbol": "circle"
         },
         "mode": "lines",
         "name": "Aroon Puro",
         "orientation": "v",
         "showlegend": true,
         "type": "scatter",
         "x": [
          220,
          320,
          420,
          520,
          620,
          720,
          820,
          920,
          1376,
          2912
         ],
         "xaxis": "x",
         "y": [
          0.5158588886260986,
          4.056672096252441,
          6.411887884140015,
          1.920626163482666,
          1.940335750579834,
          2.430633306503296,
          2.848736047744751,
          3.2250468730926514,
          5.702670097351074,
          14.5659818649292
         ],
         "yaxis": "y"
        },
        {
         "hovertemplate": "Estrategia=ATR<br>Data_Fim=%{x}<br>Tempo_Simulacao=%{y}<extra></extra>",
         "legendgroup": "ATR",
         "line": {
          "color": "#B6E880",
          "dash": "solid"
         },
         "marker": {
          "symbol": "circle"
         },
         "mode": "lines",
         "name": "ATR",
         "orientation": "v",
         "showlegend": true,
         "type": "scatter",
         "x": [
          220,
          320,
          420,
          520,
          620,
          720,
          820,
          920,
          1376,
          2912
         ],
         "xaxis": "x",
         "y": [
          0.7681007385253906,
          4.326555967330933,
          6.621857643127441,
          1.8747313022613525,
          1.9436924457550049,
          2.39499568939209,
          2.8673601150512695,
          3.2393486499786377,
          5.439877986907959,
          11.853596448898315
         ],
         "yaxis": "y"
        },
        {
         "hovertemplate": "Estrategia=Awesome Oscillator<br>Data_Fim=%{x}<br>Tempo_Simulacao=%{y}<extra></extra>",
         "legendgroup": "Awesome Oscillator",
         "line": {
          "color": "#FF97FF",
          "dash": "solid"
         },
         "marker": {
          "symbol": "circle"
         },
         "mode": "lines",
         "name": "Awesome Oscillator",
         "orientation": "v",
         "showlegend": true,
         "type": "scatter",
         "x": [
          220,
          320,
          420,
          520,
          620,
          720,
          820,
          920,
          1376,
          2912
         ],
         "xaxis": "x",
         "y": [
          0.6078925132751465,
          3.5979321002960205,
          5.4064414501190186,
          1.6412353515625,
          1.6419196128845215,
          1.8369755744934082,
          2.206831216812134,
          2.545466661453247,
          4.23334002494812,
          9.660195589065552
         ],
         "yaxis": "y"
        },
        {
         "hovertemplate": "Estrategia=Chaikin Oscillator<br>Data_Fim=%{x}<br>Tempo_Simulacao=%{y}<extra></extra>",
         "legendgroup": "Chaikin Oscillator",
         "line": {
          "color": "#FECB52",
          "dash": "solid"
         },
         "marker": {
          "symbol": "circle"
         },
         "mode": "lines",
         "name": "Chaikin Oscillator",
         "orientation": "v",
         "showlegend": true,
         "type": "scatter",
         "x": [
          220,
          320,
          420,
          520,
          620,
          720,
          820,
          920,
          1376,
          2912
         ],
         "xaxis": "x",
         "y": [
          0.6339120864868164,
          3.2048721313476562,
          5.263010025024414,
          1.3771705627441406,
          1.405667781829834,
          1.8807783126831055,
          2.0206522941589355,
          2.36220121383667,
          4.0920045375823975,
          8.928932428359985
         ],
         "yaxis": "y"
        },
        {
         "hovertemplate": "Estrategia=Chande Momentum Oscillator<br>Data_Fim=%{x}<br>Tempo_Simulacao=%{y}<extra></extra>",
         "legendgroup": "Chande Momentum Oscillator",
         "line": {
          "color": "#636efa",
          "dash": "solid"
         },
         "marker": {
          "symbol": "circle"
         },
         "mode": "lines",
         "name": "Chande Momentum Oscillator",
         "orientation": "v",
         "showlegend": true,
         "type": "scatter",
         "x": [
          220,
          320,
          420,
          520,
          620,
          720,
          820,
          920,
          1376,
          2912
         ],
         "xaxis": "x",
         "y": [
          0.46225571632385254,
          3.1502938270568848,
          4.757925510406494,
          1.3641912937164307,
          1.45939040184021,
          1.6010916233062744,
          2.0036919116973877,
          2.1476686000823975,
          3.9705166816711426,
          8.290708541870117
         ],
         "yaxis": "y"
        },
        {
         "hovertemplate": "Estrategia=CMF<br>Data_Fim=%{x}<br>Tempo_Simulacao=%{y}<extra></extra>",
         "legendgroup": "CMF",
         "line": {
          "color": "#EF553B",
          "dash": "solid"
         },
         "marker": {
          "symbol": "circle"
         },
         "mode": "lines",
         "name": "CMF",
         "orientation": "v",
         "showlegend": true,
         "type": "scatter",
         "x": [
          220,
          320,
          420,
          520,
          620,
          720,
          820,
          920,
          1376,
          2912
         ],
         "xaxis": "x",
         "y": [
          0.36094045639038086,
          2.593384027481079,
          3.8999056816101074,
          1.041855812072754,
          1.084580421447754,
          1.3784871101379395,
          1.5352590084075928,
          1.8493146896362305,
          3.2001240253448486,
          6.729571342468262
         ],
         "yaxis": "y"
        },
        {
         "hovertemplate": "Estrategia=Detrended Price Oscillator<br>Data_Fim=%{x}<br>Tempo_Simulacao=%{y}<extra></extra>",
         "legendgroup": "Detrended Price Oscillator",
         "line": {
          "color": "#00cc96",
          "dash": "solid"
         },
         "marker": {
          "symbol": "circle"
         },
         "mode": "lines",
         "name": "Detrended Price Oscillator",
         "orientation": "v",
         "showlegend": true,
         "type": "scatter",
         "x": [
          220,
          320,
          420,
          520,
          620,
          720,
          820,
          920,
          1376,
          2912
         ],
         "xaxis": "x",
         "y": [
          0.25193357467651367,
          2.0394814014434814,
          2.942070245742798,
          0.7806062698364258,
          0.8343038558959961,
          0.9986796379089355,
          1.3009934425354004,
          1.3490936756134033,
          2.345205545425415,
          5.198829889297485
         ],
         "yaxis": "y"
        },
        {
         "hovertemplate": "Estrategia=Donchian Channel<br>Data_Fim=%{x}<br>Tempo_Simulacao=%{y}<extra></extra>",
         "legendgroup": "Donchian Channel",
         "line": {
          "color": "#ab63fa",
          "dash": "solid"
         },
         "marker": {
          "symbol": "circle"
         },
         "mode": "lines",
         "name": "Donchian Channel",
         "orientation": "v",
         "showlegend": true,
         "type": "scatter",
         "x": [
          220,
          320,
          420,
          520,
          620,
          720,
          820,
          920,
          1376,
          2912
         ],
         "xaxis": "x",
         "y": [
          0.35919618606567383,
          2.724956750869751,
          4.3430914878845215,
          1.124699354171753,
          1.310645580291748,
          1.4374606609344482,
          1.72308349609375,
          2.0461339950561523,
          3.5324339866638184,
          7.579879999160767
         ],
         "yaxis": "y"
        },
        {
         "hovertemplate": "Estrategia=Donchian Channels v2<br>Data_Fim=%{x}<br>Tempo_Simulacao=%{y}<extra></extra>",
         "legendgroup": "Donchian Channels v2",
         "line": {
          "color": "#FFA15A",
          "dash": "solid"
         },
         "marker": {
          "symbol": "circle"
         },
         "mode": "lines",
         "name": "Donchian Channels v2",
         "orientation": "v",
         "showlegend": true,
         "type": "scatter",
         "x": [
          220,
          320,
          420,
          520,
          620,
          720,
          820,
          920,
          1376,
          2912
         ],
         "xaxis": "x",
         "y": [
          0.44577693939208984,
          3.3706324100494385,
          5.063304424285889,
          1.5821418762207031,
          1.465498447418213,
          1.8912932872772217,
          2.187196969985962,
          2.3369359970092773,
          4.338764905929565,
          8.996338844299316
         ],
         "yaxis": "y"
        },
        {
         "hovertemplate": "Estrategia=Elder Force Index<br>Data_Fim=%{x}<br>Tempo_Simulacao=%{y}<extra></extra>",
         "legendgroup": "Elder Force Index",
         "line": {
          "color": "#19d3f3",
          "dash": "solid"
         },
         "marker": {
          "symbol": "circle"
         },
         "mode": "lines",
         "name": "Elder Force Index",
         "orientation": "v",
         "showlegend": true,
         "type": "scatter",
         "x": [
          220,
          320,
          420,
          520,
          620,
          720,
          820,
          920,
          1376,
          2912
         ],
         "xaxis": "x",
         "y": [
          0.2908515930175781,
          2.224050760269165,
          3.4482030868530273,
          0.8793721199035645,
          0.9175601005554199,
          1.1503422260284424,
          1.2841665744781494,
          1.5956895351409912,
          2.536242723464966,
          5.6400439739227295
         ],
         "yaxis": "y"
        },
        {
         "hovertemplate": "Estrategia=Elder Ray<br>Data_Fim=%{x}<br>Tempo_Simulacao=%{y}<extra></extra>",
         "legendgroup": "Elder Ray",
         "line": {
          "color": "#FF6692",
          "dash": "solid"
         },
         "marker": {
          "symbol": "circle"
         },
         "mode": "lines",
         "name": "Elder Ray",
         "orientation": "v",
         "showlegend": true,
         "type": "scatter",
         "x": [
          220,
          320,
          420,
          520,
          620,
          720,
          820,
          920,
          1376,
          2912
         ],
         "xaxis": "x",
         "y": [
          0.25388598442077637,
          2.1472103595733643,
          3.188474416732788,
          0.8713016510009766,
          0.949409008026123,
          1.1668059825897217,
          1.401108741760254,
          1.4282183647155762,
          2.6536619663238525,
          5.5912392139434814
         ],
         "yaxis": "y"
        },
        {
         "hovertemplate": "Estrategia=Force Index<br>Data_Fim=%{x}<br>Tempo_Simulacao=%{y}<extra></extra>",
         "legendgroup": "Force Index",
         "line": {
          "color": "#B6E880",
          "dash": "solid"
         },
         "marker": {
          "symbol": "circle"
         },
         "mode": "lines",
         "name": "Force Index",
         "orientation": "v",
         "showlegend": true,
         "type": "scatter",
         "x": [
          220,
          320,
          420,
          520,
          620,
          720,
          820,
          920,
          1376,
          2912
         ],
         "xaxis": "x",
         "y": [
          0.8199491500854492,
          2.4614861011505127,
          3.89882493019104,
          1.077897548675537,
          1.109428882598877,
          1.3104994297027588,
          1.5056073665618896,
          1.7930386066436768,
          3.0268256664276123,
          6.420870304107666
         ],
         "yaxis": "y"
        },
        {
         "hovertemplate": "Estrategia=Fractals<br>Data_Fim=%{x}<br>Tempo_Simulacao=%{y}<extra></extra>",
         "legendgroup": "Fractals",
         "line": {
          "color": "#FF97FF",
          "dash": "solid"
         },
         "marker": {
          "symbol": "circle"
         },
         "mode": "lines",
         "name": "Fractals",
         "orientation": "v",
         "showlegend": true,
         "type": "scatter",
         "x": [
          220,
          320,
          420,
          520,
          620,
          720,
          820,
          920,
          1376,
          2912
         ],
         "xaxis": "x",
         "y": [
          6.028826713562012,
          20.700387716293335,
          40.189579486846924,
          12.348758935928345,
          15.827629089355469,
          21.38654923439026,
          27.813555479049683,
          35.012089252471924,
          89.66803193092346,
          365.4487404823303
         ],
         "yaxis": "y"
        },
        {
         "hovertemplate": "Estrategia=GATOR OSCILLATOR<br>Data_Fim=%{x}<br>Tempo_Simulacao=%{y}<extra></extra>",
         "legendgroup": "GATOR OSCILLATOR",
         "line": {
          "color": "#FECB52",
          "dash": "solid"
         },
         "marker": {
          "symbol": "circle"
         },
         "mode": "lines",
         "name": "GATOR OSCILLATOR",
         "orientation": "v",
         "showlegend": true,
         "type": "scatter",
         "x": [
          220,
          320,
          420,
          520,
          620,
          720,
          820,
          920,
          1376,
          2912
         ],
         "xaxis": "x",
         "y": [
          1.282801866531372,
          3.5079779624938965,
          5.483955144882202,
          1.552022933959961,
          1.6085593700408936,
          1.9123389720916748,
          2.2630414962768555,
          2.7045304775238037,
          5.167157888412476,
          13.128511428833008
         ],
         "yaxis": "y"
        },
        {
         "hovertemplate": "Estrategia=HILBERT TRANSFORM<br>Data_Fim=%{x}<br>Tempo_Simulacao=%{y}<extra></extra>",
         "legendgroup": "HILBERT TRANSFORM",
         "line": {
          "color": "#636efa",
          "dash": "solid"
         },
         "marker": {
          "symbol": "circle"
         },
         "mode": "lines",
         "name": "HILBERT TRANSFORM",
         "orientation": "v",
         "showlegend": true,
         "type": "scatter",
         "x": [
          220,
          320,
          420,
          520,
          620,
          720,
          820,
          920,
          1376,
          2912
         ],
         "xaxis": "x",
         "y": [
          1.5885460376739502,
          4.210815191268921,
          6.424989461898804,
          1.872589349746704,
          1.9292516708374023,
          2.3302111625671387,
          2.7001781463623047,
          3.1943483352661133,
          5.353718042373657,
          11.578652143478394
         ],
         "yaxis": "y"
        },
        {
         "hovertemplate": "Estrategia=ICHIMOKU CLOUD<br>Data_Fim=%{x}<br>Tempo_Simulacao=%{y}<extra></extra>",
         "legendgroup": "ICHIMOKU CLOUD",
         "line": {
          "color": "#EF553B",
          "dash": "solid"
         },
         "marker": {
          "symbol": "circle"
         },
         "mode": "lines",
         "name": "ICHIMOKU CLOUD",
         "orientation": "v",
         "showlegend": true,
         "type": "scatter",
         "x": [
          220,
          320,
          420,
          520,
          620,
          720,
          820,
          920,
          1376,
          2912
         ],
         "xaxis": "x",
         "y": [
          1.9086370468139648,
          5.200092792510986,
          7.9252564907073975,
          2.221991539001465,
          2.3209171295166016,
          2.8418221473693848,
          3.3354055881500244,
          3.877758026123047,
          6.72122597694397,
          14.48589015007019
         ],
         "yaxis": "y"
        },
        {
         "hovertemplate": "Estrategia=KAMA<br>Data_Fim=%{x}<br>Tempo_Simulacao=%{y}<extra></extra>",
         "legendgroup": "KAMA",
         "line": {
          "color": "#00cc96",
          "dash": "solid"
         },
         "marker": {
          "symbol": "circle"
         },
         "mode": "lines",
         "name": "KAMA",
         "orientation": "v",
         "showlegend": true,
         "type": "scatter",
         "x": [
          220,
          320,
          420,
          520,
          620,
          720,
          820,
          920,
          1376,
          2912
         ],
         "xaxis": "x",
         "y": [
          9.630044937133789,
          34.89350152015686,
          63.843313694000244,
          23.985751628875732,
          26.69864273071289,
          36.76951265335083,
          47.90815210342407,
          59.456719160079956,
          154.46096634864807,
          644.9379916191101
         ],
         "yaxis": "y"
        },
        {
         "hovertemplate": "Estrategia=KELTNER CHANNEL<br>Data_Fim=%{x}<br>Tempo_Simulacao=%{y}<extra></extra>",
         "legendgroup": "KELTNER CHANNEL",
         "line": {
          "color": "#ab63fa",
          "dash": "solid"
         },
         "marker": {
          "symbol": "circle"
         },
         "mode": "lines",
         "name": "KELTNER CHANNEL",
         "orientation": "v",
         "showlegend": true,
         "type": "scatter",
         "x": [
          220,
          320,
          420,
          520,
          620,
          720,
          820,
          920,
          1376,
          2912
         ],
         "xaxis": "x",
         "y": [
          1.48921799659729,
          4.5012593269348145,
          6.417806148529053,
          1.7037980556488037,
          1.8759229183197021,
          3.5341854095458984,
          2.613999128341675,
          2.926004648208618,
          5.450611352920532,
          11.83266830444336
         ],
         "yaxis": "y"
        },
        {
         "hovertemplate": "Estrategia=KELTNER CHANNELS<br>Data_Fim=%{x}<br>Tempo_Simulacao=%{y}<extra></extra>",
         "legendgroup": "KELTNER CHANNELS",
         "line": {
          "color": "#FFA15A",
          "dash": "solid"
         },
         "marker": {
          "symbol": "circle"
         },
         "mode": "lines",
         "name": "KELTNER CHANNELS",
         "orientation": "v",
         "showlegend": true,
         "type": "scatter",
         "x": [
          220,
          320,
          420,
          520,
          620,
          720,
          820,
          920,
          1376,
          2912
         ],
         "xaxis": "x",
         "y": [
          1.4819626808166504,
          4.206947088241577,
          6.223043203353882,
          1.5552477836608887,
          1.9259111881256104,
          2.179313898086548,
          2.6900973320007324,
          2.9927122592926025,
          5.231110334396362,
          11.050981044769287
         ],
         "yaxis": "y"
        },
        {
         "hovertemplate": "Estrategia=MARKET FACILITATION INDEX<br>Data_Fim=%{x}<br>Tempo_Simulacao=%{y}<extra></extra>",
         "legendgroup": "MARKET FACILITATION INDEX",
         "line": {
          "color": "#19d3f3",
          "dash": "solid"
         },
         "marker": {
          "symbol": "circle"
         },
         "mode": "lines",
         "name": "MARKET FACILITATION INDEX",
         "orientation": "v",
         "showlegend": true,
         "type": "scatter",
         "x": [
          220,
          320,
          420,
          520,
          620,
          720,
          820,
          920,
          1376,
          2912
         ],
         "xaxis": "x",
         "y": [
          1.6741275787353516,
          4.650096893310547,
          7.16251540184021,
          2.006866931915283,
          2.0425617694854736,
          2.60368275642395,
          3.0326499938964844,
          3.42537260055542,
          5.88565468788147,
          12.486780166625977
         ],
         "yaxis": "y"
        },
        {
         "hovertemplate": "Estrategia=MFI<br>Data_Fim=%{x}<br>Tempo_Simulacao=%{y}<extra></extra>",
         "legendgroup": "MFI",
         "line": {
          "color": "#FF6692",
          "dash": "solid"
         },
         "marker": {
          "symbol": "circle"
         },
         "mode": "lines",
         "name": "MFI",
         "orientation": "v",
         "showlegend": true,
         "type": "scatter",
         "x": [
          220,
          320,
          420,
          520,
          620,
          720,
          820,
          920,
          1376,
          2912
         ],
         "xaxis": "x",
         "y": [
          1.3194825649261475,
          3.6763315200805664,
          5.567672967910767,
          1.682765007019043,
          1.6935741901397705,
          2.051539182662964,
          2.3706326484680176,
          2.6490559577941895,
          4.451107025146484,
          10.01076889038086
         ],
         "yaxis": "y"
        },
        {
         "hovertemplate": "Estrategia=HULL MOVING AVERAGE<br>Data_Fim=%{x}<br>Tempo_Simulacao=%{y}<extra></extra>",
         "legendgroup": "HULL MOVING AVERAGE",
         "line": {
          "color": "#B6E880",
          "dash": "solid"
         },
         "marker": {
          "symbol": "circle"
         },
         "mode": "lines",
         "name": "HULL MOVING AVERAGE",
         "orientation": "v",
         "showlegend": true,
         "type": "scatter",
         "x": [
          220,
          320,
          420,
          520,
          620,
          720,
          820,
          920,
          1376,
          2912
         ],
         "xaxis": "x",
         "y": [
          1.8558707237243652,
          5.954952239990234,
          9.781112909317017,
          3.5833723545074463,
          3.9208672046661377,
          4.896367788314819,
          6.24862265586853,
          7.515670537948608,
          18.288692474365234,
          67.60815572738647
         ],
         "yaxis": "y"
        },
        {
         "hovertemplate": "Estrategia=Moving Average Envelope<br>Data_Fim=%{x}<br>Tempo_Simulacao=%{y}<extra></extra>",
         "legendgroup": "Moving Average Envelope",
         "line": {
          "color": "#FF97FF",
          "dash": "solid"
         },
         "marker": {
          "symbol": "circle"
         },
         "mode": "lines",
         "name": "Moving Average Envelope",
         "orientation": "v",
         "showlegend": true,
         "type": "scatter",
         "x": [
          220,
          320,
          420,
          520,
          620,
          720,
          820,
          920,
          1376,
          2912
         ],
         "xaxis": "x",
         "y": [
          1.2079575061798096,
          3.431509017944336,
          5.174260854721069,
          1.500284194946289,
          1.521772861480713,
          1.818211317062378,
          2.1343958377838135,
          2.4240636825561523,
          4.47090744972229,
          9.781052112579346
         ],
         "yaxis": "y"
        },
        {
         "hovertemplate": "Estrategia=OBV<br>Data_Fim=%{x}<br>Tempo_Simulacao=%{y}<extra></extra>",
         "legendgroup": "OBV",
         "line": {
          "color": "#FECB52",
          "dash": "solid"
         },
         "marker": {
          "symbol": "circle"
         },
         "mode": "lines",
         "name": "OBV",
         "orientation": "v",
         "showlegend": true,
         "type": "scatter",
         "x": [
          220,
          320,
          420,
          520,
          620,
          720,
          820,
          920,
          1376,
          2912
         ],
         "xaxis": "x",
         "y": [
          9.699506998062134,
          36.348966121673584,
          63.67780113220215,
          19.48373293876648,
          26.401635885238647,
          37.0493745803833,
          46.71612548828125,
          58.25319027900696,
          151.67036271095276,
          620.3246426582336
         ],
         "yaxis": "y"
        },
        {
         "hovertemplate": "Estrategia=Pivot Points<br>Data_Fim=%{x}<br>Tempo_Simulacao=%{y}<extra></extra>",
         "legendgroup": "Pivot Points",
         "line": {
          "color": "#636efa",
          "dash": "solid"
         },
         "marker": {
          "symbol": "circle"
         },
         "mode": "lines",
         "name": "Pivot Points",
         "orientation": "v",
         "showlegend": true,
         "type": "scatter",
         "x": [
          220,
          320,
          420,
          520,
          620,
          720,
          820,
          920,
          1376,
          2912
         ],
         "xaxis": "x",
         "y": [
          2.327369451522827,
          16.862343549728394,
          10.165132284164429,
          2.379035711288452,
          2.9534106254577637,
          3.663858652114868,
          4.11432957649231,
          4.76286768913269,
          8.509138584136963,
          18.107932090759277
         ],
         "yaxis": "y"
        },
        {
         "hovertemplate": "Estrategia=PPO<br>Data_Fim=%{x}<br>Tempo_Simulacao=%{y}<extra></extra>",
         "legendgroup": "PPO",
         "line": {
          "color": "#EF553B",
          "dash": "solid"
         },
         "marker": {
          "symbol": "circle"
         },
         "mode": "lines",
         "name": "PPO",
         "orientation": "v",
         "showlegend": true,
         "type": "scatter",
         "x": [
          220,
          320,
          420,
          520,
          620,
          720,
          820,
          920,
          1376,
          2912
         ],
         "xaxis": "x",
         "y": [
          1.6003024578094482,
          8.618464946746826,
          6.597836256027222,
          1.6618165969848633,
          2.103839159011841,
          2.3366754055023193,
          2.720053195953369,
          3.168307065963745,
          5.688807010650635,
          12.438306331634521
         ],
         "yaxis": "y"
        },
        {
         "hovertemplate": "Estrategia=Price Channels<br>Data_Fim=%{x}<br>Tempo_Simulacao=%{y}<extra></extra>",
         "legendgroup": "Price Channels",
         "line": {
          "color": "#00cc96",
          "dash": "solid"
         },
         "marker": {
          "symbol": "circle"
         },
         "mode": "lines",
         "name": "Price Channels",
         "orientation": "v",
         "showlegend": true,
         "type": "scatter",
         "x": [
          220,
          320,
          420,
          520,
          620,
          720,
          820,
          920,
          1376,
          2912
         ],
         "xaxis": "x",
         "y": [
          1.5900194644927979,
          7.277827978134155,
          7.031243085861206,
          1.6220533847808838,
          2.064490795135498,
          2.597747564315796,
          2.948934555053711,
          3.3513107299804688,
          5.829344987869263,
          12.78400206565857
         ],
         "yaxis": "y"
        },
        {
         "hovertemplate": "Estrategia=ROC<br>Data_Fim=%{x}<br>Tempo_Simulacao=%{y}<extra></extra>",
         "legendgroup": "ROC",
         "line": {
          "color": "#ab63fa",
          "dash": "solid"
         },
         "marker": {
          "symbol": "circle"
         },
         "mode": "lines",
         "name": "ROC",
         "orientation": "v",
         "showlegend": true,
         "type": "scatter",
         "x": [
          220,
          320,
          420,
          520,
          620,
          720,
          820,
          920,
          1376,
          2912
         ],
         "xaxis": "x",
         "y": [
          1.2352607250213623,
          6.053815841674805,
          2.1634140014648438,
          1.3981616497039795,
          1.6635782718658447,
          2.073775053024292,
          2.4058592319488525,
          2.562171697616577,
          4.554059743881226,
          10.337246417999268
         ],
         "yaxis": "y"
        },
        {
         "hovertemplate": "Estrategia=Schaff Trend Cycle<br>Data_Fim=%{x}<br>Tempo_Simulacao=%{y}<extra></extra>",
         "legendgroup": "Schaff Trend Cycle",
         "line": {
          "color": "#FFA15A",
          "dash": "solid"
         },
         "marker": {
          "symbol": "circle"
         },
         "mode": "lines",
         "name": "Schaff Trend Cycle",
         "orientation": "v",
         "showlegend": true,
         "type": "scatter",
         "x": [
          220,
          320,
          420,
          520,
          620,
          720,
          820,
          920,
          1376,
          2912
         ],
         "xaxis": "x",
         "y": [
          1.8051762580871582,
          7.92643141746521,
          2.7446305751800537,
          1.8327581882476807,
          2.354407787322998,
          2.7334959506988525,
          3.2291314601898193,
          3.732872247695923,
          6.541805982589722,
          13.848607301712036
         ],
         "yaxis": "y"
        },
        {
         "hovertemplate": "Estrategia=T3 Moving Average<br>Data_Fim=%{x}<br>Tempo_Simulacao=%{y}<extra></extra>",
         "legendgroup": "T3 Moving Average",
         "line": {
          "color": "#19d3f3",
          "dash": "solid"
         },
         "marker": {
          "symbol": "circle"
         },
         "mode": "lines",
         "name": "T3 Moving Average",
         "orientation": "v",
         "showlegend": true,
         "type": "scatter",
         "x": [
          220,
          320,
          420,
          520,
          620,
          720,
          820,
          920,
          1376,
          2912
         ],
         "xaxis": "x",
         "y": [
          null,
          null,
          null,
          null,
          null,
          null,
          null,
          null,
          null,
          null
         ],
         "yaxis": "y"
        },
        {
         "hovertemplate": "Estrategia=TEMA<br>Data_Fim=%{x}<br>Tempo_Simulacao=%{y}<extra></extra>",
         "legendgroup": "TEMA",
         "line": {
          "color": "#FF6692",
          "dash": "solid"
         },
         "marker": {
          "symbol": "circle"
         },
         "mode": "lines",
         "name": "TEMA",
         "orientation": "v",
         "showlegend": true,
         "type": "scatter",
         "x": [
          220,
          320,
          420,
          520,
          620,
          720,
          820,
          920,
          1376,
          2912
         ],
         "xaxis": "x",
         "y": [
          null,
          null,
          null,
          null,
          null,
          null,
          null,
          null,
          null,
          null
         ],
         "yaxis": "y"
        },
        {
         "hovertemplate": "Estrategia=Triangular Moving Average<br>Data_Fim=%{x}<br>Tempo_Simulacao=%{y}<extra></extra>",
         "legendgroup": "Triangular Moving Average",
         "line": {
          "color": "#B6E880",
          "dash": "solid"
         },
         "marker": {
          "symbol": "circle"
         },
         "mode": "lines",
         "name": "Triangular Moving Average",
         "orientation": "v",
         "showlegend": true,
         "type": "scatter",
         "x": [
          220,
          320,
          420,
          520,
          620,
          720,
          820,
          920,
          1376,
          2912
         ],
         "xaxis": "x",
         "y": [
          1.1464893817901611,
          4.9974470138549805,
          1.6656172275543213,
          1.2419037818908691,
          1.4043385982513428,
          1.6771552562713623,
          1.979954481124878,
          2.393918037414551,
          4.268529415130615,
          8.771178722381592
         ],
         "yaxis": "y"
        },
        {
         "hovertemplate": "Estrategia=True Strength Index<br>Data_Fim=%{x}<br>Tempo_Simulacao=%{y}<extra></extra>",
         "legendgroup": "True Strength Index",
         "line": {
          "color": "#FF97FF",
          "dash": "solid"
         },
         "marker": {
          "symbol": "circle"
         },
         "mode": "lines",
         "name": "True Strength Index",
         "orientation": "v",
         "showlegend": true,
         "type": "scatter",
         "x": [
          220,
          320,
          420,
          520,
          620,
          720,
          820,
          920,
          1376,
          2912
         ],
         "xaxis": "x",
         "y": [
          null,
          null,
          null,
          null,
          null,
          null,
          null,
          null,
          null,
          null
         ],
         "yaxis": "y"
        },
        {
         "hovertemplate": "Estrategia=Ultimate Oscillator<br>Data_Fim=%{x}<br>Tempo_Simulacao=%{y}<extra></extra>",
         "legendgroup": "Ultimate Oscillator",
         "line": {
          "color": "#FECB52",
          "dash": "solid"
         },
         "marker": {
          "symbol": "circle"
         },
         "mode": "lines",
         "name": "Ultimate Oscillator",
         "orientation": "v",
         "showlegend": true,
         "type": "scatter",
         "x": [
          220,
          320,
          420,
          520,
          620,
          720,
          820,
          920,
          1376,
          2912
         ],
         "xaxis": "x",
         "y": [
          2.8039968013763428,
          11.768222093582153,
          4.663069725036621,
          4.03119158744812,
          5.434677362442017,
          7.1251609325408936,
          8.748297214508057,
          10.728111505508423,
          25.774983882904053,
          97.91811180114746
         ],
         "yaxis": "y"
        },
        {
         "hovertemplate": "Estrategia=VIDYA<br>Data_Fim=%{x}<br>Tempo_Simulacao=%{y}<extra></extra>",
         "legendgroup": "VIDYA",
         "line": {
          "color": "#636efa",
          "dash": "solid"
         },
         "marker": {
          "symbol": "circle"
         },
         "mode": "lines",
         "name": "VIDYA",
         "orientation": "v",
         "showlegend": true,
         "type": "scatter",
         "x": [
          220,
          320,
          420,
          520,
          620,
          720,
          820,
          920,
          1376,
          2912
         ],
         "xaxis": "x",
         "y": [
          3.0353400707244873,
          11.567680358886719,
          5.30122447013855,
          4.675121307373047,
          6.36874794960022,
          10.847721815109253,
          10.444534301757812,
          13.098454475402832,
          32.49520421028137,
          120.48515629768372
         ],
         "yaxis": "y"
        },
        {
         "hovertemplate": "Estrategia=Volume Weighted Average Price VWAP<br>Data_Fim=%{x}<br>Tempo_Simulacao=%{y}<extra></extra>",
         "legendgroup": "Volume Weighted Average Price VWAP",
         "line": {
          "color": "#EF553B",
          "dash": "solid"
         },
         "marker": {
          "symbol": "circle"
         },
         "mode": "lines",
         "name": "Volume Weighted Average Price VWAP",
         "orientation": "v",
         "showlegend": true,
         "type": "scatter",
         "x": [
          220,
          320,
          420,
          520,
          620,
          720,
          820,
          920,
          1376,
          2912
         ],
         "xaxis": "x",
         "y": [
          1.394188642501831,
          4.116917133331299,
          1.8686392307281494,
          1.33194899559021,
          1.6522443294525146,
          2.7505297660827637,
          2.3068506717681885,
          2.761591672897339,
          4.828879117965698,
          10.254934549331665
         ],
         "yaxis": "y"
        },
        {
         "hovertemplate": "Estrategia=Williams Alligator<br>Data_Fim=%{x}<br>Tempo_Simulacao=%{y}<extra></extra>",
         "legendgroup": "Williams Alligator",
         "line": {
          "color": "#00cc96",
          "dash": "solid"
         },
         "marker": {
          "symbol": "circle"
         },
         "mode": "lines",
         "name": "Williams Alligator",
         "orientation": "v",
         "showlegend": true,
         "type": "scatter",
         "x": [
          220,
          320,
          420,
          520,
          620,
          720,
          820,
          920,
          1376,
          2912
         ],
         "xaxis": "x",
         "y": [
          1.0428462028503418,
          3.2141475677490234,
          1.4454097747802734,
          1.0383985042572021,
          1.350177526473999,
          2.5054562091827393,
          2.003037929534912,
          2.4188618659973145,
          4.206615209579468,
          10.82693076133728
         ],
         "yaxis": "y"
        },
        {
         "hovertemplate": "Estrategia=WMA<br>Data_Fim=%{x}<br>Tempo_Simulacao=%{y}<extra></extra>",
         "legendgroup": "WMA",
         "line": {
          "color": "#ab63fa",
          "dash": "solid"
         },
         "marker": {
          "symbol": "circle"
         },
         "mode": "lines",
         "name": "WMA",
         "orientation": "v",
         "showlegend": true,
         "type": "scatter",
         "x": [
          220,
          320,
          420,
          520,
          620,
          720,
          820,
          920,
          1376,
          2912
         ],
         "xaxis": "x",
         "y": [
          2.050215482711792,
          6.799259901046753,
          4.005711317062378,
          3.202141523361206,
          4.38001823425293,
          7.284852027893066,
          7.202822923660278,
          8.97218918800354,
          21.806629419326782,
          86.12275576591492
         ],
         "yaxis": "y"
        },
        {
         "hovertemplate": "Estrategia=Zero Lag Moving Average<br>Data_Fim=%{x}<br>Tempo_Simulacao=%{y}<extra></extra>",
         "legendgroup": "Zero Lag Moving Average",
         "line": {
          "color": "#FFA15A",
          "dash": "solid"
         },
         "marker": {
          "symbol": "circle"
         },
         "mode": "lines",
         "name": "Zero Lag Moving Average",
         "orientation": "v",
         "showlegend": true,
         "type": "scatter",
         "x": [
          220,
          320,
          420,
          520,
          620,
          720,
          820,
          920,
          1376,
          2912
         ],
         "xaxis": "x",
         "y": [
          0.8188447952270508,
          2.2289910316467285,
          1.127915620803833,
          0.760286808013916,
          0.94234299659729,
          1.4668669700622559,
          1.3233914375305176,
          1.5150401592254639,
          2.6037168502807617,
          6.146200895309448
         ],
         "yaxis": "y"
        }
       ],
       "layout": {
        "legend": {
         "title": {
          "text": "Estrategia"
         },
         "tracegroupgap": 0
        },
        "template": {
         "data": {
          "bar": [
           {
            "error_x": {
             "color": "#2a3f5f"
            },
            "error_y": {
             "color": "#2a3f5f"
            },
            "marker": {
             "line": {
              "color": "#E5ECF6",
              "width": 0.5
             },
             "pattern": {
              "fillmode": "overlay",
              "size": 10,
              "solidity": 0.2
             }
            },
            "type": "bar"
           }
          ],
          "barpolar": [
           {
            "marker": {
             "line": {
              "color": "#E5ECF6",
              "width": 0.5
             },
             "pattern": {
              "fillmode": "overlay",
              "size": 10,
              "solidity": 0.2
             }
            },
            "type": "barpolar"
           }
          ],
          "carpet": [
           {
            "aaxis": {
             "endlinecolor": "#2a3f5f",
             "gridcolor": "white",
             "linecolor": "white",
             "minorgridcolor": "white",
             "startlinecolor": "#2a3f5f"
            },
            "baxis": {
             "endlinecolor": "#2a3f5f",
             "gridcolor": "white",
             "linecolor": "white",
             "minorgridcolor": "white",
             "startlinecolor": "#2a3f5f"
            },
            "type": "carpet"
           }
          ],
          "choropleth": [
           {
            "colorbar": {
             "outlinewidth": 0,
             "ticks": ""
            },
            "type": "choropleth"
           }
          ],
          "contour": [
           {
            "colorbar": {
             "outlinewidth": 0,
             "ticks": ""
            },
            "colorscale": [
             [
              0,
              "#0d0887"
             ],
             [
              0.1111111111111111,
              "#46039f"
             ],
             [
              0.2222222222222222,
              "#7201a8"
             ],
             [
              0.3333333333333333,
              "#9c179e"
             ],
             [
              0.4444444444444444,
              "#bd3786"
             ],
             [
              0.5555555555555556,
              "#d8576b"
             ],
             [
              0.6666666666666666,
              "#ed7953"
             ],
             [
              0.7777777777777778,
              "#fb9f3a"
             ],
             [
              0.8888888888888888,
              "#fdca26"
             ],
             [
              1,
              "#f0f921"
             ]
            ],
            "type": "contour"
           }
          ],
          "contourcarpet": [
           {
            "colorbar": {
             "outlinewidth": 0,
             "ticks": ""
            },
            "type": "contourcarpet"
           }
          ],
          "heatmap": [
           {
            "colorbar": {
             "outlinewidth": 0,
             "ticks": ""
            },
            "colorscale": [
             [
              0,
              "#0d0887"
             ],
             [
              0.1111111111111111,
              "#46039f"
             ],
             [
              0.2222222222222222,
              "#7201a8"
             ],
             [
              0.3333333333333333,
              "#9c179e"
             ],
             [
              0.4444444444444444,
              "#bd3786"
             ],
             [
              0.5555555555555556,
              "#d8576b"
             ],
             [
              0.6666666666666666,
              "#ed7953"
             ],
             [
              0.7777777777777778,
              "#fb9f3a"
             ],
             [
              0.8888888888888888,
              "#fdca26"
             ],
             [
              1,
              "#f0f921"
             ]
            ],
            "type": "heatmap"
           }
          ],
          "heatmapgl": [
           {
            "colorbar": {
             "outlinewidth": 0,
             "ticks": ""
            },
            "colorscale": [
             [
              0,
              "#0d0887"
             ],
             [
              0.1111111111111111,
              "#46039f"
             ],
             [
              0.2222222222222222,
              "#7201a8"
             ],
             [
              0.3333333333333333,
              "#9c179e"
             ],
             [
              0.4444444444444444,
              "#bd3786"
             ],
             [
              0.5555555555555556,
              "#d8576b"
             ],
             [
              0.6666666666666666,
              "#ed7953"
             ],
             [
              0.7777777777777778,
              "#fb9f3a"
             ],
             [
              0.8888888888888888,
              "#fdca26"
             ],
             [
              1,
              "#f0f921"
             ]
            ],
            "type": "heatmapgl"
           }
          ],
          "histogram": [
           {
            "marker": {
             "pattern": {
              "fillmode": "overlay",
              "size": 10,
              "solidity": 0.2
             }
            },
            "type": "histogram"
           }
          ],
          "histogram2d": [
           {
            "colorbar": {
             "outlinewidth": 0,
             "ticks": ""
            },
            "colorscale": [
             [
              0,
              "#0d0887"
             ],
             [
              0.1111111111111111,
              "#46039f"
             ],
             [
              0.2222222222222222,
              "#7201a8"
             ],
             [
              0.3333333333333333,
              "#9c179e"
             ],
             [
              0.4444444444444444,
              "#bd3786"
             ],
             [
              0.5555555555555556,
              "#d8576b"
             ],
             [
              0.6666666666666666,
              "#ed7953"
             ],
             [
              0.7777777777777778,
              "#fb9f3a"
             ],
             [
              0.8888888888888888,
              "#fdca26"
             ],
             [
              1,
              "#f0f921"
             ]
            ],
            "type": "histogram2d"
           }
          ],
          "histogram2dcontour": [
           {
            "colorbar": {
             "outlinewidth": 0,
             "ticks": ""
            },
            "colorscale": [
             [
              0,
              "#0d0887"
             ],
             [
              0.1111111111111111,
              "#46039f"
             ],
             [
              0.2222222222222222,
              "#7201a8"
             ],
             [
              0.3333333333333333,
              "#9c179e"
             ],
             [
              0.4444444444444444,
              "#bd3786"
             ],
             [
              0.5555555555555556,
              "#d8576b"
             ],
             [
              0.6666666666666666,
              "#ed7953"
             ],
             [
              0.7777777777777778,
              "#fb9f3a"
             ],
             [
              0.8888888888888888,
              "#fdca26"
             ],
             [
              1,
              "#f0f921"
             ]
            ],
            "type": "histogram2dcontour"
           }
          ],
          "mesh3d": [
           {
            "colorbar": {
             "outlinewidth": 0,
             "ticks": ""
            },
            "type": "mesh3d"
           }
          ],
          "parcoords": [
           {
            "line": {
             "colorbar": {
              "outlinewidth": 0,
              "ticks": ""
             }
            },
            "type": "parcoords"
           }
          ],
          "pie": [
           {
            "automargin": true,
            "type": "pie"
           }
          ],
          "scatter": [
           {
            "fillpattern": {
             "fillmode": "overlay",
             "size": 10,
             "solidity": 0.2
            },
            "type": "scatter"
           }
          ],
          "scatter3d": [
           {
            "line": {
             "colorbar": {
              "outlinewidth": 0,
              "ticks": ""
             }
            },
            "marker": {
             "colorbar": {
              "outlinewidth": 0,
              "ticks": ""
             }
            },
            "type": "scatter3d"
           }
          ],
          "scattercarpet": [
           {
            "marker": {
             "colorbar": {
              "outlinewidth": 0,
              "ticks": ""
             }
            },
            "type": "scattercarpet"
           }
          ],
          "scattergeo": [
           {
            "marker": {
             "colorbar": {
              "outlinewidth": 0,
              "ticks": ""
             }
            },
            "type": "scattergeo"
           }
          ],
          "scattergl": [
           {
            "marker": {
             "colorbar": {
              "outlinewidth": 0,
              "ticks": ""
             }
            },
            "type": "scattergl"
           }
          ],
          "scattermapbox": [
           {
            "marker": {
             "colorbar": {
              "outlinewidth": 0,
              "ticks": ""
             }
            },
            "type": "scattermapbox"
           }
          ],
          "scatterpolar": [
           {
            "marker": {
             "colorbar": {
              "outlinewidth": 0,
              "ticks": ""
             }
            },
            "type": "scatterpolar"
           }
          ],
          "scatterpolargl": [
           {
            "marker": {
             "colorbar": {
              "outlinewidth": 0,
              "ticks": ""
             }
            },
            "type": "scatterpolargl"
           }
          ],
          "scatterternary": [
           {
            "marker": {
             "colorbar": {
              "outlinewidth": 0,
              "ticks": ""
             }
            },
            "type": "scatterternary"
           }
          ],
          "surface": [
           {
            "colorbar": {
             "outlinewidth": 0,
             "ticks": ""
            },
            "colorscale": [
             [
              0,
              "#0d0887"
             ],
             [
              0.1111111111111111,
              "#46039f"
             ],
             [
              0.2222222222222222,
              "#7201a8"
             ],
             [
              0.3333333333333333,
              "#9c179e"
             ],
             [
              0.4444444444444444,
              "#bd3786"
             ],
             [
              0.5555555555555556,
              "#d8576b"
             ],
             [
              0.6666666666666666,
              "#ed7953"
             ],
             [
              0.7777777777777778,
              "#fb9f3a"
             ],
             [
              0.8888888888888888,
              "#fdca26"
             ],
             [
              1,
              "#f0f921"
             ]
            ],
            "type": "surface"
           }
          ],
          "table": [
           {
            "cells": {
             "fill": {
              "color": "#EBF0F8"
             },
             "line": {
              "color": "white"
             }
            },
            "header": {
             "fill": {
              "color": "#C8D4E3"
             },
             "line": {
              "color": "white"
             }
            },
            "type": "table"
           }
          ]
         },
         "layout": {
          "annotationdefaults": {
           "arrowcolor": "#2a3f5f",
           "arrowhead": 0,
           "arrowwidth": 1
          },
          "autotypenumbers": "strict",
          "coloraxis": {
           "colorbar": {
            "outlinewidth": 0,
            "ticks": ""
           }
          },
          "colorscale": {
           "diverging": [
            [
             0,
             "#8e0152"
            ],
            [
             0.1,
             "#c51b7d"
            ],
            [
             0.2,
             "#de77ae"
            ],
            [
             0.3,
             "#f1b6da"
            ],
            [
             0.4,
             "#fde0ef"
            ],
            [
             0.5,
             "#f7f7f7"
            ],
            [
             0.6,
             "#e6f5d0"
            ],
            [
             0.7,
             "#b8e186"
            ],
            [
             0.8,
             "#7fbc41"
            ],
            [
             0.9,
             "#4d9221"
            ],
            [
             1,
             "#276419"
            ]
           ],
           "sequential": [
            [
             0,
             "#0d0887"
            ],
            [
             0.1111111111111111,
             "#46039f"
            ],
            [
             0.2222222222222222,
             "#7201a8"
            ],
            [
             0.3333333333333333,
             "#9c179e"
            ],
            [
             0.4444444444444444,
             "#bd3786"
            ],
            [
             0.5555555555555556,
             "#d8576b"
            ],
            [
             0.6666666666666666,
             "#ed7953"
            ],
            [
             0.7777777777777778,
             "#fb9f3a"
            ],
            [
             0.8888888888888888,
             "#fdca26"
            ],
            [
             1,
             "#f0f921"
            ]
           ],
           "sequentialminus": [
            [
             0,
             "#0d0887"
            ],
            [
             0.1111111111111111,
             "#46039f"
            ],
            [
             0.2222222222222222,
             "#7201a8"
            ],
            [
             0.3333333333333333,
             "#9c179e"
            ],
            [
             0.4444444444444444,
             "#bd3786"
            ],
            [
             0.5555555555555556,
             "#d8576b"
            ],
            [
             0.6666666666666666,
             "#ed7953"
            ],
            [
             0.7777777777777778,
             "#fb9f3a"
            ],
            [
             0.8888888888888888,
             "#fdca26"
            ],
            [
             1,
             "#f0f921"
            ]
           ]
          },
          "colorway": [
           "#636efa",
           "#EF553B",
           "#00cc96",
           "#ab63fa",
           "#FFA15A",
           "#19d3f3",
           "#FF6692",
           "#B6E880",
           "#FF97FF",
           "#FECB52"
          ],
          "font": {
           "color": "#2a3f5f"
          },
          "geo": {
           "bgcolor": "white",
           "lakecolor": "white",
           "landcolor": "#E5ECF6",
           "showlakes": true,
           "showland": true,
           "subunitcolor": "white"
          },
          "hoverlabel": {
           "align": "left"
          },
          "hovermode": "closest",
          "mapbox": {
           "style": "light"
          },
          "paper_bgcolor": "white",
          "plot_bgcolor": "#E5ECF6",
          "polar": {
           "angularaxis": {
            "gridcolor": "white",
            "linecolor": "white",
            "ticks": ""
           },
           "bgcolor": "#E5ECF6",
           "radialaxis": {
            "gridcolor": "white",
            "linecolor": "white",
            "ticks": ""
           }
          },
          "scene": {
           "xaxis": {
            "backgroundcolor": "#E5ECF6",
            "gridcolor": "white",
            "gridwidth": 2,
            "linecolor": "white",
            "showbackground": true,
            "ticks": "",
            "zerolinecolor": "white"
           },
           "yaxis": {
            "backgroundcolor": "#E5ECF6",
            "gridcolor": "white",
            "gridwidth": 2,
            "linecolor": "white",
            "showbackground": true,
            "ticks": "",
            "zerolinecolor": "white"
           },
           "zaxis": {
            "backgroundcolor": "#E5ECF6",
            "gridcolor": "white",
            "gridwidth": 2,
            "linecolor": "white",
            "showbackground": true,
            "ticks": "",
            "zerolinecolor": "white"
           }
          },
          "shapedefaults": {
           "line": {
            "color": "#2a3f5f"
           }
          },
          "ternary": {
           "aaxis": {
            "gridcolor": "white",
            "linecolor": "white",
            "ticks": ""
           },
           "baxis": {
            "gridcolor": "white",
            "linecolor": "white",
            "ticks": ""
           },
           "bgcolor": "#E5ECF6",
           "caxis": {
            "gridcolor": "white",
            "linecolor": "white",
            "ticks": ""
           }
          },
          "title": {
           "x": 0.05
          },
          "xaxis": {
           "automargin": true,
           "gridcolor": "white",
           "linecolor": "white",
           "ticks": "",
           "title": {
            "standoff": 15
           },
           "zerolinecolor": "white",
           "zerolinewidth": 2
          },
          "yaxis": {
           "automargin": true,
           "gridcolor": "white",
           "linecolor": "white",
           "ticks": "",
           "title": {
            "standoff": 15
           },
           "zerolinecolor": "white",
           "zerolinewidth": 2
          }
         }
        },
        "title": {
         "text": "Dispersão e Linhas por Estratégia"
        },
        "xaxis": {
         "anchor": "y",
         "domain": [
          0,
          1
         ],
         "title": {
          "text": "Data Fim"
         }
        },
        "yaxis": {
         "anchor": "x",
         "domain": [
          0,
          1
         ],
         "title": {
          "text": "Tempo de Simulação"
         }
        }
       }
      }
     },
     "metadata": {},
     "output_type": "display_data"
    }
   ],
   "source": [
    "import plotly.express as px\n",
    "fig = px.scatter(df, \n",
    "                 y=\"Tempo_Simulacao\", \n",
    "                 x=\"Data_Fim\", \n",
    "                 color=\"Estrategia\",\n",
    "                 title=\"Dispersão e Linhas por Estratégia\",\n",
    "                 labels={\"Tempo_Simulacao\": \"Tempo de Simulação\", \"Data_Fim\": \"Data Fim\"},\n",
    "                 hover_data=[\"Estrategia\"])\n",
    "\n",
    "# Adiciona linha conectando os pontos por 'Estrategia'\n",
    "fig.add_traces(px.line(df, y=\"Tempo_Simulacao\", x=\"Data_Fim\", color=\"Estrategia\").data)\n",
    "\n",
    "fig.show()\n"
   ]
  },
  {
   "cell_type": "code",
   "execution_count": 22,
   "id": "c0a3d827",
   "metadata": {},
   "outputs": [
    {
     "data": {
      "text/plain": [
       "count     52.00\n",
       "mean      53.72\n",
       "std      131.07\n",
       "min        5.20\n",
       "25%        8.24\n",
       "50%       11.04\n",
       "75%       14.70\n",
       "max      644.94\n",
       "Name: Tempo_Simulacao, dtype: float64"
      ]
     },
     "execution_count": 22,
     "metadata": {},
     "output_type": "execute_result"
    }
   ],
   "source": [
    "df[df['Data_Fim'] == 2912]['Tempo_Simulacao'].describe().round(2)"
   ]
  },
  {
   "cell_type": "code",
   "execution_count": 19,
   "id": "4f3edfbc",
   "metadata": {},
   "outputs": [
    {
     "data": {
      "text/html": [
       "<div>\n",
       "<style scoped>\n",
       "    .dataframe tbody tr th:only-of-type {\n",
       "        vertical-align: middle;\n",
       "    }\n",
       "\n",
       "    .dataframe tbody tr th {\n",
       "        vertical-align: top;\n",
       "    }\n",
       "\n",
       "    .dataframe thead th {\n",
       "        text-align: right;\n",
       "    }\n",
       "</style>\n",
       "<table border=\"1\" class=\"dataframe\">\n",
       "  <thead>\n",
       "    <tr style=\"text-align: right;\">\n",
       "      <th></th>\n",
       "      <th>Estrategia</th>\n",
       "      <th>Data_Inicio</th>\n",
       "      <th>Data_Fim</th>\n",
       "      <th>Saldo_Final</th>\n",
       "      <th>Lucro_%</th>\n",
       "      <th>Total_Trades</th>\n",
       "      <th>Trades_Lucrativos</th>\n",
       "      <th>Valor_Lucro_Total</th>\n",
       "      <th>Trades_Preuízo</th>\n",
       "      <th>Valor_Preuízo_Total</th>\n",
       "      <th>Lucro_Médio_Trade</th>\n",
       "      <th>Lucro_%_Médio</th>\n",
       "      <th>Prejuízo_Médio_Trade</th>\n",
       "      <th>Prejuízo_%_Médio</th>\n",
       "      <th>Tempo_Simulacao</th>\n",
       "      <th>Moeda</th>\n",
       "      <th>CANDLE_PERIOD</th>\n",
       "    </tr>\n",
       "  </thead>\n",
       "  <tbody>\n",
       "    <tr>\n",
       "      <th>527</th>\n",
       "      <td>KAMA</td>\n",
       "      <td>2025-03-01 00:00:00-03:00</td>\n",
       "      <td>2912</td>\n",
       "      <td>1034.508457</td>\n",
       "      <td>3.450846</td>\n",
       "      <td>354.0</td>\n",
       "      <td>39.0</td>\n",
       "      <td>427.342496</td>\n",
       "      <td>138.0</td>\n",
       "      <td>-392.834039</td>\n",
       "      <td>10.957500</td>\n",
       "      <td>1.095750</td>\n",
       "      <td>2.846623</td>\n",
       "      <td>0.284662</td>\n",
       "      <td>644.937992</td>\n",
       "      <td>BTC</td>\n",
       "      <td>15m</td>\n",
       "    </tr>\n",
       "    <tr>\n",
       "      <th>534</th>\n",
       "      <td>OBV</td>\n",
       "      <td>2025-03-01 00:00:00-03:00</td>\n",
       "      <td>2912</td>\n",
       "      <td>999.487957</td>\n",
       "      <td>-0.051204</td>\n",
       "      <td>536.0</td>\n",
       "      <td>101.0</td>\n",
       "      <td>485.311119</td>\n",
       "      <td>167.0</td>\n",
       "      <td>-485.823162</td>\n",
       "      <td>4.805061</td>\n",
       "      <td>0.480506</td>\n",
       "      <td>2.909121</td>\n",
       "      <td>0.290912</td>\n",
       "      <td>620.324643</td>\n",
       "      <td>BTC</td>\n",
       "      <td>15m</td>\n",
       "    </tr>\n",
       "    <tr>\n",
       "      <th>523</th>\n",
       "      <td>Fractals</td>\n",
       "      <td>2025-03-01 00:00:00-03:00</td>\n",
       "      <td>2912</td>\n",
       "      <td>1012.917150</td>\n",
       "      <td>1.291715</td>\n",
       "      <td>128.0</td>\n",
       "      <td>20.0</td>\n",
       "      <td>300.790192</td>\n",
       "      <td>44.0</td>\n",
       "      <td>-287.873042</td>\n",
       "      <td>15.039510</td>\n",
       "      <td>1.503951</td>\n",
       "      <td>6.542569</td>\n",
       "      <td>0.654257</td>\n",
       "      <td>365.448740</td>\n",
       "      <td>BTC</td>\n",
       "      <td>15m</td>\n",
       "    </tr>\n",
       "    <tr>\n",
       "      <th>509</th>\n",
       "      <td>ALMA Cruzamento</td>\n",
       "      <td>2025-03-01 00:00:00-03:00</td>\n",
       "      <td>2912</td>\n",
       "      <td>982.568602</td>\n",
       "      <td>-1.743140</td>\n",
       "      <td>184.0</td>\n",
       "      <td>40.0</td>\n",
       "      <td>351.849265</td>\n",
       "      <td>52.0</td>\n",
       "      <td>-369.280662</td>\n",
       "      <td>8.796232</td>\n",
       "      <td>0.879623</td>\n",
       "      <td>7.101551</td>\n",
       "      <td>0.710155</td>\n",
       "      <td>183.053135</td>\n",
       "      <td>BTC</td>\n",
       "      <td>15m</td>\n",
       "    </tr>\n",
       "    <tr>\n",
       "      <th>545</th>\n",
       "      <td>VIDYA</td>\n",
       "      <td>2025-03-01 00:00:00-03:00</td>\n",
       "      <td>2912</td>\n",
       "      <td>1031.741113</td>\n",
       "      <td>3.174111</td>\n",
       "      <td>38.0</td>\n",
       "      <td>7.0</td>\n",
       "      <td>133.602864</td>\n",
       "      <td>12.0</td>\n",
       "      <td>-101.861751</td>\n",
       "      <td>19.086123</td>\n",
       "      <td>1.908612</td>\n",
       "      <td>8.488479</td>\n",
       "      <td>0.848848</td>\n",
       "      <td>120.485156</td>\n",
       "      <td>BTC</td>\n",
       "      <td>15m</td>\n",
       "    </tr>\n",
       "    <tr>\n",
       "      <th>495</th>\n",
       "      <td>UT BOTS</td>\n",
       "      <td>2025-03-01 00:00:00-03:00</td>\n",
       "      <td>2912</td>\n",
       "      <td>955.392439</td>\n",
       "      <td>-4.460756</td>\n",
       "      <td>182.0</td>\n",
       "      <td>33.0</td>\n",
       "      <td>339.732631</td>\n",
       "      <td>58.0</td>\n",
       "      <td>-384.340192</td>\n",
       "      <td>10.294928</td>\n",
       "      <td>1.029493</td>\n",
       "      <td>6.626555</td>\n",
       "      <td>0.662656</td>\n",
       "      <td>116.413596</td>\n",
       "      <td>BTC</td>\n",
       "      <td>15m</td>\n",
       "    </tr>\n",
       "    <tr>\n",
       "      <th>544</th>\n",
       "      <td>Ultimate Oscillator</td>\n",
       "      <td>2025-03-01 00:00:00-03:00</td>\n",
       "      <td>2912</td>\n",
       "      <td>NaN</td>\n",
       "      <td>NaN</td>\n",
       "      <td>5.0</td>\n",
       "      <td>1.0</td>\n",
       "      <td>53.522723</td>\n",
       "      <td>1.0</td>\n",
       "      <td>-48.747083</td>\n",
       "      <td>53.522723</td>\n",
       "      <td>5.352272</td>\n",
       "      <td>48.747083</td>\n",
       "      <td>4.874708</td>\n",
       "      <td>97.918112</td>\n",
       "      <td>BTC</td>\n",
       "      <td>15m</td>\n",
       "    </tr>\n",
       "    <tr>\n",
       "      <th>548</th>\n",
       "      <td>WMA</td>\n",
       "      <td>2025-03-01 00:00:00-03:00</td>\n",
       "      <td>2912</td>\n",
       "      <td>1047.818758</td>\n",
       "      <td>4.781876</td>\n",
       "      <td>308.0</td>\n",
       "      <td>43.0</td>\n",
       "      <td>454.775487</td>\n",
       "      <td>111.0</td>\n",
       "      <td>-406.956729</td>\n",
       "      <td>10.576174</td>\n",
       "      <td>1.057617</td>\n",
       "      <td>3.666277</td>\n",
       "      <td>0.366628</td>\n",
       "      <td>86.122756</td>\n",
       "      <td>BTC</td>\n",
       "      <td>15m</td>\n",
       "    </tr>\n",
       "    <tr>\n",
       "      <th>532</th>\n",
       "      <td>HULL MOVING AVERAGE</td>\n",
       "      <td>2025-03-01 00:00:00-03:00</td>\n",
       "      <td>2912</td>\n",
       "      <td>1072.031247</td>\n",
       "      <td>7.203125</td>\n",
       "      <td>504.0</td>\n",
       "      <td>111.0</td>\n",
       "      <td>645.800545</td>\n",
       "      <td>141.0</td>\n",
       "      <td>-573.769298</td>\n",
       "      <td>5.818023</td>\n",
       "      <td>0.581802</td>\n",
       "      <td>4.069286</td>\n",
       "      <td>0.406929</td>\n",
       "      <td>67.608156</td>\n",
       "      <td>BTC</td>\n",
       "      <td>15m</td>\n",
       "    </tr>\n",
       "    <tr>\n",
       "      <th>508</th>\n",
       "      <td>ALMA</td>\n",
       "      <td>2025-03-01 00:00:00-03:00</td>\n",
       "      <td>2912</td>\n",
       "      <td>1072.257251</td>\n",
       "      <td>7.225725</td>\n",
       "      <td>280.0</td>\n",
       "      <td>50.0</td>\n",
       "      <td>498.007755</td>\n",
       "      <td>90.0</td>\n",
       "      <td>-425.750504</td>\n",
       "      <td>9.960155</td>\n",
       "      <td>0.996016</td>\n",
       "      <td>4.730561</td>\n",
       "      <td>0.473056</td>\n",
       "      <td>63.007999</td>\n",
       "      <td>BTC</td>\n",
       "      <td>15m</td>\n",
       "    </tr>\n",
       "    <tr>\n",
       "      <th>535</th>\n",
       "      <td>Pivot Points</td>\n",
       "      <td>2025-03-01 00:00:00-03:00</td>\n",
       "      <td>2912</td>\n",
       "      <td>NaN</td>\n",
       "      <td>NaN</td>\n",
       "      <td>1231.0</td>\n",
       "      <td>279.0</td>\n",
       "      <td>985.871984</td>\n",
       "      <td>335.0</td>\n",
       "      <td>-883.146920</td>\n",
       "      <td>3.533591</td>\n",
       "      <td>0.353359</td>\n",
       "      <td>2.636259</td>\n",
       "      <td>0.263626</td>\n",
       "      <td>18.107932</td>\n",
       "      <td>BTC</td>\n",
       "      <td>15m</td>\n",
       "    </tr>\n",
       "    <tr>\n",
       "      <th>507</th>\n",
       "      <td>Accelerator Oscillator</td>\n",
       "      <td>2025-03-01 00:00:00-03:00</td>\n",
       "      <td>2912</td>\n",
       "      <td>935.870492</td>\n",
       "      <td>-6.412951</td>\n",
       "      <td>340.0</td>\n",
       "      <td>63.0</td>\n",
       "      <td>419.652546</td>\n",
       "      <td>106.0</td>\n",
       "      <td>-483.782054</td>\n",
       "      <td>6.661152</td>\n",
       "      <td>0.666115</td>\n",
       "      <td>4.563982</td>\n",
       "      <td>0.456398</td>\n",
       "      <td>16.874469</td>\n",
       "      <td>BTC</td>\n",
       "      <td>15m</td>\n",
       "    </tr>\n",
       "    <tr>\n",
       "      <th>502</th>\n",
       "      <td>Ichimoku</td>\n",
       "      <td>2025-03-01 00:00:00-03:00</td>\n",
       "      <td>2912</td>\n",
       "      <td>956.677118</td>\n",
       "      <td>-4.332288</td>\n",
       "      <td>126.0</td>\n",
       "      <td>22.0</td>\n",
       "      <td>260.349472</td>\n",
       "      <td>40.0</td>\n",
       "      <td>-303.672354</td>\n",
       "      <td>11.834067</td>\n",
       "      <td>1.183407</td>\n",
       "      <td>7.591809</td>\n",
       "      <td>0.759181</td>\n",
       "      <td>15.089637</td>\n",
       "      <td>BTC</td>\n",
       "      <td>15m</td>\n",
       "    </tr>\n",
       "    <tr>\n",
       "      <th>511</th>\n",
       "      <td>Aroon Puro</td>\n",
       "      <td>2025-03-01 00:00:00-03:00</td>\n",
       "      <td>2912</td>\n",
       "      <td>NaN</td>\n",
       "      <td>NaN</td>\n",
       "      <td>221.0</td>\n",
       "      <td>68.0</td>\n",
       "      <td>346.712374</td>\n",
       "      <td>42.0</td>\n",
       "      <td>-361.057869</td>\n",
       "      <td>5.098711</td>\n",
       "      <td>0.509871</td>\n",
       "      <td>8.596616</td>\n",
       "      <td>0.859662</td>\n",
       "      <td>14.565982</td>\n",
       "      <td>BTC</td>\n",
       "      <td>15m</td>\n",
       "    </tr>\n",
       "    <tr>\n",
       "      <th>526</th>\n",
       "      <td>ICHIMOKU CLOUD</td>\n",
       "      <td>2025-03-01 00:00:00-03:00</td>\n",
       "      <td>2912</td>\n",
       "      <td>891.931863</td>\n",
       "      <td>-10.806814</td>\n",
       "      <td>18.0</td>\n",
       "      <td>3.0</td>\n",
       "      <td>54.032842</td>\n",
       "      <td>6.0</td>\n",
       "      <td>-162.100980</td>\n",
       "      <td>18.010947</td>\n",
       "      <td>1.801095</td>\n",
       "      <td>27.016830</td>\n",
       "      <td>2.701683</td>\n",
       "      <td>14.485890</td>\n",
       "      <td>BTC</td>\n",
       "      <td>15m</td>\n",
       "    </tr>\n",
       "    <tr>\n",
       "      <th>539</th>\n",
       "      <td>Schaff Trend Cycle</td>\n",
       "      <td>2025-03-01 00:00:00-03:00</td>\n",
       "      <td>2912</td>\n",
       "      <td>NaN</td>\n",
       "      <td>NaN</td>\n",
       "      <td>159.0</td>\n",
       "      <td>44.0</td>\n",
       "      <td>287.972269</td>\n",
       "      <td>35.0</td>\n",
       "      <td>-313.882266</td>\n",
       "      <td>6.544824</td>\n",
       "      <td>0.654482</td>\n",
       "      <td>8.968065</td>\n",
       "      <td>0.896806</td>\n",
       "      <td>13.848607</td>\n",
       "      <td>BTC</td>\n",
       "      <td>15m</td>\n",
       "    </tr>\n",
       "    <tr>\n",
       "      <th>524</th>\n",
       "      <td>GATOR OSCILLATOR</td>\n",
       "      <td>2025-03-01 00:00:00-03:00</td>\n",
       "      <td>2912</td>\n",
       "      <td>1009.336652</td>\n",
       "      <td>0.933665</td>\n",
       "      <td>178.0</td>\n",
       "      <td>44.0</td>\n",
       "      <td>244.509042</td>\n",
       "      <td>45.0</td>\n",
       "      <td>-235.172390</td>\n",
       "      <td>5.557024</td>\n",
       "      <td>0.555702</td>\n",
       "      <td>5.226053</td>\n",
       "      <td>0.522605</td>\n",
       "      <td>13.128511</td>\n",
       "      <td>BTC</td>\n",
       "      <td>15m</td>\n",
       "    </tr>\n",
       "    <tr>\n",
       "      <th>510</th>\n",
       "      <td>Aroon Oscillator</td>\n",
       "      <td>2025-03-01 00:00:00-03:00</td>\n",
       "      <td>2912</td>\n",
       "      <td>NaN</td>\n",
       "      <td>NaN</td>\n",
       "      <td>221.0</td>\n",
       "      <td>68.0</td>\n",
       "      <td>346.712374</td>\n",
       "      <td>42.0</td>\n",
       "      <td>-361.057869</td>\n",
       "      <td>5.098711</td>\n",
       "      <td>0.509871</td>\n",
       "      <td>8.596616</td>\n",
       "      <td>0.859662</td>\n",
       "      <td>12.867446</td>\n",
       "      <td>BTC</td>\n",
       "      <td>15m</td>\n",
       "    </tr>\n",
       "    <tr>\n",
       "      <th>537</th>\n",
       "      <td>Price Channels</td>\n",
       "      <td>2025-03-01 00:00:00-03:00</td>\n",
       "      <td>2912</td>\n",
       "      <td>1000.000000</td>\n",
       "      <td>0.000000</td>\n",
       "      <td>0.0</td>\n",
       "      <td>0.0</td>\n",
       "      <td>0.000000</td>\n",
       "      <td>0.0</td>\n",
       "      <td>0.000000</td>\n",
       "      <td>0.000000</td>\n",
       "      <td>0.000000</td>\n",
       "      <td>0.000000</td>\n",
       "      <td>0.000000</td>\n",
       "      <td>12.784002</td>\n",
       "      <td>BTC</td>\n",
       "      <td>15m</td>\n",
       "    </tr>\n",
       "    <tr>\n",
       "      <th>530</th>\n",
       "      <td>MARKET FACILITATION INDEX</td>\n",
       "      <td>2025-03-01 00:00:00-03:00</td>\n",
       "      <td>2912</td>\n",
       "      <td>939.416629</td>\n",
       "      <td>-6.058337</td>\n",
       "      <td>206.0</td>\n",
       "      <td>57.0</td>\n",
       "      <td>275.899749</td>\n",
       "      <td>46.0</td>\n",
       "      <td>-336.483120</td>\n",
       "      <td>4.840346</td>\n",
       "      <td>0.484035</td>\n",
       "      <td>7.314850</td>\n",
       "      <td>0.731485</td>\n",
       "      <td>12.486780</td>\n",
       "      <td>BTC</td>\n",
       "      <td>15m</td>\n",
       "    </tr>\n",
       "    <tr>\n",
       "      <th>536</th>\n",
       "      <td>PPO</td>\n",
       "      <td>2025-03-01 00:00:00-03:00</td>\n",
       "      <td>2912</td>\n",
       "      <td>953.576113</td>\n",
       "      <td>-4.642389</td>\n",
       "      <td>252.0</td>\n",
       "      <td>57.0</td>\n",
       "      <td>358.912784</td>\n",
       "      <td>69.0</td>\n",
       "      <td>-405.336670</td>\n",
       "      <td>6.296716</td>\n",
       "      <td>0.629672</td>\n",
       "      <td>5.874444</td>\n",
       "      <td>0.587444</td>\n",
       "      <td>12.438306</td>\n",
       "      <td>BTC</td>\n",
       "      <td>15m</td>\n",
       "    </tr>\n",
       "    <tr>\n",
       "      <th>512</th>\n",
       "      <td>ATR</td>\n",
       "      <td>2025-03-01 00:00:00-03:00</td>\n",
       "      <td>2912</td>\n",
       "      <td>961.950894</td>\n",
       "      <td>-3.804911</td>\n",
       "      <td>374.0</td>\n",
       "      <td>97.0</td>\n",
       "      <td>350.774386</td>\n",
       "      <td>90.0</td>\n",
       "      <td>-388.823492</td>\n",
       "      <td>3.616231</td>\n",
       "      <td>0.361623</td>\n",
       "      <td>4.320261</td>\n",
       "      <td>0.432026</td>\n",
       "      <td>11.853596</td>\n",
       "      <td>BTC</td>\n",
       "      <td>15m</td>\n",
       "    </tr>\n",
       "    <tr>\n",
       "      <th>528</th>\n",
       "      <td>KELTNER CHANNEL</td>\n",
       "      <td>2025-03-01 00:00:00-03:00</td>\n",
       "      <td>2912</td>\n",
       "      <td>1112.311277</td>\n",
       "      <td>11.231128</td>\n",
       "      <td>24.0</td>\n",
       "      <td>5.0</td>\n",
       "      <td>228.629217</td>\n",
       "      <td>7.0</td>\n",
       "      <td>-116.317939</td>\n",
       "      <td>45.725843</td>\n",
       "      <td>4.572584</td>\n",
       "      <td>16.616848</td>\n",
       "      <td>1.661685</td>\n",
       "      <td>11.832668</td>\n",
       "      <td>BTC</td>\n",
       "      <td>15m</td>\n",
       "    </tr>\n",
       "    <tr>\n",
       "      <th>505</th>\n",
       "      <td>Stochastic RSI</td>\n",
       "      <td>2025-03-01 00:00:00-03:00</td>\n",
       "      <td>2912</td>\n",
       "      <td>NaN</td>\n",
       "      <td>NaN</td>\n",
       "      <td>147.0</td>\n",
       "      <td>45.0</td>\n",
       "      <td>407.763725</td>\n",
       "      <td>28.0</td>\n",
       "      <td>-266.420949</td>\n",
       "      <td>9.061416</td>\n",
       "      <td>0.906142</td>\n",
       "      <td>9.515034</td>\n",
       "      <td>0.951503</td>\n",
       "      <td>11.770148</td>\n",
       "      <td>BTC</td>\n",
       "      <td>15m</td>\n",
       "    </tr>\n",
       "    <tr>\n",
       "      <th>525</th>\n",
       "      <td>HILBERT TRANSFORM</td>\n",
       "      <td>2025-03-01 00:00:00-03:00</td>\n",
       "      <td>2912</td>\n",
       "      <td>1088.585934</td>\n",
       "      <td>8.858593</td>\n",
       "      <td>490.0</td>\n",
       "      <td>86.0</td>\n",
       "      <td>556.422874</td>\n",
       "      <td>159.0</td>\n",
       "      <td>-467.836940</td>\n",
       "      <td>6.470033</td>\n",
       "      <td>0.647003</td>\n",
       "      <td>2.942371</td>\n",
       "      <td>0.294237</td>\n",
       "      <td>11.578652</td>\n",
       "      <td>BTC</td>\n",
       "      <td>15m</td>\n",
       "    </tr>\n",
       "    <tr>\n",
       "      <th>529</th>\n",
       "      <td>KELTNER CHANNELS</td>\n",
       "      <td>2025-03-01 00:00:00-03:00</td>\n",
       "      <td>2912</td>\n",
       "      <td>887.002945</td>\n",
       "      <td>-11.299705</td>\n",
       "      <td>435.0</td>\n",
       "      <td>153.0</td>\n",
       "      <td>352.261579</td>\n",
       "      <td>65.0</td>\n",
       "      <td>-465.258633</td>\n",
       "      <td>2.302363</td>\n",
       "      <td>0.230236</td>\n",
       "      <td>7.157825</td>\n",
       "      <td>0.715783</td>\n",
       "      <td>11.050981</td>\n",
       "      <td>BTC</td>\n",
       "      <td>15m</td>\n",
       "    </tr>\n",
       "    <tr>\n",
       "      <th>503</th>\n",
       "      <td>KDJ</td>\n",
       "      <td>2025-03-01 00:00:00-03:00</td>\n",
       "      <td>2912</td>\n",
       "      <td>NaN</td>\n",
       "      <td>NaN</td>\n",
       "      <td>161.0</td>\n",
       "      <td>49.0</td>\n",
       "      <td>290.364008</td>\n",
       "      <td>31.0</td>\n",
       "      <td>-284.966227</td>\n",
       "      <td>5.925796</td>\n",
       "      <td>0.592580</td>\n",
       "      <td>9.192459</td>\n",
       "      <td>0.919246</td>\n",
       "      <td>11.023861</td>\n",
       "      <td>BTC</td>\n",
       "      <td>15m</td>\n",
       "    </tr>\n",
       "    <tr>\n",
       "      <th>547</th>\n",
       "      <td>Williams Alligator</td>\n",
       "      <td>2025-03-01 00:00:00-03:00</td>\n",
       "      <td>2912</td>\n",
       "      <td>1000.000000</td>\n",
       "      <td>0.000000</td>\n",
       "      <td>0.0</td>\n",
       "      <td>0.0</td>\n",
       "      <td>0.000000</td>\n",
       "      <td>0.0</td>\n",
       "      <td>0.000000</td>\n",
       "      <td>0.000000</td>\n",
       "      <td>0.000000</td>\n",
       "      <td>0.000000</td>\n",
       "      <td>0.000000</td>\n",
       "      <td>10.826931</td>\n",
       "      <td>BTC</td>\n",
       "      <td>15m</td>\n",
       "    </tr>\n",
       "    <tr>\n",
       "      <th>496</th>\n",
       "      <td>MA RSI e VOLUME</td>\n",
       "      <td>2025-03-01 00:00:00-03:00</td>\n",
       "      <td>2912</td>\n",
       "      <td>889.553103</td>\n",
       "      <td>-11.044690</td>\n",
       "      <td>150.0</td>\n",
       "      <td>34.0</td>\n",
       "      <td>221.800109</td>\n",
       "      <td>41.0</td>\n",
       "      <td>-332.247006</td>\n",
       "      <td>6.523533</td>\n",
       "      <td>0.652353</td>\n",
       "      <td>8.103586</td>\n",
       "      <td>0.810359</td>\n",
       "      <td>10.771789</td>\n",
       "      <td>BTC</td>\n",
       "      <td>15m</td>\n",
       "    </tr>\n",
       "    <tr>\n",
       "      <th>538</th>\n",
       "      <td>ROC</td>\n",
       "      <td>2025-03-01 00:00:00-03:00</td>\n",
       "      <td>2912</td>\n",
       "      <td>973.328067</td>\n",
       "      <td>-2.667193</td>\n",
       "      <td>618.0</td>\n",
       "      <td>126.0</td>\n",
       "      <td>611.942416</td>\n",
       "      <td>183.0</td>\n",
       "      <td>-638.614348</td>\n",
       "      <td>4.856686</td>\n",
       "      <td>0.485669</td>\n",
       "      <td>3.489696</td>\n",
       "      <td>0.348970</td>\n",
       "      <td>10.337246</td>\n",
       "      <td>BTC</td>\n",
       "      <td>15m</td>\n",
       "    </tr>\n",
       "    <tr>\n",
       "      <th>546</th>\n",
       "      <td>Volume Weighted Average Price VWAP</td>\n",
       "      <td>2025-03-01 00:00:00-03:00</td>\n",
       "      <td>2912</td>\n",
       "      <td>925.756177</td>\n",
       "      <td>-7.424382</td>\n",
       "      <td>42.0</td>\n",
       "      <td>1.0</td>\n",
       "      <td>0.363270</td>\n",
       "      <td>20.0</td>\n",
       "      <td>-74.607093</td>\n",
       "      <td>0.363270</td>\n",
       "      <td>0.036327</td>\n",
       "      <td>3.730355</td>\n",
       "      <td>0.373035</td>\n",
       "      <td>10.254935</td>\n",
       "      <td>BTC</td>\n",
       "      <td>15m</td>\n",
       "    </tr>\n",
       "    <tr>\n",
       "      <th>531</th>\n",
       "      <td>MFI</td>\n",
       "      <td>2025-03-01 00:00:00-03:00</td>\n",
       "      <td>2912</td>\n",
       "      <td>NaN</td>\n",
       "      <td>NaN</td>\n",
       "      <td>15.0</td>\n",
       "      <td>5.0</td>\n",
       "      <td>56.304142</td>\n",
       "      <td>2.0</td>\n",
       "      <td>-144.846074</td>\n",
       "      <td>11.260828</td>\n",
       "      <td>1.126083</td>\n",
       "      <td>72.423037</td>\n",
       "      <td>7.242304</td>\n",
       "      <td>10.010769</td>\n",
       "      <td>BTC</td>\n",
       "      <td>15m</td>\n",
       "    </tr>\n",
       "    <tr>\n",
       "      <th>533</th>\n",
       "      <td>Moving Average Envelope</td>\n",
       "      <td>2025-03-01 00:00:00-03:00</td>\n",
       "      <td>2912</td>\n",
       "      <td>NaN</td>\n",
       "      <td>NaN</td>\n",
       "      <td>3.0</td>\n",
       "      <td>0.0</td>\n",
       "      <td>0.000000</td>\n",
       "      <td>1.0</td>\n",
       "      <td>-36.944124</td>\n",
       "      <td>0.000000</td>\n",
       "      <td>0.000000</td>\n",
       "      <td>36.944124</td>\n",
       "      <td>3.694412</td>\n",
       "      <td>9.781052</td>\n",
       "      <td>BTC</td>\n",
       "      <td>15m</td>\n",
       "    </tr>\n",
       "    <tr>\n",
       "      <th>500</th>\n",
       "      <td>VORTEX</td>\n",
       "      <td>2025-03-01 00:00:00-03:00</td>\n",
       "      <td>2912</td>\n",
       "      <td>1093.427847</td>\n",
       "      <td>9.342785</td>\n",
       "      <td>282.0</td>\n",
       "      <td>46.0</td>\n",
       "      <td>489.153445</td>\n",
       "      <td>95.0</td>\n",
       "      <td>-395.725598</td>\n",
       "      <td>10.633771</td>\n",
       "      <td>1.063377</td>\n",
       "      <td>4.165533</td>\n",
       "      <td>0.416553</td>\n",
       "      <td>9.671144</td>\n",
       "      <td>BTC</td>\n",
       "      <td>15m</td>\n",
       "    </tr>\n",
       "    <tr>\n",
       "      <th>513</th>\n",
       "      <td>Awesome Oscillator</td>\n",
       "      <td>2025-03-01 00:00:00-03:00</td>\n",
       "      <td>2912</td>\n",
       "      <td>915.201827</td>\n",
       "      <td>-8.479817</td>\n",
       "      <td>274.0</td>\n",
       "      <td>67.0</td>\n",
       "      <td>405.866018</td>\n",
       "      <td>70.0</td>\n",
       "      <td>-490.664191</td>\n",
       "      <td>6.057702</td>\n",
       "      <td>0.605770</td>\n",
       "      <td>7.009488</td>\n",
       "      <td>0.700949</td>\n",
       "      <td>9.660196</td>\n",
       "      <td>BTC</td>\n",
       "      <td>15m</td>\n",
       "    </tr>\n",
       "    <tr>\n",
       "      <th>519</th>\n",
       "      <td>Donchian Channels v2</td>\n",
       "      <td>2025-03-01 00:00:00-03:00</td>\n",
       "      <td>2912</td>\n",
       "      <td>1112.829112</td>\n",
       "      <td>11.282911</td>\n",
       "      <td>364.0</td>\n",
       "      <td>58.0</td>\n",
       "      <td>521.151221</td>\n",
       "      <td>124.0</td>\n",
       "      <td>-408.322109</td>\n",
       "      <td>8.985366</td>\n",
       "      <td>0.898537</td>\n",
       "      <td>3.292920</td>\n",
       "      <td>0.329292</td>\n",
       "      <td>8.996339</td>\n",
       "      <td>BTC</td>\n",
       "      <td>15m</td>\n",
       "    </tr>\n",
       "    <tr>\n",
       "      <th>514</th>\n",
       "      <td>Chaikin Oscillator</td>\n",
       "      <td>2025-03-01 00:00:00-03:00</td>\n",
       "      <td>2912</td>\n",
       "      <td>950.630282</td>\n",
       "      <td>-4.936972</td>\n",
       "      <td>504.0</td>\n",
       "      <td>105.0</td>\n",
       "      <td>538.291165</td>\n",
       "      <td>147.0</td>\n",
       "      <td>-587.660883</td>\n",
       "      <td>5.126583</td>\n",
       "      <td>0.512658</td>\n",
       "      <td>3.997693</td>\n",
       "      <td>0.399769</td>\n",
       "      <td>8.928932</td>\n",
       "      <td>BTC</td>\n",
       "      <td>15m</td>\n",
       "    </tr>\n",
       "    <tr>\n",
       "      <th>542</th>\n",
       "      <td>Triangular Moving Average</td>\n",
       "      <td>2025-03-01 00:00:00-03:00</td>\n",
       "      <td>2912</td>\n",
       "      <td>977.728219</td>\n",
       "      <td>-2.227178</td>\n",
       "      <td>94.0</td>\n",
       "      <td>19.0</td>\n",
       "      <td>247.693665</td>\n",
       "      <td>28.0</td>\n",
       "      <td>-269.965445</td>\n",
       "      <td>13.036509</td>\n",
       "      <td>1.303651</td>\n",
       "      <td>9.641623</td>\n",
       "      <td>0.964162</td>\n",
       "      <td>8.771179</td>\n",
       "      <td>BTC</td>\n",
       "      <td>15m</td>\n",
       "    </tr>\n",
       "    <tr>\n",
       "      <th>515</th>\n",
       "      <td>Chande Momentum Oscillator</td>\n",
       "      <td>2025-03-01 00:00:00-03:00</td>\n",
       "      <td>2912</td>\n",
       "      <td>950.626731</td>\n",
       "      <td>-4.937327</td>\n",
       "      <td>312.0</td>\n",
       "      <td>77.0</td>\n",
       "      <td>386.243666</td>\n",
       "      <td>79.0</td>\n",
       "      <td>-435.616935</td>\n",
       "      <td>5.016152</td>\n",
       "      <td>0.501615</td>\n",
       "      <td>5.514138</td>\n",
       "      <td>0.551414</td>\n",
       "      <td>8.290709</td>\n",
       "      <td>BTC</td>\n",
       "      <td>15m</td>\n",
       "    </tr>\n",
       "    <tr>\n",
       "      <th>501</th>\n",
       "      <td>Bollinger Bands</td>\n",
       "      <td>2025-03-01 00:00:00-03:00</td>\n",
       "      <td>2912</td>\n",
       "      <td>NaN</td>\n",
       "      <td>NaN</td>\n",
       "      <td>75.0</td>\n",
       "      <td>23.0</td>\n",
       "      <td>231.015272</td>\n",
       "      <td>14.0</td>\n",
       "      <td>-257.820309</td>\n",
       "      <td>10.044142</td>\n",
       "      <td>1.004414</td>\n",
       "      <td>18.415736</td>\n",
       "      <td>1.841574</td>\n",
       "      <td>8.075088</td>\n",
       "      <td>BTC</td>\n",
       "      <td>15m</td>\n",
       "    </tr>\n",
       "    <tr>\n",
       "      <th>506</th>\n",
       "      <td>Williams %R</td>\n",
       "      <td>2025-03-01 00:00:00-03:00</td>\n",
       "      <td>2912</td>\n",
       "      <td>NaN</td>\n",
       "      <td>NaN</td>\n",
       "      <td>147.0</td>\n",
       "      <td>45.0</td>\n",
       "      <td>361.854568</td>\n",
       "      <td>28.0</td>\n",
       "      <td>-314.163241</td>\n",
       "      <td>8.041213</td>\n",
       "      <td>0.804121</td>\n",
       "      <td>11.220116</td>\n",
       "      <td>1.122012</td>\n",
       "      <td>7.848672</td>\n",
       "      <td>BTC</td>\n",
       "      <td>15m</td>\n",
       "    </tr>\n",
       "    <tr>\n",
       "      <th>518</th>\n",
       "      <td>Donchian Channel</td>\n",
       "      <td>2025-03-01 00:00:00-03:00</td>\n",
       "      <td>2912</td>\n",
       "      <td>1000.000000</td>\n",
       "      <td>0.000000</td>\n",
       "      <td>0.0</td>\n",
       "      <td>0.0</td>\n",
       "      <td>0.000000</td>\n",
       "      <td>0.0</td>\n",
       "      <td>0.000000</td>\n",
       "      <td>0.000000</td>\n",
       "      <td>0.000000</td>\n",
       "      <td>0.000000</td>\n",
       "      <td>0.000000</td>\n",
       "      <td>7.579880</td>\n",
       "      <td>BTC</td>\n",
       "      <td>15m</td>\n",
       "    </tr>\n",
       "    <tr>\n",
       "      <th>504</th>\n",
       "      <td>MACD</td>\n",
       "      <td>2025-03-01 00:00:00-03:00</td>\n",
       "      <td>2912</td>\n",
       "      <td>986.431267</td>\n",
       "      <td>-1.356873</td>\n",
       "      <td>226.0</td>\n",
       "      <td>41.0</td>\n",
       "      <td>417.565282</td>\n",
       "      <td>72.0</td>\n",
       "      <td>-431.134016</td>\n",
       "      <td>10.184519</td>\n",
       "      <td>1.018452</td>\n",
       "      <td>5.987972</td>\n",
       "      <td>0.598797</td>\n",
       "      <td>7.324543</td>\n",
       "      <td>BTC</td>\n",
       "      <td>15m</td>\n",
       "    </tr>\n",
       "    <tr>\n",
       "      <th>497</th>\n",
       "      <td>MA ANTECIPATION 5_10</td>\n",
       "      <td>2025-03-01 00:00:00-03:00</td>\n",
       "      <td>2912</td>\n",
       "      <td>1050.520017</td>\n",
       "      <td>5.052002</td>\n",
       "      <td>344.0</td>\n",
       "      <td>72.0</td>\n",
       "      <td>455.655904</td>\n",
       "      <td>100.0</td>\n",
       "      <td>-405.135887</td>\n",
       "      <td>6.328554</td>\n",
       "      <td>0.632855</td>\n",
       "      <td>4.051359</td>\n",
       "      <td>0.405136</td>\n",
       "      <td>7.233435</td>\n",
       "      <td>BTC</td>\n",
       "      <td>15m</td>\n",
       "    </tr>\n",
       "    <tr>\n",
       "      <th>516</th>\n",
       "      <td>CMF</td>\n",
       "      <td>2025-03-01 00:00:00-03:00</td>\n",
       "      <td>2912</td>\n",
       "      <td>1047.435008</td>\n",
       "      <td>4.743501</td>\n",
       "      <td>554.0</td>\n",
       "      <td>131.0</td>\n",
       "      <td>625.748506</td>\n",
       "      <td>146.0</td>\n",
       "      <td>-578.313498</td>\n",
       "      <td>4.776706</td>\n",
       "      <td>0.477671</td>\n",
       "      <td>3.961051</td>\n",
       "      <td>0.396105</td>\n",
       "      <td>6.729571</td>\n",
       "      <td>BTC</td>\n",
       "      <td>15m</td>\n",
       "    </tr>\n",
       "    <tr>\n",
       "      <th>522</th>\n",
       "      <td>Force Index</td>\n",
       "      <td>2025-03-01 00:00:00-03:00</td>\n",
       "      <td>2912</td>\n",
       "      <td>NaN</td>\n",
       "      <td>NaN</td>\n",
       "      <td>297.0</td>\n",
       "      <td>49.0</td>\n",
       "      <td>444.604753</td>\n",
       "      <td>99.0</td>\n",
       "      <td>-461.554546</td>\n",
       "      <td>9.073566</td>\n",
       "      <td>0.907357</td>\n",
       "      <td>4.662167</td>\n",
       "      <td>0.466217</td>\n",
       "      <td>6.420870</td>\n",
       "      <td>BTC</td>\n",
       "      <td>15m</td>\n",
       "    </tr>\n",
       "    <tr>\n",
       "      <th>499</th>\n",
       "      <td>RSI</td>\n",
       "      <td>2025-03-01 00:00:00-03:00</td>\n",
       "      <td>2912</td>\n",
       "      <td>NaN</td>\n",
       "      <td>NaN</td>\n",
       "      <td>17.0</td>\n",
       "      <td>4.0</td>\n",
       "      <td>85.358375</td>\n",
       "      <td>4.0</td>\n",
       "      <td>-151.974742</td>\n",
       "      <td>21.339594</td>\n",
       "      <td>2.133959</td>\n",
       "      <td>37.993685</td>\n",
       "      <td>3.799369</td>\n",
       "      <td>6.363210</td>\n",
       "      <td>BTC</td>\n",
       "      <td>15m</td>\n",
       "    </tr>\n",
       "    <tr>\n",
       "      <th>549</th>\n",
       "      <td>Zero Lag Moving Average</td>\n",
       "      <td>2025-03-01 00:00:00-03:00</td>\n",
       "      <td>2912</td>\n",
       "      <td>935.968666</td>\n",
       "      <td>-6.403133</td>\n",
       "      <td>266.0</td>\n",
       "      <td>42.0</td>\n",
       "      <td>385.254465</td>\n",
       "      <td>91.0</td>\n",
       "      <td>-449.285799</td>\n",
       "      <td>9.172725</td>\n",
       "      <td>0.917273</td>\n",
       "      <td>4.937207</td>\n",
       "      <td>0.493721</td>\n",
       "      <td>6.146201</td>\n",
       "      <td>BTC</td>\n",
       "      <td>15m</td>\n",
       "    </tr>\n",
       "    <tr>\n",
       "      <th>498</th>\n",
       "      <td>MA SIMPLES FALLBACK 5_10</td>\n",
       "      <td>2025-03-01 00:00:00-03:00</td>\n",
       "      <td>2912</td>\n",
       "      <td>913.341872</td>\n",
       "      <td>-8.665813</td>\n",
       "      <td>318.0</td>\n",
       "      <td>59.0</td>\n",
       "      <td>388.537890</td>\n",
       "      <td>100.0</td>\n",
       "      <td>-475.196018</td>\n",
       "      <td>6.585388</td>\n",
       "      <td>0.658539</td>\n",
       "      <td>4.751960</td>\n",
       "      <td>0.475196</td>\n",
       "      <td>6.001566</td>\n",
       "      <td>BTC</td>\n",
       "      <td>15m</td>\n",
       "    </tr>\n",
       "    <tr>\n",
       "      <th>520</th>\n",
       "      <td>Elder Force Index</td>\n",
       "      <td>2025-03-01 00:00:00-03:00</td>\n",
       "      <td>2912</td>\n",
       "      <td>1070.694813</td>\n",
       "      <td>7.069481</td>\n",
       "      <td>1096.0</td>\n",
       "      <td>212.0</td>\n",
       "      <td>825.399491</td>\n",
       "      <td>335.0</td>\n",
       "      <td>-754.704679</td>\n",
       "      <td>3.893394</td>\n",
       "      <td>0.389339</td>\n",
       "      <td>2.252850</td>\n",
       "      <td>0.225285</td>\n",
       "      <td>5.640044</td>\n",
       "      <td>BTC</td>\n",
       "      <td>15m</td>\n",
       "    </tr>\n",
       "    <tr>\n",
       "      <th>521</th>\n",
       "      <td>Elder Ray</td>\n",
       "      <td>2025-03-01 00:00:00-03:00</td>\n",
       "      <td>2912</td>\n",
       "      <td>1015.452931</td>\n",
       "      <td>1.545293</td>\n",
       "      <td>302.0</td>\n",
       "      <td>49.0</td>\n",
       "      <td>343.861748</td>\n",
       "      <td>102.0</td>\n",
       "      <td>-328.408817</td>\n",
       "      <td>7.017587</td>\n",
       "      <td>0.701759</td>\n",
       "      <td>3.219694</td>\n",
       "      <td>0.321969</td>\n",
       "      <td>5.591239</td>\n",
       "      <td>BTC</td>\n",
       "      <td>15m</td>\n",
       "    </tr>\n",
       "    <tr>\n",
       "      <th>517</th>\n",
       "      <td>Detrended Price Oscillator</td>\n",
       "      <td>2025-03-01 00:00:00-03:00</td>\n",
       "      <td>2912</td>\n",
       "      <td>1055.387873</td>\n",
       "      <td>5.538787</td>\n",
       "      <td>584.0</td>\n",
       "      <td>109.0</td>\n",
       "      <td>641.475945</td>\n",
       "      <td>183.0</td>\n",
       "      <td>-586.088072</td>\n",
       "      <td>5.885100</td>\n",
       "      <td>0.588510</td>\n",
       "      <td>3.202667</td>\n",
       "      <td>0.320267</td>\n",
       "      <td>5.198830</td>\n",
       "      <td>BTC</td>\n",
       "      <td>15m</td>\n",
       "    </tr>\n",
       "    <tr>\n",
       "      <th>540</th>\n",
       "      <td>T3 Moving Average</td>\n",
       "      <td>2025-03-01 00:00:00-03:00</td>\n",
       "      <td>2912</td>\n",
       "      <td>1000.000000</td>\n",
       "      <td>NaN</td>\n",
       "      <td>NaN</td>\n",
       "      <td>NaN</td>\n",
       "      <td>NaN</td>\n",
       "      <td>NaN</td>\n",
       "      <td>NaN</td>\n",
       "      <td>NaN</td>\n",
       "      <td>NaN</td>\n",
       "      <td>NaN</td>\n",
       "      <td>NaN</td>\n",
       "      <td>NaN</td>\n",
       "      <td>BTC</td>\n",
       "      <td>15m</td>\n",
       "    </tr>\n",
       "    <tr>\n",
       "      <th>541</th>\n",
       "      <td>TEMA</td>\n",
       "      <td>2025-03-01 00:00:00-03:00</td>\n",
       "      <td>2912</td>\n",
       "      <td>1000.000000</td>\n",
       "      <td>NaN</td>\n",
       "      <td>NaN</td>\n",
       "      <td>NaN</td>\n",
       "      <td>NaN</td>\n",
       "      <td>NaN</td>\n",
       "      <td>NaN</td>\n",
       "      <td>NaN</td>\n",
       "      <td>NaN</td>\n",
       "      <td>NaN</td>\n",
       "      <td>NaN</td>\n",
       "      <td>NaN</td>\n",
       "      <td>BTC</td>\n",
       "      <td>15m</td>\n",
       "    </tr>\n",
       "    <tr>\n",
       "      <th>543</th>\n",
       "      <td>True Strength Index</td>\n",
       "      <td>2025-03-01 00:00:00-03:00</td>\n",
       "      <td>2912</td>\n",
       "      <td>1000.000000</td>\n",
       "      <td>NaN</td>\n",
       "      <td>NaN</td>\n",
       "      <td>NaN</td>\n",
       "      <td>NaN</td>\n",
       "      <td>NaN</td>\n",
       "      <td>NaN</td>\n",
       "      <td>NaN</td>\n",
       "      <td>NaN</td>\n",
       "      <td>NaN</td>\n",
       "      <td>NaN</td>\n",
       "      <td>NaN</td>\n",
       "      <td>BTC</td>\n",
       "      <td>15m</td>\n",
       "    </tr>\n",
       "  </tbody>\n",
       "</table>\n",
       "</div>"
      ],
      "text/plain": [
       "                             Estrategia               Data_Inicio  Data_Fim  \\\n",
       "527                                KAMA 2025-03-01 00:00:00-03:00      2912   \n",
       "534                                 OBV 2025-03-01 00:00:00-03:00      2912   \n",
       "523                            Fractals 2025-03-01 00:00:00-03:00      2912   \n",
       "509                     ALMA Cruzamento 2025-03-01 00:00:00-03:00      2912   \n",
       "545                               VIDYA 2025-03-01 00:00:00-03:00      2912   \n",
       "495                             UT BOTS 2025-03-01 00:00:00-03:00      2912   \n",
       "544                 Ultimate Oscillator 2025-03-01 00:00:00-03:00      2912   \n",
       "548                                 WMA 2025-03-01 00:00:00-03:00      2912   \n",
       "532                 HULL MOVING AVERAGE 2025-03-01 00:00:00-03:00      2912   \n",
       "508                                ALMA 2025-03-01 00:00:00-03:00      2912   \n",
       "535                        Pivot Points 2025-03-01 00:00:00-03:00      2912   \n",
       "507              Accelerator Oscillator 2025-03-01 00:00:00-03:00      2912   \n",
       "502                            Ichimoku 2025-03-01 00:00:00-03:00      2912   \n",
       "511                          Aroon Puro 2025-03-01 00:00:00-03:00      2912   \n",
       "526                      ICHIMOKU CLOUD 2025-03-01 00:00:00-03:00      2912   \n",
       "539                  Schaff Trend Cycle 2025-03-01 00:00:00-03:00      2912   \n",
       "524                    GATOR OSCILLATOR 2025-03-01 00:00:00-03:00      2912   \n",
       "510                    Aroon Oscillator 2025-03-01 00:00:00-03:00      2912   \n",
       "537                      Price Channels 2025-03-01 00:00:00-03:00      2912   \n",
       "530           MARKET FACILITATION INDEX 2025-03-01 00:00:00-03:00      2912   \n",
       "536                                 PPO 2025-03-01 00:00:00-03:00      2912   \n",
       "512                                 ATR 2025-03-01 00:00:00-03:00      2912   \n",
       "528                     KELTNER CHANNEL 2025-03-01 00:00:00-03:00      2912   \n",
       "505                      Stochastic RSI 2025-03-01 00:00:00-03:00      2912   \n",
       "525                   HILBERT TRANSFORM 2025-03-01 00:00:00-03:00      2912   \n",
       "529                    KELTNER CHANNELS 2025-03-01 00:00:00-03:00      2912   \n",
       "503                                 KDJ 2025-03-01 00:00:00-03:00      2912   \n",
       "547                  Williams Alligator 2025-03-01 00:00:00-03:00      2912   \n",
       "496                     MA RSI e VOLUME 2025-03-01 00:00:00-03:00      2912   \n",
       "538                                 ROC 2025-03-01 00:00:00-03:00      2912   \n",
       "546  Volume Weighted Average Price VWAP 2025-03-01 00:00:00-03:00      2912   \n",
       "531                                 MFI 2025-03-01 00:00:00-03:00      2912   \n",
       "533             Moving Average Envelope 2025-03-01 00:00:00-03:00      2912   \n",
       "500                              VORTEX 2025-03-01 00:00:00-03:00      2912   \n",
       "513                  Awesome Oscillator 2025-03-01 00:00:00-03:00      2912   \n",
       "519                Donchian Channels v2 2025-03-01 00:00:00-03:00      2912   \n",
       "514                  Chaikin Oscillator 2025-03-01 00:00:00-03:00      2912   \n",
       "542           Triangular Moving Average 2025-03-01 00:00:00-03:00      2912   \n",
       "515          Chande Momentum Oscillator 2025-03-01 00:00:00-03:00      2912   \n",
       "501                     Bollinger Bands 2025-03-01 00:00:00-03:00      2912   \n",
       "506                         Williams %R 2025-03-01 00:00:00-03:00      2912   \n",
       "518                    Donchian Channel 2025-03-01 00:00:00-03:00      2912   \n",
       "504                                MACD 2025-03-01 00:00:00-03:00      2912   \n",
       "497                MA ANTECIPATION 5_10 2025-03-01 00:00:00-03:00      2912   \n",
       "516                                 CMF 2025-03-01 00:00:00-03:00      2912   \n",
       "522                         Force Index 2025-03-01 00:00:00-03:00      2912   \n",
       "499                                 RSI 2025-03-01 00:00:00-03:00      2912   \n",
       "549             Zero Lag Moving Average 2025-03-01 00:00:00-03:00      2912   \n",
       "498            MA SIMPLES FALLBACK 5_10 2025-03-01 00:00:00-03:00      2912   \n",
       "520                   Elder Force Index 2025-03-01 00:00:00-03:00      2912   \n",
       "521                           Elder Ray 2025-03-01 00:00:00-03:00      2912   \n",
       "517          Detrended Price Oscillator 2025-03-01 00:00:00-03:00      2912   \n",
       "540                   T3 Moving Average 2025-03-01 00:00:00-03:00      2912   \n",
       "541                                TEMA 2025-03-01 00:00:00-03:00      2912   \n",
       "543                 True Strength Index 2025-03-01 00:00:00-03:00      2912   \n",
       "\n",
       "     Saldo_Final    Lucro_%  Total_Trades  Trades_Lucrativos  \\\n",
       "527  1034.508457   3.450846         354.0               39.0   \n",
       "534   999.487957  -0.051204         536.0              101.0   \n",
       "523  1012.917150   1.291715         128.0               20.0   \n",
       "509   982.568602  -1.743140         184.0               40.0   \n",
       "545  1031.741113   3.174111          38.0                7.0   \n",
       "495   955.392439  -4.460756         182.0               33.0   \n",
       "544          NaN        NaN           5.0                1.0   \n",
       "548  1047.818758   4.781876         308.0               43.0   \n",
       "532  1072.031247   7.203125         504.0              111.0   \n",
       "508  1072.257251   7.225725         280.0               50.0   \n",
       "535          NaN        NaN        1231.0              279.0   \n",
       "507   935.870492  -6.412951         340.0               63.0   \n",
       "502   956.677118  -4.332288         126.0               22.0   \n",
       "511          NaN        NaN         221.0               68.0   \n",
       "526   891.931863 -10.806814          18.0                3.0   \n",
       "539          NaN        NaN         159.0               44.0   \n",
       "524  1009.336652   0.933665         178.0               44.0   \n",
       "510          NaN        NaN         221.0               68.0   \n",
       "537  1000.000000   0.000000           0.0                0.0   \n",
       "530   939.416629  -6.058337         206.0               57.0   \n",
       "536   953.576113  -4.642389         252.0               57.0   \n",
       "512   961.950894  -3.804911         374.0               97.0   \n",
       "528  1112.311277  11.231128          24.0                5.0   \n",
       "505          NaN        NaN         147.0               45.0   \n",
       "525  1088.585934   8.858593         490.0               86.0   \n",
       "529   887.002945 -11.299705         435.0              153.0   \n",
       "503          NaN        NaN         161.0               49.0   \n",
       "547  1000.000000   0.000000           0.0                0.0   \n",
       "496   889.553103 -11.044690         150.0               34.0   \n",
       "538   973.328067  -2.667193         618.0              126.0   \n",
       "546   925.756177  -7.424382          42.0                1.0   \n",
       "531          NaN        NaN          15.0                5.0   \n",
       "533          NaN        NaN           3.0                0.0   \n",
       "500  1093.427847   9.342785         282.0               46.0   \n",
       "513   915.201827  -8.479817         274.0               67.0   \n",
       "519  1112.829112  11.282911         364.0               58.0   \n",
       "514   950.630282  -4.936972         504.0              105.0   \n",
       "542   977.728219  -2.227178          94.0               19.0   \n",
       "515   950.626731  -4.937327         312.0               77.0   \n",
       "501          NaN        NaN          75.0               23.0   \n",
       "506          NaN        NaN         147.0               45.0   \n",
       "518  1000.000000   0.000000           0.0                0.0   \n",
       "504   986.431267  -1.356873         226.0               41.0   \n",
       "497  1050.520017   5.052002         344.0               72.0   \n",
       "516  1047.435008   4.743501         554.0              131.0   \n",
       "522          NaN        NaN         297.0               49.0   \n",
       "499          NaN        NaN          17.0                4.0   \n",
       "549   935.968666  -6.403133         266.0               42.0   \n",
       "498   913.341872  -8.665813         318.0               59.0   \n",
       "520  1070.694813   7.069481        1096.0              212.0   \n",
       "521  1015.452931   1.545293         302.0               49.0   \n",
       "517  1055.387873   5.538787         584.0              109.0   \n",
       "540  1000.000000        NaN           NaN                NaN   \n",
       "541  1000.000000        NaN           NaN                NaN   \n",
       "543  1000.000000        NaN           NaN                NaN   \n",
       "\n",
       "     Valor_Lucro_Total  Trades_Preuízo  Valor_Preuízo_Total  \\\n",
       "527         427.342496           138.0          -392.834039   \n",
       "534         485.311119           167.0          -485.823162   \n",
       "523         300.790192            44.0          -287.873042   \n",
       "509         351.849265            52.0          -369.280662   \n",
       "545         133.602864            12.0          -101.861751   \n",
       "495         339.732631            58.0          -384.340192   \n",
       "544          53.522723             1.0           -48.747083   \n",
       "548         454.775487           111.0          -406.956729   \n",
       "532         645.800545           141.0          -573.769298   \n",
       "508         498.007755            90.0          -425.750504   \n",
       "535         985.871984           335.0          -883.146920   \n",
       "507         419.652546           106.0          -483.782054   \n",
       "502         260.349472            40.0          -303.672354   \n",
       "511         346.712374            42.0          -361.057869   \n",
       "526          54.032842             6.0          -162.100980   \n",
       "539         287.972269            35.0          -313.882266   \n",
       "524         244.509042            45.0          -235.172390   \n",
       "510         346.712374            42.0          -361.057869   \n",
       "537           0.000000             0.0             0.000000   \n",
       "530         275.899749            46.0          -336.483120   \n",
       "536         358.912784            69.0          -405.336670   \n",
       "512         350.774386            90.0          -388.823492   \n",
       "528         228.629217             7.0          -116.317939   \n",
       "505         407.763725            28.0          -266.420949   \n",
       "525         556.422874           159.0          -467.836940   \n",
       "529         352.261579            65.0          -465.258633   \n",
       "503         290.364008            31.0          -284.966227   \n",
       "547           0.000000             0.0             0.000000   \n",
       "496         221.800109            41.0          -332.247006   \n",
       "538         611.942416           183.0          -638.614348   \n",
       "546           0.363270            20.0           -74.607093   \n",
       "531          56.304142             2.0          -144.846074   \n",
       "533           0.000000             1.0           -36.944124   \n",
       "500         489.153445            95.0          -395.725598   \n",
       "513         405.866018            70.0          -490.664191   \n",
       "519         521.151221           124.0          -408.322109   \n",
       "514         538.291165           147.0          -587.660883   \n",
       "542         247.693665            28.0          -269.965445   \n",
       "515         386.243666            79.0          -435.616935   \n",
       "501         231.015272            14.0          -257.820309   \n",
       "506         361.854568            28.0          -314.163241   \n",
       "518           0.000000             0.0             0.000000   \n",
       "504         417.565282            72.0          -431.134016   \n",
       "497         455.655904           100.0          -405.135887   \n",
       "516         625.748506           146.0          -578.313498   \n",
       "522         444.604753            99.0          -461.554546   \n",
       "499          85.358375             4.0          -151.974742   \n",
       "549         385.254465            91.0          -449.285799   \n",
       "498         388.537890           100.0          -475.196018   \n",
       "520         825.399491           335.0          -754.704679   \n",
       "521         343.861748           102.0          -328.408817   \n",
       "517         641.475945           183.0          -586.088072   \n",
       "540                NaN             NaN                  NaN   \n",
       "541                NaN             NaN                  NaN   \n",
       "543                NaN             NaN                  NaN   \n",
       "\n",
       "     Lucro_Médio_Trade  Lucro_%_Médio  Prejuízo_Médio_Trade  Prejuízo_%_Médio  \\\n",
       "527          10.957500       1.095750              2.846623          0.284662   \n",
       "534           4.805061       0.480506              2.909121          0.290912   \n",
       "523          15.039510       1.503951              6.542569          0.654257   \n",
       "509           8.796232       0.879623              7.101551          0.710155   \n",
       "545          19.086123       1.908612              8.488479          0.848848   \n",
       "495          10.294928       1.029493              6.626555          0.662656   \n",
       "544          53.522723       5.352272             48.747083          4.874708   \n",
       "548          10.576174       1.057617              3.666277          0.366628   \n",
       "532           5.818023       0.581802              4.069286          0.406929   \n",
       "508           9.960155       0.996016              4.730561          0.473056   \n",
       "535           3.533591       0.353359              2.636259          0.263626   \n",
       "507           6.661152       0.666115              4.563982          0.456398   \n",
       "502          11.834067       1.183407              7.591809          0.759181   \n",
       "511           5.098711       0.509871              8.596616          0.859662   \n",
       "526          18.010947       1.801095             27.016830          2.701683   \n",
       "539           6.544824       0.654482              8.968065          0.896806   \n",
       "524           5.557024       0.555702              5.226053          0.522605   \n",
       "510           5.098711       0.509871              8.596616          0.859662   \n",
       "537           0.000000       0.000000              0.000000          0.000000   \n",
       "530           4.840346       0.484035              7.314850          0.731485   \n",
       "536           6.296716       0.629672              5.874444          0.587444   \n",
       "512           3.616231       0.361623              4.320261          0.432026   \n",
       "528          45.725843       4.572584             16.616848          1.661685   \n",
       "505           9.061416       0.906142              9.515034          0.951503   \n",
       "525           6.470033       0.647003              2.942371          0.294237   \n",
       "529           2.302363       0.230236              7.157825          0.715783   \n",
       "503           5.925796       0.592580              9.192459          0.919246   \n",
       "547           0.000000       0.000000              0.000000          0.000000   \n",
       "496           6.523533       0.652353              8.103586          0.810359   \n",
       "538           4.856686       0.485669              3.489696          0.348970   \n",
       "546           0.363270       0.036327              3.730355          0.373035   \n",
       "531          11.260828       1.126083             72.423037          7.242304   \n",
       "533           0.000000       0.000000             36.944124          3.694412   \n",
       "500          10.633771       1.063377              4.165533          0.416553   \n",
       "513           6.057702       0.605770              7.009488          0.700949   \n",
       "519           8.985366       0.898537              3.292920          0.329292   \n",
       "514           5.126583       0.512658              3.997693          0.399769   \n",
       "542          13.036509       1.303651              9.641623          0.964162   \n",
       "515           5.016152       0.501615              5.514138          0.551414   \n",
       "501          10.044142       1.004414             18.415736          1.841574   \n",
       "506           8.041213       0.804121             11.220116          1.122012   \n",
       "518           0.000000       0.000000              0.000000          0.000000   \n",
       "504          10.184519       1.018452              5.987972          0.598797   \n",
       "497           6.328554       0.632855              4.051359          0.405136   \n",
       "516           4.776706       0.477671              3.961051          0.396105   \n",
       "522           9.073566       0.907357              4.662167          0.466217   \n",
       "499          21.339594       2.133959             37.993685          3.799369   \n",
       "549           9.172725       0.917273              4.937207          0.493721   \n",
       "498           6.585388       0.658539              4.751960          0.475196   \n",
       "520           3.893394       0.389339              2.252850          0.225285   \n",
       "521           7.017587       0.701759              3.219694          0.321969   \n",
       "517           5.885100       0.588510              3.202667          0.320267   \n",
       "540                NaN            NaN                   NaN               NaN   \n",
       "541                NaN            NaN                   NaN               NaN   \n",
       "543                NaN            NaN                   NaN               NaN   \n",
       "\n",
       "     Tempo_Simulacao Moeda CANDLE_PERIOD  \n",
       "527       644.937992   BTC           15m  \n",
       "534       620.324643   BTC           15m  \n",
       "523       365.448740   BTC           15m  \n",
       "509       183.053135   BTC           15m  \n",
       "545       120.485156   BTC           15m  \n",
       "495       116.413596   BTC           15m  \n",
       "544        97.918112   BTC           15m  \n",
       "548        86.122756   BTC           15m  \n",
       "532        67.608156   BTC           15m  \n",
       "508        63.007999   BTC           15m  \n",
       "535        18.107932   BTC           15m  \n",
       "507        16.874469   BTC           15m  \n",
       "502        15.089637   BTC           15m  \n",
       "511        14.565982   BTC           15m  \n",
       "526        14.485890   BTC           15m  \n",
       "539        13.848607   BTC           15m  \n",
       "524        13.128511   BTC           15m  \n",
       "510        12.867446   BTC           15m  \n",
       "537        12.784002   BTC           15m  \n",
       "530        12.486780   BTC           15m  \n",
       "536        12.438306   BTC           15m  \n",
       "512        11.853596   BTC           15m  \n",
       "528        11.832668   BTC           15m  \n",
       "505        11.770148   BTC           15m  \n",
       "525        11.578652   BTC           15m  \n",
       "529        11.050981   BTC           15m  \n",
       "503        11.023861   BTC           15m  \n",
       "547        10.826931   BTC           15m  \n",
       "496        10.771789   BTC           15m  \n",
       "538        10.337246   BTC           15m  \n",
       "546        10.254935   BTC           15m  \n",
       "531        10.010769   BTC           15m  \n",
       "533         9.781052   BTC           15m  \n",
       "500         9.671144   BTC           15m  \n",
       "513         9.660196   BTC           15m  \n",
       "519         8.996339   BTC           15m  \n",
       "514         8.928932   BTC           15m  \n",
       "542         8.771179   BTC           15m  \n",
       "515         8.290709   BTC           15m  \n",
       "501         8.075088   BTC           15m  \n",
       "506         7.848672   BTC           15m  \n",
       "518         7.579880   BTC           15m  \n",
       "504         7.324543   BTC           15m  \n",
       "497         7.233435   BTC           15m  \n",
       "516         6.729571   BTC           15m  \n",
       "522         6.420870   BTC           15m  \n",
       "499         6.363210   BTC           15m  \n",
       "549         6.146201   BTC           15m  \n",
       "498         6.001566   BTC           15m  \n",
       "520         5.640044   BTC           15m  \n",
       "521         5.591239   BTC           15m  \n",
       "517         5.198830   BTC           15m  \n",
       "540              NaN   BTC           15m  \n",
       "541              NaN   BTC           15m  \n",
       "543              NaN   BTC           15m  "
      ]
     },
     "execution_count": 19,
     "metadata": {},
     "output_type": "execute_result"
    }
   ],
   "source": [
    "df[df['Data_Fim'] == 2912].sort_values(by='Tempo_Simulacao', ascending=False)"
   ]
  },
  {
   "cell_type": "code",
   "execution_count": null,
   "id": "fbd47716",
   "metadata": {},
   "outputs": [],
   "source": []
  },
  {
   "cell_type": "code",
   "execution_count": null,
   "id": "9f7bc54d",
   "metadata": {},
   "outputs": [],
   "source": []
  },
  {
   "cell_type": "code",
   "execution_count": null,
   "id": "ea2ae10c",
   "metadata": {},
   "outputs": [],
   "source": []
  },
  {
   "cell_type": "code",
   "execution_count": null,
   "id": "d5b40980",
   "metadata": {},
   "outputs": [],
   "source": []
  },
  {
   "cell_type": "code",
   "execution_count": null,
   "id": "bb9a9ed7",
   "metadata": {},
   "outputs": [],
   "source": []
  },
  {
   "cell_type": "code",
   "execution_count": null,
   "id": "c8546154",
   "metadata": {},
   "outputs": [],
   "source": []
  },
  {
   "cell_type": "code",
   "execution_count": null,
   "id": "06e68cf0",
   "metadata": {},
   "outputs": [],
   "source": []
  },
  {
   "cell_type": "code",
   "execution_count": null,
   "id": "bac88fbb",
   "metadata": {},
   "outputs": [],
   "source": []
  }
 ],
 "metadata": {
  "kernelspec": {
   "display_name": "base",
   "language": "python",
   "name": "python3"
  },
  "language_info": {
   "codemirror_mode": {
    "name": "ipython",
    "version": 3
   },
   "file_extension": ".py",
   "mimetype": "text/x-python",
   "name": "python",
   "nbconvert_exporter": "python",
   "pygments_lexer": "ipython3",
   "version": "3.12.4"
  }
 },
 "nbformat": 4,
 "nbformat_minor": 5
}
